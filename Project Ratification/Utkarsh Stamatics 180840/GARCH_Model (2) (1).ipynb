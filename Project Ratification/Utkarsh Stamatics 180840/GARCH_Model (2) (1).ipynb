{
  "nbformat": 4,
  "nbformat_minor": 0,
  "metadata": {
    "colab": {
      "name": "GARCH_Model.ipynb",
      "provenance": [],
      "collapsed_sections": []
    },
    "kernelspec": {
      "name": "python3",
      "display_name": "Python 3"
    },
    "language_info": {
      "name": "python"
    }
  },
  "cells": [
    {
      "cell_type": "code",
      "metadata": {
        "id": "deWc6BhNEcqg",
        "colab": {
          "base_uri": "https://localhost:8080/"
        },
        "outputId": "43368d3c-bc7b-4882-dbd8-ce9f1842a983"
      },
      "source": [
        "import pandas as pd\n",
        "import numpy as np\n",
        "import os\n",
        "from sklearn.model_selection import train_test_split\n",
        "from scipy.stats import norm\n",
        "from keras.models import Sequential\n",
        "from keras.layers import Dense, Activation, LeakyReLU\n",
        "from keras import backend\n",
        "from keras.callbacks import TensorBoard\n",
        "from keras.optimizers import Adam\n",
        "!pip install arch\n",
        "from arch import arch_model"
      ],
      "execution_count": null,
      "outputs": [
        {
          "output_type": "stream",
          "text": [
            "Collecting arch\n",
            "\u001b[?25l  Downloading https://files.pythonhosted.org/packages/5f/a8/a85dad77039d2884547d4fb83d54edfc13a12e31981934d6d0fb6303b791/arch-4.19-cp37-cp37m-manylinux1_x86_64.whl (807kB)\n",
            "\u001b[K     |████████████████████████████████| 808kB 4.0MB/s \n",
            "\u001b[?25hRequirement already satisfied: pandas>=0.23 in /usr/local/lib/python3.7/dist-packages (from arch) (1.1.5)\n",
            "Collecting property-cached>=1.6.4\n",
            "  Downloading https://files.pythonhosted.org/packages/5c/6c/94d8e520b20a2502e508e1c558f338061cf409cbee78fd6a3a5c6ae812bd/property_cached-1.6.4-py2.py3-none-any.whl\n",
            "Requirement already satisfied: cython>=0.29.14 in /usr/local/lib/python3.7/dist-packages (from arch) (0.29.23)\n",
            "Requirement already satisfied: numpy>=1.14 in /usr/local/lib/python3.7/dist-packages (from arch) (1.19.5)\n",
            "Requirement already satisfied: scipy>=1.2.3 in /usr/local/lib/python3.7/dist-packages (from arch) (1.4.1)\n",
            "Requirement already satisfied: statsmodels>=0.10 in /usr/local/lib/python3.7/dist-packages (from arch) (0.10.2)\n",
            "Requirement already satisfied: python-dateutil>=2.7.3 in /usr/local/lib/python3.7/dist-packages (from pandas>=0.23->arch) (2.8.1)\n",
            "Requirement already satisfied: pytz>=2017.2 in /usr/local/lib/python3.7/dist-packages (from pandas>=0.23->arch) (2018.9)\n",
            "Requirement already satisfied: patsy>=0.4.0 in /usr/local/lib/python3.7/dist-packages (from statsmodels>=0.10->arch) (0.5.1)\n",
            "Requirement already satisfied: six>=1.5 in /usr/local/lib/python3.7/dist-packages (from python-dateutil>=2.7.3->pandas>=0.23->arch) (1.15.0)\n",
            "Installing collected packages: property-cached, arch\n",
            "Successfully installed arch-4.19 property-cached-1.6.4\n"
          ],
          "name": "stdout"
        },
        {
          "output_type": "stream",
          "text": [
            "/usr/local/lib/python3.7/dist-packages/statsmodels/tools/_testing.py:19: FutureWarning: pandas.util.testing is deprecated. Use the functions in the public API at pandas.testing instead.\n",
            "  import pandas.util.testing as tm\n"
          ],
          "name": "stderr"
        }
      ]
    },
    {
      "cell_type": "code",
      "metadata": {
        "id": "D7g26tvrFSk4"
      },
      "source": [
        "spot=pd.read_csv('/content/drive/MyDrive/black_scholes_option_pricing/spot_price/^NSEI.csv')\n",
        "spot['return']=spot['Adj Close'].pct_change(1)\n",
        "spot['volatility']=spot['return'].rolling(20).std()\n",
        "spot['volatility']=spot['volatility']*np.sqrt(252)\n",
        "spot.drop(['Open','High','Low' ,'Close','Volume'],axis=1,inplace=True)\n"
      ],
      "execution_count": null,
      "outputs": []
    },
    {
      "cell_type": "code",
      "metadata": {
        "id": "JWI7fPr0KQkV",
        "colab": {
          "base_uri": "https://localhost:8080/",
          "height": 450
        },
        "outputId": "ccd75aa7-1c81-47ef-cbe0-6e0064227aa8"
      },
      "source": [
        "del spot['Adj Close']\n",
        "del spot['volatility']\n",
        "spot.set_index('Date')\n"
      ],
      "execution_count": null,
      "outputs": [
        {
          "output_type": "execute_result",
          "data": {
            "text/html": [
              "<div>\n",
              "<style scoped>\n",
              "    .dataframe tbody tr th:only-of-type {\n",
              "        vertical-align: middle;\n",
              "    }\n",
              "\n",
              "    .dataframe tbody tr th {\n",
              "        vertical-align: top;\n",
              "    }\n",
              "\n",
              "    .dataframe thead th {\n",
              "        text-align: right;\n",
              "    }\n",
              "</style>\n",
              "<table border=\"1\" class=\"dataframe\">\n",
              "  <thead>\n",
              "    <tr style=\"text-align: right;\">\n",
              "      <th></th>\n",
              "      <th>return</th>\n",
              "    </tr>\n",
              "    <tr>\n",
              "      <th>Date</th>\n",
              "      <th></th>\n",
              "    </tr>\n",
              "  </thead>\n",
              "  <tbody>\n",
              "    <tr>\n",
              "      <th>2013-12-02</th>\n",
              "      <td>NaN</td>\n",
              "    </tr>\n",
              "    <tr>\n",
              "      <th>2013-12-03</th>\n",
              "      <td>-0.002573</td>\n",
              "    </tr>\n",
              "    <tr>\n",
              "      <th>2013-12-04</th>\n",
              "      <td>-0.006595</td>\n",
              "    </tr>\n",
              "    <tr>\n",
              "      <th>2013-12-05</th>\n",
              "      <td>0.013009</td>\n",
              "    </tr>\n",
              "    <tr>\n",
              "      <th>2013-12-06</th>\n",
              "      <td>0.003012</td>\n",
              "    </tr>\n",
              "    <tr>\n",
              "      <th>...</th>\n",
              "      <td>...</td>\n",
              "    </tr>\n",
              "    <tr>\n",
              "      <th>2020-12-23</th>\n",
              "      <td>0.010010</td>\n",
              "    </tr>\n",
              "    <tr>\n",
              "      <th>2020-12-24</th>\n",
              "      <td>0.010893</td>\n",
              "    </tr>\n",
              "    <tr>\n",
              "      <th>2020-12-28</th>\n",
              "      <td>0.009015</td>\n",
              "    </tr>\n",
              "    <tr>\n",
              "      <th>2020-12-29</th>\n",
              "      <td>0.004282</td>\n",
              "    </tr>\n",
              "    <tr>\n",
              "      <th>2020-12-30</th>\n",
              "      <td>0.003542</td>\n",
              "    </tr>\n",
              "  </tbody>\n",
              "</table>\n",
              "<p>1746 rows × 1 columns</p>\n",
              "</div>"
            ],
            "text/plain": [
              "              return\n",
              "Date                \n",
              "2013-12-02       NaN\n",
              "2013-12-03 -0.002573\n",
              "2013-12-04 -0.006595\n",
              "2013-12-05  0.013009\n",
              "2013-12-06  0.003012\n",
              "...              ...\n",
              "2020-12-23  0.010010\n",
              "2020-12-24  0.010893\n",
              "2020-12-28  0.009015\n",
              "2020-12-29  0.004282\n",
              "2020-12-30  0.003542\n",
              "\n",
              "[1746 rows x 1 columns]"
            ]
          },
          "metadata": {
            "tags": []
          },
          "execution_count": 29
        }
      ]
    },
    {
      "cell_type": "code",
      "metadata": {
        "id": "JVmqos4dKSHF",
        "colab": {
          "base_uri": "https://localhost:8080/",
          "height": 419
        },
        "outputId": "e8dccad6-ebc3-42ea-ffb3-b0636d44adb6"
      },
      "source": [
        "x=[]\n",
        "x=spot.iloc[1:]\n",
        "del x['Date']\n",
        "x"
      ],
      "execution_count": null,
      "outputs": [
        {
          "output_type": "execute_result",
          "data": {
            "text/html": [
              "<div>\n",
              "<style scoped>\n",
              "    .dataframe tbody tr th:only-of-type {\n",
              "        vertical-align: middle;\n",
              "    }\n",
              "\n",
              "    .dataframe tbody tr th {\n",
              "        vertical-align: top;\n",
              "    }\n",
              "\n",
              "    .dataframe thead th {\n",
              "        text-align: right;\n",
              "    }\n",
              "</style>\n",
              "<table border=\"1\" class=\"dataframe\">\n",
              "  <thead>\n",
              "    <tr style=\"text-align: right;\">\n",
              "      <th></th>\n",
              "      <th>return</th>\n",
              "    </tr>\n",
              "  </thead>\n",
              "  <tbody>\n",
              "    <tr>\n",
              "      <th>1</th>\n",
              "      <td>-0.002573</td>\n",
              "    </tr>\n",
              "    <tr>\n",
              "      <th>2</th>\n",
              "      <td>-0.006595</td>\n",
              "    </tr>\n",
              "    <tr>\n",
              "      <th>3</th>\n",
              "      <td>0.013009</td>\n",
              "    </tr>\n",
              "    <tr>\n",
              "      <th>4</th>\n",
              "      <td>0.003012</td>\n",
              "    </tr>\n",
              "    <tr>\n",
              "      <th>5</th>\n",
              "      <td>0.016614</td>\n",
              "    </tr>\n",
              "    <tr>\n",
              "      <th>...</th>\n",
              "      <td>...</td>\n",
              "    </tr>\n",
              "    <tr>\n",
              "      <th>1741</th>\n",
              "      <td>0.010010</td>\n",
              "    </tr>\n",
              "    <tr>\n",
              "      <th>1742</th>\n",
              "      <td>0.010893</td>\n",
              "    </tr>\n",
              "    <tr>\n",
              "      <th>1743</th>\n",
              "      <td>0.009015</td>\n",
              "    </tr>\n",
              "    <tr>\n",
              "      <th>1744</th>\n",
              "      <td>0.004282</td>\n",
              "    </tr>\n",
              "    <tr>\n",
              "      <th>1745</th>\n",
              "      <td>0.003542</td>\n",
              "    </tr>\n",
              "  </tbody>\n",
              "</table>\n",
              "<p>1745 rows × 1 columns</p>\n",
              "</div>"
            ],
            "text/plain": [
              "        return\n",
              "1    -0.002573\n",
              "2    -0.006595\n",
              "3     0.013009\n",
              "4     0.003012\n",
              "5     0.016614\n",
              "...        ...\n",
              "1741  0.010010\n",
              "1742  0.010893\n",
              "1743  0.009015\n",
              "1744  0.004282\n",
              "1745  0.003542\n",
              "\n",
              "[1745 rows x 1 columns]"
            ]
          },
          "metadata": {
            "tags": []
          },
          "execution_count": 30
        }
      ]
    },
    {
      "cell_type": "code",
      "metadata": {
        "colab": {
          "base_uri": "https://localhost:8080/"
        },
        "id": "tsBu9vvIMMd2",
        "outputId": "bd96769e-7245-4707-e0ec-f11d7e1ccedd"
      },
      "source": [
        "ans=[]\n",
        "\n",
        "model = arch_model(x.iloc[1:], mean='Constant', vol='GARCH', p=2, q=2)\n",
        "# fit model\n",
        "model_fit = model.fit()\n",
        "yhat = model_fit.forecast(horizon=1745)\n"
      ],
      "execution_count": null,
      "outputs": [
        {
          "output_type": "stream",
          "text": [
            "Iteration:      1,   Func. Count:      8,   Neg. LLF: -5747.374847209018\n",
            "Iteration:      2,   Func. Count:     24,   Neg. LLF: -5748.118292698517\n",
            "Optimization terminated successfully.    (Exit mode 0)\n",
            "            Current function value: -5748.118299596597\n",
            "            Iterations: 2\n",
            "            Function evaluations: 35\n",
            "            Gradient evaluations: 2\n"
          ],
          "name": "stdout"
        },
        {
          "output_type": "stream",
          "text": [
            "/usr/local/lib/python3.7/dist-packages/arch/univariate/base.py:317: DataScaleWarning: y is poorly scaled, which may affect convergence of the optimizer when\n",
            "estimating the model parameters. The scale of y is 0.0001175. Parameter\n",
            "estimation work better when this value is between 1 and 1000. The recommended\n",
            "rescaling is 100 * y.\n",
            "\n",
            "This warning can be disabled by either rescaling y before initializing the\n",
            "model or by setting rescale=False.\n",
            "\n",
            "  data_scale_warning.format(orig_scale, rescale), DataScaleWarning\n",
            "/usr/local/lib/python3.7/dist-packages/arch/__future__/_utility.py:21: FutureWarning: \n",
            "The default for reindex is True. After September 2021 this will change to\n",
            "False. Set reindex to True or False to silence this message. Alternatively,\n",
            "you can use the import comment\n",
            "\n",
            "from arch.__future__ import reindexing\n",
            "\n",
            "to globally set reindex to True and silence this warning.\n",
            "\n",
            "  FutureWarning,\n"
          ],
          "name": "stderr"
        }
      ]
    },
    {
      "cell_type": "code",
      "metadata": {
        "colab": {
          "base_uri": "https://localhost:8080/"
        },
        "id": "Jt8NOCozMt-O",
        "outputId": "187725f9-7c1c-46a9-91f0-09710447a3a7"
      },
      "source": [
        "yhat.variance.values[-1, :]"
      ],
      "execution_count": null,
      "outputs": [
        {
          "output_type": "execute_result",
          "data": {
            "text/plain": [
              "array([0.00010232, 0.00010126, 0.00010211, ..., 0.00011749, 0.00011749,\n",
              "       0.00011749])"
            ]
          },
          "metadata": {
            "tags": []
          },
          "execution_count": 32
        }
      ]
    },
    {
      "cell_type": "code",
      "metadata": {
        "colab": {
          "base_uri": "https://localhost:8080/"
        },
        "id": "1hXdCcYAMyRC",
        "outputId": "7e3aa0f7-64c2-4a3f-ce18-a37ab3152b7c"
      },
      "source": [
        "print(ans)\n",
        "x.iloc[20:30]"
      ],
      "execution_count": null,
      "outputs": [
        {
          "output_type": "stream",
          "text": [
            "[array([0.13129383]), array([0.1298931]), array([0.12696977]), array([0.12296559]), array([0.12699555]), array([0.1344459]), array([0.13596803]), array([0.13790936]), array([0.1395666]), array([0.14051668]), array([0.12205179]), array([0.12240347]), array([0.11388044]), array([0.12351116]), array([0.12823164]), array([0.12499988]), array([0.13263089]), array([0.13283]), array([0.13631688]), array([0.13630479]), array([0.11760739]), array([0.11667405]), array([0.11720267]), array([0.11802117]), array([0.12112449]), array([0.11969347]), array([0.1166622]), array([0.11502242]), array([0.12735297]), array([0.13057737]), array([0.12633258]), array([0.12693164]), array([0.12962337]), array([0.11570904]), array([0.11485731]), array([0.11496084]), array([0.11594071]), array([0.11616891]), array([0.11104713]), array([0.11365149]), array([0.11597112]), array([0.11322206]), array([0.11717709]), array([0.11518351]), array([0.10363415]), array([0.09859726]), array([0.09770472]), array([0.09415083]), array([0.07421763]), array([0.0746012]), array([0.08431589]), array([0.08480649]), array([0.08780673]), array([0.09218049]), array([0.09935342]), array([0.11058655]), array([0.10591964]), array([0.10692995]), array([0.10519298]), array([0.09780957]), array([0.10076071]), array([0.10452413]), array([0.10782901]), array([0.10375335]), array([0.10680202]), array([0.10565645]), array([0.10434406]), array([0.10938213]), array([0.10887282]), array([0.14447683]), array([0.15900495]), array([0.16533903]), array([0.16606634]), array([0.16471051]), array([0.16001036]), array([0.15484667]), array([0.1546391]), array([0.1558359]), array([0.15500123]), array([0.16176628]), array([0.15396541]), array([0.15642735]), array([0.15008798]), array([0.16251808]), array([0.16270335]), array([0.16809577]), array([0.16564353]), array([0.15994928]), array([0.1579936]), array([0.15065049]), array([0.12743587]), array([0.11870547]), array([0.12222642]), array([0.12248875]), array([0.1359536]), array([0.13351147]), array([0.13897505]), array([0.14190366]), array([0.14575712]), array([0.1382219]), array([0.13722758]), array([0.14044017]), array([0.14176027]), array([0.13911613]), array([0.13767286]), array([0.13172248]), array([0.13193086]), array([0.13585435]), array([0.13509713]), array([0.12734223]), array([0.12417179]), array([0.14324766]), array([0.14375637]), array([0.14133789]), array([0.14341343]), array([0.14373674]), array([0.1400564]), array([0.1389448]), array([0.14050338]), array([0.13995811]), array([0.14346943]), array([0.14256377]), array([0.14187076]), array([0.13601798]), array([0.14153514]), array([0.13851182]), array([0.1391701]), array([0.13684423]), array([0.14335366]), array([0.14473394]), array([0.1480179]), array([0.13919605]), array([0.13552642]), array([0.13919474]), array([0.13234871]), array([0.13523099]), array([0.13325722]), array([0.13318096]), array([0.13925416]), array([0.13358375]), array([0.1349634]), array([0.12948113]), array([0.13068516]), array([0.12975734]), array([0.127029]), array([0.12407091]), array([0.12321523]), array([0.12051874]), array([0.10834133]), array([0.09998744]), array([0.09586816]), array([0.08612957]), array([0.08773369]), array([0.07522524]), array([0.0804473]), array([0.07720659]), array([0.07418678]), array([0.08016259]), array([0.09144405]), array([0.09316596]), array([0.10940788]), array([0.10917961]), array([0.106702]), array([0.12193262]), array([0.12180993]), array([0.12961868]), array([0.13325728]), array([0.13198562]), array([0.12821974]), array([0.12650292]), array([0.13210404]), array([0.13214298]), array([0.13806836]), array([0.14420694]), array([0.14377198]), array([0.14364071]), array([0.14234822]), array([0.14767429]), array([0.14456343]), array([0.15008651]), array([0.13814472]), array([0.14077326]), array([0.14043612]), array([0.13242029]), array([0.13164597]), array([0.13084053]), array([0.1387902]), array([0.14199781]), array([0.14220577]), array([0.1445401]), array([0.13764458]), array([0.12782801]), array([0.12699378]), array([0.11215159]), array([0.11134359]), array([0.10704654]), array([0.1069559]), array([0.08961092]), array([0.08784185]), array([0.08358435]), array([0.0833807]), array([0.09133973]), array([0.09185679]), array([0.09113789]), array([0.09448708]), array([0.09411313]), array([0.07369157]), array([0.07390581]), array([0.07292907]), array([0.07519238]), array([0.08713546]), array([0.09477671]), array([0.09453198]), array([0.09697139]), array([0.09618541]), array([0.09607109]), array([0.11727562]), array([0.11720988]), array([0.13388007]), array([0.13297643]), array([0.13996067]), array([0.13938652]), array([0.14354076]), array([0.14399121]), array([0.13800242]), array([0.1378774]), array([0.13863126]), array([0.13777993]), array([0.14674226]), array([0.148586]), array([0.17667444]), array([0.17321796]), array([0.18303367]), array([0.18142352]), array([0.18139717]), array([0.18135221]), array([0.17241443]), array([0.18449818]), array([0.18457288]), array([0.18061826]), array([0.18370655]), array([0.18187466]), array([0.17408949]), array([0.1762835]), array([0.17474373]), array([0.17731879]), array([0.17872758]), array([0.18546384]), array([0.17841735]), array([0.17705846]), array([0.18712235]), array([0.15983653]), array([0.14754562]), array([0.15881208]), array([0.15772306]), array([0.15418179]), array([0.15355545]), array([0.13039246]), array([0.13184828]), array([0.13372705]), array([0.12247538]), array([0.12248483]), array([0.12461337]), array([0.12088726]), array([0.11742774]), array([0.11954708]), array([0.13744758]), array([0.1257028]), array([0.13096053]), array([0.13220218]), array([0.13777579]), array([0.13253492]), array([0.14752727]), array([0.13973162]), array([0.14008236]), array([0.13988204]), array([0.14830142]), array([0.14639528]), array([0.14894168]), array([0.15005089]), array([0.14911572]), array([0.14957295]), array([0.14719175]), array([0.14699869]), array([0.14562334]), array([0.15346634]), array([0.15231657]), array([0.14652983]), array([0.15702923]), array([0.1487964]), array([0.15494149]), array([0.15706583]), array([0.15518979]), array([0.15727435]), array([0.14674955]), array([0.14926627]), array([0.14958558]), array([0.15141749]), array([0.14695366]), array([0.14498744]), array([0.15836771]), array([0.15264988]), array([0.15762691]), array([0.15467662]), array([0.16293809]), array([0.15048289]), array([0.15122081]), array([0.14185083]), array([0.15074728]), array([0.15304928]), array([0.16108861]), array([0.16915764]), array([0.17534113]), array([0.18193583]), array([0.19835377]), array([0.2063937]), array([0.21260959]), array([0.21194749]), array([0.21423637]), array([0.2080513]), array([0.20301685]), array([0.20198502]), array([0.20133165]), array([0.20207424]), array([0.1981853]), array([0.19564536]), array([0.19576562]), array([0.19858675]), array([0.19123536]), array([0.20790573]), array([0.19385125]), array([0.19085342]), array([0.18124889]), array([0.16743115]), array([0.14619813]), array([0.14012336]), array([0.15813353]), array([0.15690901]), array([0.14681411]), array([0.14832155]), array([0.1487061]), array([0.15462083]), array([0.15564117]), array([0.16144124]), array([0.16530036]), array([0.16212048]), array([0.16135837]), array([0.15285326]), array([0.15551837]), array([0.13766346]), array([0.14102504]), array([0.13807645]), array([0.13172598]), array([0.12277622]), array([0.12095333]), array([0.1368145]), array([0.11811077]), array([0.11148408]), array([0.11664195]), array([0.11751821]), array([0.11996096]), array([0.11939487]), array([0.11842902]), array([0.10693031]), array([0.11277842]), array([0.11795176]), array([0.11775953]), array([0.12090709]), array([0.12983577]), array([0.13356173]), array([0.13213415]), array([0.13385711]), array([0.14045487]), array([0.14068018]), array([0.14240428]), array([0.12777368]), array([0.12754621]), array([0.12807767]), array([0.12214082]), array([0.12748277]), array([0.13344152]), array([0.12706451]), array([0.14403125]), array([0.14339779]), array([0.1391734]), array([0.13728317]), array([0.14292057]), array([0.14355822]), array([0.23301007]), array([0.24857061]), array([0.25187424]), array([0.26495618]), array([0.25829496]), array([0.25738973]), array([0.26690501]), array([0.26402839]), array([0.27056838]), array([0.27654832]), array([0.28149289]), array([0.2927383]), array([0.29885847]), array([0.29971036]), array([0.29007436]), array([0.2948863]), array([0.29344217]), array([0.29536872]), array([0.29636997]), array([0.29308831]), array([0.22931223]), array([0.2228128]), array([0.21341661]), array([0.19889104]), array([0.19748217]), array([0.20409483]), array([0.18144447]), array([0.19295998]), array([0.18752182]), array([0.16435903]), array([0.15760695]), array([0.14995941]), array([0.14415606]), array([0.14300759]), array([0.14411043]), array([0.14341862]), array([0.14170042]), array([0.13912896]), array([0.13491017]), array([0.13782427]), array([0.1135852]), array([0.11206576]), array([0.11431217]), array([0.11268895]), array([0.11636202]), array([0.11161943]), array([0.11080247]), array([0.09283839]), array([0.08246734]), array([0.08682717]), array([0.08453653]), array([0.07887485]), array([0.09641792]), array([0.09290321]), array([0.10007825]), array([0.09315199]), array([0.09614661]), array([0.1094303]), array([0.10998078]), array([0.11015266]), array([0.10723628]), array([0.10368364]), array([0.11216982]), array([0.1123568]), array([0.11292178]), array([0.11305793]), array([0.11673173]), array([0.12117119]), array([0.12139866]), array([0.11982459]), array([0.12407698]), array([0.1292661]), array([0.12211039]), array([0.12418146]), array([0.12580431]), array([0.12394747]), array([0.12356174]), array([0.11972854]), array([0.12345803]), array([0.12357697]), array([0.12703275]), array([0.12705588]), array([0.12796386]), array([0.12739263]), array([0.12753911]), array([0.12726346]), array([0.12662104]), array([0.1339165]), array([0.13534148]), array([0.13730321]), array([0.14934473]), array([0.1520047]), array([0.15224671]), array([0.1510859]), array([0.15034034]), array([0.1482512]), array([0.14506143]), array([0.14524479]), array([0.14594882]), array([0.15406726]), array([0.15086213]), array([0.16102416]), array([0.16553819]), array([0.1636365]), array([0.16297632]), array([0.17382892]), array([0.179962]), array([0.1760919]), array([0.17821968]), array([0.17983405]), array([0.17249564]), array([0.171602]), array([0.17630845]), array([0.18016916]), array([0.20305804]), array([0.20600207]), array([0.22783302]), array([0.23420078]), array([0.23265877]), array([0.23249024]), array([0.23083007]), array([0.21679647]), array([0.22372391]), array([0.22614342]), array([0.22728626]), array([0.21620813]), array([0.21591374]), array([0.25171225]), array([0.25841597]), array([0.2611098]), array([0.25496305]), array([0.24986062]), array([0.24523553]), array([0.24451941]), array([0.21748917]), array([0.21608623]), array([0.20666084]), array([0.1979447]), array([0.18995195]), array([0.19185872]), array([0.19476269]), array([0.19229878]), array([0.17380661]), array([0.17534017]), array([0.1701518]), array([0.17915816]), array([0.17388291]), array([0.13871509]), array([0.12387493]), array([0.14234293]), array([0.13932863]), array([0.14397585]), array([0.14052491]), array([0.15135527]), array([0.15301855]), array([0.16281317]), array([0.15838393]), array([0.15724951]), array([0.15869591]), array([0.15437526]), array([0.14737985]), array([0.15679656]), array([0.15334173]), array([0.16042485]), array([0.16008164]), array([0.15467587]), array([0.15346822]), array([0.15397713]), array([0.15465489]), array([0.14799607]), array([0.15103251]), array([0.1486454]), array([0.14380482]), array([0.13964144]), array([0.1381008]), array([0.13568207]), array([0.12590121]), array([0.12576127]), array([0.12629971]), array([0.12967318]), array([0.12942862]), array([0.12161225]), array([0.13791493]), array([0.14228268]), array([0.14674281]), array([0.14656158]), array([0.14413841]), array([0.14165249]), array([0.13560934]), array([0.13890849]), array([0.13360412]), array([0.13976453]), array([0.13446738]), array([0.13732877]), array([0.13585876]), array([0.1411351]), array([0.14262081]), array([0.14174424]), array([0.14017505]), array([0.13467444]), array([0.13388901]), array([0.13354341]), array([0.117809]), array([0.09525877]), array([0.12266468]), array([0.12150032]), array([0.12164865]), array([0.12541101]), array([0.12852466]), array([0.13030894]), array([0.13102945]), array([0.12921012]), array([0.12147401]), array([0.12019782]), array([0.12552746]), array([0.12383735]), array([0.12462676]), array([0.12204155]), array([0.12581446]), array([0.12736892]), array([0.12544879]), array([0.1262376]), array([0.12846104]), array([0.12718495]), array([0.1046017]), array([0.10240838]), array([0.09911608]), array([0.09463619]), array([0.09252143]), array([0.0919443]), array([0.0918091]), array([0.09829358]), array([0.09861343]), array([0.10900675]), array([0.09367207]), array([0.09279906]), array([0.10389618]), array([0.09932397]), array([0.10143984]), array([0.09933438]), array([0.10165902]), array([0.10044849]), array([0.10049098]), array([0.10266632]), array([0.0961408]), array([0.09781102]), array([0.09701245]), array([0.10161159]), array([0.09661338]), array([0.10199254]), array([0.104707]), array([0.10223246]), array([0.1027966]), array([0.10274685]), array([0.10193546]), array([0.10232749]), array([0.09617177]), array([0.11556809]), array([0.11438512]), array([0.11481989]), array([0.11544557]), array([0.11533452]), array([0.11609715]), array([0.11435901]), array([0.12253887]), array([0.12312666]), array([0.12696427]), array([0.12755421]), array([0.12878085]), array([0.13138818]), array([0.13096603]), array([0.14108359]), array([0.14116442]), array([0.13205868]), array([0.13461804]), array([0.13105547]), array([0.12525648]), array([0.12297028]), array([0.12375177]), array([0.12631396]), array([0.14071144]), array([0.14054244]), array([0.13863698]), array([0.13683288]), array([0.13235096]), array([0.13151309]), array([0.12968027]), array([0.13076229]), array([0.1364369]), array([0.12032671]), array([0.13154028]), array([0.12266888]), array([0.12040812]), array([0.12130064]), array([0.12126582]), array([0.12860826]), array([0.13462403]), array([0.14961072]), array([0.16497068]), array([0.16835159]), array([0.14806665]), array([0.14882831]), array([0.15347367]), array([0.1627917]), array([0.16490932]), array([0.16555963]), array([0.18506611]), array([0.1855046]), array([0.18459529]), array([0.19004025]), array([0.18544651]), array([0.18896981]), array([0.19171136]), array([0.18963651]), array([0.18823416]), array([0.19456645]), array([0.18902649]), array([0.1680668]), array([0.15244807]), array([0.15360823]), array([0.15377984]), array([0.15719668]), array([0.13584725]), array([0.13130955]), array([0.1311437]), array([0.13231806]), array([0.11324214]), array([0.1172149]), array([0.13358832]), array([0.1259029]), array([0.13333586]), array([0.12780414]), array([0.12592367]), array([0.12617352]), array([0.12360487]), array([0.11610359]), array([0.11328607]), array([0.10854853]), array([0.10996148]), array([0.11180188]), array([0.11088763]), array([0.10878513]), array([0.10621386]), array([0.10690517]), array([0.1054768]), array([0.09463025]), array([0.10022413]), array([0.09913481]), array([0.08948962]), array([0.09454566]), array([0.09390216]), array([0.09225697]), array([0.09638445]), array([0.10755744]), array([0.11006084]), array([0.10975456]), array([0.10812751]), array([0.10844227]), array([0.1045734]), array([0.1026843]), array([0.10509675]), array([0.10388883]), array([0.10759268]), array([0.11121678]), array([0.1121294]), array([0.1129753]), array([0.10487624]), array([0.10504146]), array([0.10388638]), array([0.09430142]), array([0.09687379]), array([0.09493611]), array([0.08620173]), array([0.0663524]), array([0.06651582]), array([0.07087124]), array([0.06732416]), array([0.0667244]), array([0.06679102]), array([0.06716879]), array([0.09003783]), array([0.08928759]), array([0.0909654]), array([0.08416234]), array([0.08452834]), array([0.08337129]), array([0.08672185]), array([0.08938992]), array([0.0893664]), array([0.0975869]), array([0.09706611]), array([0.09678687]), array([0.09474351]), array([0.09223195]), array([0.09511597]), array([0.0932409]), array([0.09265562]), array([0.09417965]), array([0.09366896]), array([0.0974341]), array([0.08498873]), array([0.08712625]), array([0.08288364]), array([0.08282987]), array([0.08081597]), array([0.08028142]), array([0.07297255]), array([0.0745566]), array([0.08314259]), array([0.08027627]), array([0.07881262]), array([0.07967496]), array([0.07943705]), array([0.07779423]), array([0.07617459]), array([0.08010209]), array([0.08123332]), array([0.07807114]), array([0.07871452]), array([0.07931483]), array([0.07766554]), array([0.0797239]), array([0.08251942]), array([0.07975244]), array([0.08037902]), array([0.0825503]), array([0.08327836]), array([0.08273519]), array([0.07882841]), array([0.08765121]), array([0.09311345]), array([0.0908968]), array([0.08959956]), array([0.0972223]), array([0.09808427]), array([0.09172158]), array([0.09061497]), array([0.0921958]), array([0.089225]), array([0.08874888]), array([0.0873053]), array([0.09139415]), array([0.08526471]), array([0.09179029]), array([0.08481494]), array([0.0844628]), array([0.08470509]), array([0.08067245]), array([0.07752723]), array([0.06154895]), array([0.04987016]), array([0.0566359]), array([0.05562975]), array([0.05455149]), array([0.05580573]), array([0.06654618]), array([0.06580519]), array([0.06503765]), array([0.06594738]), array([0.06554624]), array([0.07457919]), array([0.06847149]), array([0.06941305]), array([0.0752025]), array([0.06844056]), array([0.07043892]), array([0.07833365]), array([0.08096812]), array([0.0832482]), array([0.08369187]), array([0.08043563]), array([0.07410708]), array([0.07307942]), array([0.07226261]), array([0.07485434]), array([0.07083369]), array([0.07119906]), array([0.07289274]), array([0.08032555]), array([0.08034902]), array([0.07314146]), array([0.07865339]), array([0.08198508]), array([0.08451349]), array([0.08909633]), array([0.09831349]), array([0.10156564]), array([0.09742161]), array([0.10090795]), array([0.10379385]), array([0.10176041]), array([0.10768319]), array([0.10503887]), array([0.10757729]), array([0.11491081]), array([0.11719475]), array([0.11771565]), array([0.11928742]), array([0.11875104]), array([0.11817647]), array([0.11889236]), array([0.11576532]), array([0.11312077]), array([0.10989454]), array([0.10323967]), array([0.10136465]), array([0.0963125]), array([0.0955694]), array([0.09246074]), array([0.08379441]), array([0.08424312]), array([0.08093376]), array([0.10295832]), array([0.10609654]), array([0.0981438]), array([0.10364638]), array([0.10326192]), array([0.09945408]), array([0.09919223]), array([0.09986008]), array([0.09874311]), array([0.10704639]), array([0.10597261]), array([0.10504784]), array([0.10022522]), array([0.10885213]), array([0.1105764]), array([0.11263406]), array([0.11018753]), array([0.11259341]), array([0.11360979]), array([0.11494843]), array([0.10484601]), array([0.09770286]), array([0.09629525]), array([0.07319105]), array([0.07384137]), array([0.07722627]), array([0.0806075]), array([0.08135906]), array([0.07892184]), array([0.07538724]), array([0.08797724]), array([0.08971598]), array([0.08732345]), array([0.07954191]), array([0.08468062]), array([0.08171724]), array([0.08421635]), array([0.09065194]), array([0.08813473]), array([0.08897278]), array([0.09029526]), array([0.08739786]), array([0.08698141]), array([0.08825854]), array([0.08551707]), array([0.08797326]), array([0.08052767]), array([0.087367]), array([0.091795]), array([0.09299588]), array([0.09033827]), array([0.08847009]), array([0.09380411]), array([0.10440317]), array([0.1014935]), array([0.10728208]), array([0.10726621]), array([0.10295767]), array([0.10473091]), array([0.10598367]), array([0.10720855]), array([0.10812275]), array([0.1089513]), array([0.10966278]), array([0.11017113]), array([0.11064845]), array([0.11071517]), array([0.10056568]), array([0.09278312]), array([0.0988993]), array([0.09977938]), array([0.09264511]), array([0.08486514]), array([0.08083054]), array([0.07877962]), array([0.07041734]), array([0.06577108]), array([0.06442146]), array([0.06216092]), array([0.06404156]), array([0.06586643]), array([0.06486891]), array([0.06737451]), array([0.06850929]), array([0.07470721]), array([0.07112892]), array([0.07155289]), array([0.07170641]), array([0.07888767]), array([0.0695824]), array([0.06994581]), array([0.08237495]), array([0.1100678]), array([0.13086544]), array([0.13139604]), array([0.13725149]), array([0.1425356]), array([0.14589648]), array([0.14398324]), array([0.14418447]), array([0.14221986]), array([0.14375558]), array([0.13733886]), array([0.13516385]), array([0.12489172]), array([0.13571091]), array([0.14248042]), array([0.13961782]), array([0.13932158]), array([0.14134665]), array([0.14115765]), array([0.12992664]), array([0.12682374]), array([0.12338766]), array([0.1223672]), array([0.13367321]), array([0.12963179]), array([0.1226575]), array([0.12419159]), array([0.12900738]), array([0.13321873]), array([0.13415305]), array([0.13135018]), array([0.12921729]), array([0.13200846]), array([0.13456468]), array([0.13362478]), array([0.13624187]), array([0.14415398]), array([0.14521597]), array([0.1479609]), array([0.15782431]), array([0.15443966]), array([0.15678095]), array([0.15432769]), array([0.13836586]), array([0.14015769]), array([0.13886381]), array([0.13812349]), array([0.12758793]), array([0.11776978]), array([0.11696746]), array([0.11712784]), array([0.11360881]), array([0.10061912]), array([0.09590885]), array([0.09562763]), array([0.09084013]), array([0.08740018]), array([0.08891777]), array([0.07731381]), array([0.05220192]), array([0.0608485]), array([0.05766629]), array([0.05802936]), array([0.06083405]), array([0.06557594]), array([0.06552594]), array([0.06515171]), array([0.06965415]), array([0.07209864]), array([0.07772565]), array([0.08232681]), array([0.08253533]), array([0.08685165]), array([0.08822439]), array([0.09361937]), array([0.09600824]), array([0.0984361]), array([0.09931145]), array([0.10621148]), array([0.10571686]), array([0.10293165]), array([0.10301276]), array([0.10767152]), array([0.11140568]), array([0.10655547]), array([0.10628811]), array([0.10829622]), array([0.10565132]), array([0.10544661]), array([0.10041273]), array([0.09740823]), array([0.10127464]), array([0.09748265]), array([0.0961943]), array([0.09343312]), array([0.09030995]), array([0.08776649]), array([0.09390575]), array([0.08880211]), array([0.09399675]), array([0.09774233]), array([0.09744619]), array([0.09556911]), array([0.09313955]), array([0.09169585]), array([0.09239115]), array([0.09596487]), array([0.09657206]), array([0.09681988]), array([0.09611962]), array([0.09806907]), array([0.09885844]), array([0.09927881]), array([0.09902928]), array([0.09802834]), array([0.09748993]), array([0.09685899]), array([0.09131551]), array([0.08270708]), array([0.07626137]), array([0.07024263]), array([0.0701751]), array([0.07018156]), array([0.08140662]), array([0.08607888]), array([0.08408686]), array([0.08136447]), array([0.08159017]), array([0.0800927]), array([0.08111172]), array([0.07858808]), array([0.07859395]), array([0.08163456]), array([0.08215474]), array([0.08307647]), array([0.08232095]), array([0.08198649]), array([0.08348005]), array([0.08909608]), array([0.085272]), array([0.08657219]), array([0.08798355]), array([0.08790968]), array([0.08706387]), array([0.08492342]), array([0.08469487]), array([0.08640555]), array([0.08650571]), array([0.09466652]), array([0.10884679]), array([0.10942529]), array([0.11742685]), array([0.12444527]), array([0.12475333]), array([0.12161557]), array([0.1234068]), array([0.13203385]), array([0.13891859]), array([0.12909859]), array([0.12701269]), array([0.12648839]), array([0.13175695]), array([0.13667675]), array([0.15412755]), array([0.17318181]), array([0.17441307]), array([0.16868789]), array([0.18409887]), array([0.19248185]), array([0.21561074]), array([0.21353522]), array([0.20826871]), array([0.20863331]), array([0.21139103]), array([0.21039107]), array([0.21107212]), array([0.21109864]), array([0.20596422]), array([0.20657228]), array([0.22745347]), array([0.22631249]), array([0.23546408]), array([0.23302174]), array([0.22676637]), array([0.20915409]), array([0.20763905]), array([0.20821592]), array([0.20250875]), array([0.1885027]), array([0.16716697]), array([0.16687933]), array([0.16578183]), array([0.15962443]), array([0.15004744]), array([0.15392539]), array([0.15028097]), array([0.15287]), array([0.14904378]), array([0.142233]), array([0.12379521]), array([0.12638051]), array([0.11247421]), array([0.11129203]), array([0.09906838]), array([0.10305619]), array([0.12396081]), array([0.12642511]), array([0.14280086]), array([0.14035395]), array([0.14926374]), array([0.14989412]), array([0.1456637]), array([0.1462218]), array([0.14368901]), array([0.14021422]), array([0.14281834]), array([0.15675421]), array([0.15758108]), array([0.15828218]), array([0.15839296]), array([0.15423783]), array([0.15381577]), array([0.15365929]), array([0.15487115]), array([0.15853789]), array([0.15321063]), array([0.14773794]), array([0.14040181]), array([0.12575314]), array([0.10660328]), array([0.10559718]), array([0.10719491]), array([0.11759023]), array([0.1168245]), array([0.11509663]), array([0.11496731]), array([0.09322491]), array([0.08842974]), array([0.09312528]), array([0.09198819]), array([0.09138912]), array([0.09883892]), array([0.09726076]), array([0.09383825]), array([0.10410051]), array([0.1043167]), array([0.10639614]), array([0.1075965]), array([0.11244717]), array([0.10871531]), array([0.11518287]), array([0.11504051]), array([0.10647552]), array([0.11108277]), array([0.11081251]), array([0.11593856]), array([0.11401674]), array([0.12315887]), array([0.12110094]), array([0.12225177]), array([0.12373612]), array([0.1170832]), array([0.11735738]), array([0.12039904]), array([0.10900295]), array([0.1133753]), array([0.11297166]), array([0.11265546]), array([0.11455224]), array([0.11600814]), array([0.11370889]), array([0.11127196]), array([0.10559447]), array([0.10065786]), array([0.09731035]), array([0.08866114]), array([0.08412703]), array([0.08496823]), array([0.0956966]), array([0.09997302]), array([0.10087696]), array([0.10222401]), array([0.1002981]), array([0.09887296]), array([0.10336938]), array([0.1011617]), array([0.1008772]), array([0.10509087]), array([0.1041425]), array([0.10443868]), array([0.0976442]), array([0.0979158]), array([0.10034699]), array([0.10125369]), array([0.10199492]), array([0.10941367]), array([0.10896233]), array([0.11421119]), array([0.11427316]), array([0.11292358]), array([0.11247168]), array([0.10799495]), array([0.10735232]), array([0.11086154]), array([0.11377059]), array([0.11882331]), array([0.11674719]), array([0.11587173]), array([0.11671863]), array([0.11793964]), array([0.11888532]), array([0.12319553]), array([0.13235209]), array([0.19083108]), array([0.19394758]), array([0.18754539]), array([0.18931217]), array([0.19238077]), array([0.19138829]), array([0.18886313]), array([0.1895897]), array([0.18990218]), array([0.19011225]), array([0.19292107]), array([0.19006659]), array([0.1929996]), array([0.19053707]), array([0.18834843]), array([0.18084406]), array([0.18462567]), array([0.18260933]), array([0.18802705]), array([0.18607372]), array([0.18001767]), array([0.12299349]), array([0.1298921]), array([0.13269203]), array([0.11842701]), array([0.12018511]), array([0.12073817]), array([0.11880054]), array([0.11735655]), array([0.12045172]), array([0.10920096]), array([0.10810354]), array([0.09495816]), array([0.10257363]), array([0.12789482]), array([0.12256304]), array([0.12220393]), array([0.12722747]), array([0.12039207]), array([0.11980313]), array([0.12102771]), array([0.11724605]), array([0.10788077]), array([0.12268952]), array([0.12583214]), array([0.1190409]), array([0.11823462]), array([0.11928221]), array([0.12182844]), array([0.11960388]), array([0.11862142]), array([0.11913987]), array([0.12047085]), array([0.11718228]), array([0.11086515]), array([0.1123036]), array([0.10936449]), array([0.11909556]), array([0.12505191]), array([0.13367454]), array([0.13815483]), array([0.13924488]), array([0.13911391]), array([0.13110485]), array([0.13246371]), array([0.14383822]), array([0.14833606]), array([0.16963012]), array([0.17009699]), array([0.16830019]), array([0.16752423]), array([0.16936844]), array([0.17926267]), array([0.180833]), array([0.17562519]), array([0.1763848]), array([0.1740949]), array([0.16224025]), array([0.16080687]), array([0.1523788]), array([0.15168063]), array([0.16507607]), array([0.16539942]), array([0.16937386]), array([0.21384671]), array([0.24219479]), array([0.25671406]), array([0.25564848]), array([0.25976338]), array([0.2594649]), array([0.25648623]), array([0.26002766]), array([0.24827187]), array([0.25420642]), array([0.26031126]), array([0.26408612]), array([0.26301245]), array([0.26604523]), array([0.26146609]), array([0.26128768]), array([0.25906183]), array([0.25269039]), array([0.25892584]), array([0.25582068]), array([0.16280557]), array([0.1264849]), array([0.12651741]), array([0.11731396]), array([0.12690156]), array([0.12592058]), array([0.12545591]), array([0.11690225]), array([0.11494741]), array([0.10152842]), array([0.09778425]), array([0.0850453]), array([0.08810509]), array([0.08798239]), array([0.09381368]), array([0.0916734]), array([0.09174769]), array([0.08676937]), array([0.08652706]), array([0.08292889]), array([0.08248939]), array([0.08475125]), array([0.09550911]), array([0.09666524]), array([0.07905003]), array([0.07862939]), array([0.08468438]), array([0.08679369]), array([0.08716795]), array([0.08448149]), array([0.08311787]), array([0.08389449]), array([0.08153183]), array([0.08625499]), array([0.08407478]), array([0.08598079]), array([0.08546459]), array([0.08432297]), array([0.08613881]), array([0.09141956]), array([0.09344254]), array([0.09252296]), array([0.08601249]), array([0.08575938]), array([0.08791273]), array([0.09223611]), array([0.0873884]), array([0.08928888]), array([0.08962314]), array([0.09366977]), array([0.09250368]), array([0.10467697]), array([0.11037069]), array([0.1069586]), array([0.12223412]), array([0.12375531]), array([0.12036827]), array([0.11981238]), array([0.11596074]), array([0.11556862]), array([0.11516818]), array([0.12238734]), array([0.12365326]), array([0.12376064]), array([0.12348064]), array([0.11918602]), array([0.12444297]), array([0.12306589]), array([0.12508521]), array([0.12468871]), array([0.12374384]), array([0.12546996]), array([0.14886242]), array([0.15896335]), array([0.14741715]), array([0.14899681]), array([0.1460792]), array([0.14806723]), array([0.15121183]), array([0.15077816]), array([0.15158128]), array([0.14871588]), array([0.15071023]), array([0.15412407]), array([0.15181046]), array([0.16647829]), array([0.16223976]), array([0.16462316]), array([0.16179246]), array([0.19246496]), array([0.19632085]), array([0.20556786]), array([0.18981918]), array([0.17996967]), array([0.19411922]), array([0.23178708]), array([0.23703617]), array([0.3645715]), array([0.4001144]), array([0.46294885]), array([0.46393793]), array([0.48509996]), array([0.48377202]), array([0.54716155]), array([0.67843005]), array([0.6993945]), array([0.76233471]), array([0.7869951]), array([0.78862509]), array([0.79239021]), array([0.81445792]), array([0.81616946]), array([0.81901503]), array([0.89301142]), array([0.88755449]), array([0.89108387]), array([0.88992007]), array([0.83744863]), array([0.82639088]), array([0.79016804]), array([0.7836944]), array([0.77632404]), array([0.77563454]), array([0.75055427]), array([0.56667792]), array([0.53644976]), array([0.49203467]), array([0.47936377]), array([0.48856242]), array([0.51589543]), array([0.50178684]), array([0.47260417]), array([0.4658247]), array([0.35538975]), array([0.35536936]), array([0.32562158]), array([0.32919156]), array([0.34409564]), array([0.34214177]), array([0.34399701]), array([0.34663269]), array([0.34000088]), array([0.33412439]), array([0.33105256]), array([0.32244955]), array([0.34287658]), array([0.34755362]), array([0.34300562]), array([0.33169407]), array([0.27567933]), array([0.27453523]), array([0.27925255]), array([0.2572081]), array([0.25260372]), array([0.25851513]), array([0.25737231]), array([0.26967206]), array([0.24383128]), array([0.25666313]), array([0.21326813]), array([0.21515069]), array([0.21705431]), array([0.21969656]), array([0.21525753]), array([0.21352729]), array([0.21017357]), array([0.2028731]), array([0.20110141]), array([0.19251038]), array([0.18336238]), array([0.18382814]), array([0.18671834]), array([0.18532185]), array([0.19010246]), array([0.1828207]), array([0.18554247]), array([0.16998108]), array([0.17128119]), array([0.15444356]), array([0.1604426]), array([0.16970664]), array([0.16247916]), array([0.15791252]), array([0.15785619]), array([0.15791755]), array([0.14769678]), array([0.14441594]), array([0.14274022]), array([0.14043468]), array([0.14408507]), array([0.14936154]), array([0.15018134]), array([0.15335531]), array([0.15715219]), array([0.16574207]), array([0.1643231]), array([0.16526916]), array([0.16373052]), array([0.16132666]), array([0.14567748]), array([0.14782378]), array([0.14641091]), array([0.14690476]), array([0.14510663]), array([0.14455121]), array([0.14500271]), array([0.1461183]), array([0.14674278]), array([0.14583761]), array([0.13487033]), array([0.13139689]), array([0.12531097]), array([0.1254926]), array([0.13915548]), array([0.1260833]), array([0.12618678]), array([0.12432138]), array([0.13335222]), array([0.136997]), array([0.13695429]), array([0.13967685]), array([0.1465086]), array([0.13899171]), array([0.13647462]), array([0.1349018]), array([0.13867233]), array([0.13749478]), array([0.1367019]), array([0.14911237]), array([0.15413933]), array([0.15251699]), array([0.17261216]), array([0.20474027]), array([0.19931825]), array([0.19916126]), array([0.19829858]), array([0.20574707]), array([0.19668598]), array([0.20347552]), array([0.20237985]), array([0.20252781]), array([0.19612399]), array([0.19655862]), array([0.19559963]), array([0.19457212]), array([0.21496824]), array([0.21308367]), array([0.21376538]), array([0.20146451]), array([0.19790895]), array([0.20397662]), array([0.18336814]), array([0.14927597]), array([0.1409977]), array([0.15735705]), array([0.15903715]), array([0.14879269]), array([0.14470129]), array([0.14513377]), array([0.1469826]), array([0.15667766]), array([0.16198923]), array([0.16832555]), array([0.17225248]), array([0.17399604]), array([0.14143374]), array([0.14280231]), array([0.14459315]), array([0.14811447]), array([0.14540197]), array([0.1595335]), array([0.160118]), array([0.14408132]), array([0.14184679]), array([0.1468302]), array([0.14281047]), array([0.14430541]), array([0.14433415]), array([0.13915144]), array([0.13959211]), array([0.13455928]), array([0.13249165]), array([0.12835679]), array([0.12681954]), array([0.11972374]), array([0.11645654]), array([0.11644792]), array([0.11614524]), array([0.11314312]), array([0.11302295]), array([0.10207848]), array([0.10911686]), array([0.14930556]), array([0.15241095]), array([0.14132745]), array([0.13885695]), array([0.13526794])]\n"
          ],
          "name": "stdout"
        },
        {
          "output_type": "execute_result",
          "data": {
            "text/plain": [
              "40    0.134733\n",
              "41    0.134644\n",
              "42    0.129603\n",
              "43    0.130273\n",
              "44    0.138636\n",
              "45    0.138186\n",
              "46    0.138797\n",
              "47    0.139359\n",
              "48    0.140642\n",
              "49    0.124983\n",
              "Name: volatility, dtype: float64"
            ]
          },
          "metadata": {
            "tags": []
          },
          "execution_count": 110
        }
      ]
    },
    {
      "cell_type": "code",
      "metadata": {
        "id": "Gnuq_gRz6Icb"
      },
      "source": [
        "from sklearn.linear_model import LinearRegression\n",
        "from sklearn.metrics import mean_squared_error, mean_absolute_error"
      ],
      "execution_count": null,
      "outputs": []
    },
    {
      "cell_type": "code",
      "metadata": {
        "id": "U6UNi8oAQlvP"
      },
      "source": [
        "x1=np.array(np.sqrt(yhat.variance.values[-1, :])).reshape(-1,1)\n"
      ],
      "execution_count": null,
      "outputs": []
    },
    {
      "cell_type": "code",
      "metadata": {
        "id": "_ahZ7UcPRlLP",
        "colab": {
          "base_uri": "https://localhost:8080/",
          "height": 180
        },
        "outputId": "33989bb4-3b64-4af1-9ab8-9f9ddf766bd2"
      },
      "source": [
        "reg=LinearRegression().fit(x1,y1)\n",
        "mae= mean_absolute_error(x1,y1)"
      ],
      "execution_count": null,
      "outputs": [
        {
          "output_type": "error",
          "ename": "NameError",
          "evalue": "ignored",
          "traceback": [
            "\u001b[0;31m---------------------------------------------------------------------------\u001b[0m",
            "\u001b[0;31mNameError\u001b[0m                                 Traceback (most recent call last)",
            "\u001b[0;32m<ipython-input-35-dcb3da07b4d8>\u001b[0m in \u001b[0;36m<module>\u001b[0;34m()\u001b[0m\n\u001b[0;32m----> 1\u001b[0;31m \u001b[0mreg\u001b[0m\u001b[0;34m=\u001b[0m\u001b[0mLinearRegression\u001b[0m\u001b[0;34m(\u001b[0m\u001b[0;34m)\u001b[0m\u001b[0;34m.\u001b[0m\u001b[0mfit\u001b[0m\u001b[0;34m(\u001b[0m\u001b[0mx1\u001b[0m\u001b[0;34m,\u001b[0m\u001b[0my1\u001b[0m\u001b[0;34m)\u001b[0m\u001b[0;34m\u001b[0m\u001b[0;34m\u001b[0m\u001b[0m\n\u001b[0m\u001b[1;32m      2\u001b[0m \u001b[0mmae\u001b[0m\u001b[0;34m=\u001b[0m \u001b[0mmean_absolute_error\u001b[0m\u001b[0;34m(\u001b[0m\u001b[0mx1\u001b[0m\u001b[0;34m,\u001b[0m\u001b[0my1\u001b[0m\u001b[0;34m)\u001b[0m\u001b[0;34m\u001b[0m\u001b[0;34m\u001b[0m\u001b[0m\n",
            "\u001b[0;31mNameError\u001b[0m: name 'y1' is not defined"
          ]
        }
      ]
    },
    {
      "cell_type": "code",
      "metadata": {
        "colab": {
          "base_uri": "https://localhost:8080/"
        },
        "id": "aK2in4CJSph2",
        "outputId": "c279975a-a4e1-45c2-8071-b984ffb5d28f"
      },
      "source": [
        "reg.score(x1,y1)"
      ],
      "execution_count": null,
      "outputs": [
        {
          "output_type": "execute_result",
          "data": {
            "text/plain": [
              "0.9810229929925433"
            ]
          },
          "metadata": {
            "tags": []
          },
          "execution_count": 38
        }
      ]
    },
    {
      "cell_type": "code",
      "metadata": {
        "colab": {
          "base_uri": "https://localhost:8080/"
        },
        "id": "YJ5wNszlSspi",
        "outputId": "4bd5e80c-9f6d-448b-9893-eea4b5a9256a"
      },
      "source": [
        "mae"
      ],
      "execution_count": null,
      "outputs": [
        {
          "output_type": "execute_result",
          "data": {
            "text/plain": [
              "0.006378285834036613"
            ]
          },
          "metadata": {
            "tags": []
          },
          "execution_count": 39
        }
      ]
    },
    {
      "cell_type": "code",
      "metadata": {
        "id": "mbP1zWJaUVEI"
      },
      "source": [
        "call=pd.read_csv('/content/drive/MyDrive/black_scholes_option_pricing/complete_data/call_black_scholes.csv')\n",
        "put=pd.read_csv('/content/drive/MyDrive/black_scholes_option_pricing/complete_data/put_black_scholes.csv')\n"
      ],
      "execution_count": null,
      "outputs": []
    },
    {
      "cell_type": "code",
      "metadata": {
        "colab": {
          "base_uri": "https://localhost:8080/"
        },
        "id": "vnCoEGJKXeDf",
        "outputId": "73091e6c-1e42-46f2-fa48-f42310c747f2"
      },
      "source": [
        "call.shape"
      ],
      "execution_count": null,
      "outputs": [
        {
          "output_type": "execute_result",
          "data": {
            "text/plain": [
              "(56654, 9)"
            ]
          },
          "metadata": {
            "tags": []
          },
          "execution_count": 26
        }
      ]
    },
    {
      "cell_type": "code",
      "metadata": {
        "colab": {
          "base_uri": "https://localhost:8080/",
          "height": 669
        },
        "id": "auVVzmnaXenB",
        "outputId": "44b23bb0-2fde-4fa6-e7a4-8e8958322609"
      },
      "source": [
        "call.head(20)"
      ],
      "execution_count": null,
      "outputs": [
        {
          "output_type": "execute_result",
          "data": {
            "text/html": [
              "<div>\n",
              "<style scoped>\n",
              "    .dataframe tbody tr th:only-of-type {\n",
              "        vertical-align: middle;\n",
              "    }\n",
              "\n",
              "    .dataframe tbody tr th {\n",
              "        vertical-align: top;\n",
              "    }\n",
              "\n",
              "    .dataframe thead th {\n",
              "        text-align: right;\n",
              "    }\n",
              "</style>\n",
              "<table border=\"1\" class=\"dataframe\">\n",
              "  <thead>\n",
              "    <tr style=\"text-align: right;\">\n",
              "      <th></th>\n",
              "      <th>Date</th>\n",
              "      <th>Strike Price</th>\n",
              "      <th>Close</th>\n",
              "      <th>Expiration</th>\n",
              "      <th>Adj Close</th>\n",
              "      <th>return</th>\n",
              "      <th>volatility</th>\n",
              "      <th>Price</th>\n",
              "      <th>bs_call</th>\n",
              "    </tr>\n",
              "  </thead>\n",
              "  <tbody>\n",
              "    <tr>\n",
              "      <th>0</th>\n",
              "      <td>2013-12-31</td>\n",
              "      <td>6200</td>\n",
              "      <td>199.65</td>\n",
              "      <td>30</td>\n",
              "      <td>6304.000000</td>\n",
              "      <td>0.002051</td>\n",
              "      <td>0.135503</td>\n",
              "      <td>8.820</td>\n",
              "      <td>188.621115</td>\n",
              "    </tr>\n",
              "    <tr>\n",
              "      <th>1</th>\n",
              "      <td>2013-12-31</td>\n",
              "      <td>6300</td>\n",
              "      <td>131.00</td>\n",
              "      <td>30</td>\n",
              "      <td>6304.000000</td>\n",
              "      <td>0.002051</td>\n",
              "      <td>0.135503</td>\n",
              "      <td>8.820</td>\n",
              "      <td>124.059028</td>\n",
              "    </tr>\n",
              "    <tr>\n",
              "      <th>2</th>\n",
              "      <td>2013-12-31</td>\n",
              "      <td>6400</td>\n",
              "      <td>79.00</td>\n",
              "      <td>30</td>\n",
              "      <td>6304.000000</td>\n",
              "      <td>0.002051</td>\n",
              "      <td>0.135503</td>\n",
              "      <td>8.820</td>\n",
              "      <td>75.195204</td>\n",
              "    </tr>\n",
              "    <tr>\n",
              "      <th>3</th>\n",
              "      <td>2013-12-31</td>\n",
              "      <td>6500</td>\n",
              "      <td>41.35</td>\n",
              "      <td>30</td>\n",
              "      <td>6304.000000</td>\n",
              "      <td>0.002051</td>\n",
              "      <td>0.135503</td>\n",
              "      <td>8.820</td>\n",
              "      <td>41.683668</td>\n",
              "    </tr>\n",
              "    <tr>\n",
              "      <th>4</th>\n",
              "      <td>2013-12-31</td>\n",
              "      <td>6600</td>\n",
              "      <td>18.60</td>\n",
              "      <td>30</td>\n",
              "      <td>6304.000000</td>\n",
              "      <td>0.002051</td>\n",
              "      <td>0.135503</td>\n",
              "      <td>8.820</td>\n",
              "      <td>21.015752</td>\n",
              "    </tr>\n",
              "    <tr>\n",
              "      <th>5</th>\n",
              "      <td>2014-01-02</td>\n",
              "      <td>6200</td>\n",
              "      <td>136.40</td>\n",
              "      <td>28</td>\n",
              "      <td>6221.149902</td>\n",
              "      <td>-0.013142</td>\n",
              "      <td>0.141609</td>\n",
              "      <td>8.840</td>\n",
              "      <td>131.617183</td>\n",
              "    </tr>\n",
              "    <tr>\n",
              "      <th>6</th>\n",
              "      <td>2014-01-02</td>\n",
              "      <td>6300</td>\n",
              "      <td>85.00</td>\n",
              "      <td>28</td>\n",
              "      <td>6221.149902</td>\n",
              "      <td>-0.013142</td>\n",
              "      <td>0.141609</td>\n",
              "      <td>8.840</td>\n",
              "      <td>80.554650</td>\n",
              "    </tr>\n",
              "    <tr>\n",
              "      <th>7</th>\n",
              "      <td>2014-01-02</td>\n",
              "      <td>6400</td>\n",
              "      <td>48.95</td>\n",
              "      <td>28</td>\n",
              "      <td>6221.149902</td>\n",
              "      <td>-0.013142</td>\n",
              "      <td>0.141609</td>\n",
              "      <td>8.840</td>\n",
              "      <td>45.102228</td>\n",
              "    </tr>\n",
              "    <tr>\n",
              "      <th>8</th>\n",
              "      <td>2014-01-02</td>\n",
              "      <td>6500</td>\n",
              "      <td>25.45</td>\n",
              "      <td>28</td>\n",
              "      <td>6221.149902</td>\n",
              "      <td>-0.013142</td>\n",
              "      <td>0.141609</td>\n",
              "      <td>8.840</td>\n",
              "      <td>22.966379</td>\n",
              "    </tr>\n",
              "    <tr>\n",
              "      <th>9</th>\n",
              "      <td>2014-01-02</td>\n",
              "      <td>6600</td>\n",
              "      <td>11.70</td>\n",
              "      <td>28</td>\n",
              "      <td>6221.149902</td>\n",
              "      <td>-0.013142</td>\n",
              "      <td>0.141609</td>\n",
              "      <td>8.840</td>\n",
              "      <td>10.595069</td>\n",
              "    </tr>\n",
              "    <tr>\n",
              "      <th>10</th>\n",
              "      <td>2014-01-03</td>\n",
              "      <td>6200</td>\n",
              "      <td>131.00</td>\n",
              "      <td>27</td>\n",
              "      <td>6211.149902</td>\n",
              "      <td>-0.001607</td>\n",
              "      <td>0.133806</td>\n",
              "      <td>8.834</td>\n",
              "      <td>117.906975</td>\n",
              "    </tr>\n",
              "    <tr>\n",
              "      <th>11</th>\n",
              "      <td>2014-01-03</td>\n",
              "      <td>6300</td>\n",
              "      <td>78.95</td>\n",
              "      <td>27</td>\n",
              "      <td>6211.149902</td>\n",
              "      <td>-0.001607</td>\n",
              "      <td>0.133806</td>\n",
              "      <td>8.834</td>\n",
              "      <td>68.613241</td>\n",
              "    </tr>\n",
              "    <tr>\n",
              "      <th>12</th>\n",
              "      <td>2014-01-03</td>\n",
              "      <td>6400</td>\n",
              "      <td>42.70</td>\n",
              "      <td>27</td>\n",
              "      <td>6211.149902</td>\n",
              "      <td>-0.001607</td>\n",
              "      <td>0.133806</td>\n",
              "      <td>8.834</td>\n",
              "      <td>35.917817</td>\n",
              "    </tr>\n",
              "    <tr>\n",
              "      <th>13</th>\n",
              "      <td>2014-01-03</td>\n",
              "      <td>6500</td>\n",
              "      <td>21.50</td>\n",
              "      <td>27</td>\n",
              "      <td>6211.149902</td>\n",
              "      <td>-0.001607</td>\n",
              "      <td>0.133806</td>\n",
              "      <td>8.834</td>\n",
              "      <td>16.791428</td>\n",
              "    </tr>\n",
              "    <tr>\n",
              "      <th>14</th>\n",
              "      <td>2014-01-03</td>\n",
              "      <td>6600</td>\n",
              "      <td>10.00</td>\n",
              "      <td>27</td>\n",
              "      <td>6211.149902</td>\n",
              "      <td>-0.001607</td>\n",
              "      <td>0.133806</td>\n",
              "      <td>8.834</td>\n",
              "      <td>6.977949</td>\n",
              "    </tr>\n",
              "    <tr>\n",
              "      <th>15</th>\n",
              "      <td>2014-01-06</td>\n",
              "      <td>6200</td>\n",
              "      <td>110.15</td>\n",
              "      <td>24</td>\n",
              "      <td>6191.450195</td>\n",
              "      <td>-0.003172</td>\n",
              "      <td>0.133634</td>\n",
              "      <td>8.783</td>\n",
              "      <td>98.720635</td>\n",
              "    </tr>\n",
              "    <tr>\n",
              "      <th>16</th>\n",
              "      <td>2014-01-06</td>\n",
              "      <td>6300</td>\n",
              "      <td>62.50</td>\n",
              "      <td>24</td>\n",
              "      <td>6191.450195</td>\n",
              "      <td>-0.003172</td>\n",
              "      <td>0.133634</td>\n",
              "      <td>8.783</td>\n",
              "      <td>53.829897</td>\n",
              "    </tr>\n",
              "    <tr>\n",
              "      <th>17</th>\n",
              "      <td>2014-01-06</td>\n",
              "      <td>6400</td>\n",
              "      <td>31.95</td>\n",
              "      <td>24</td>\n",
              "      <td>6191.450195</td>\n",
              "      <td>-0.003172</td>\n",
              "      <td>0.133634</td>\n",
              "      <td>8.783</td>\n",
              "      <td>25.932227</td>\n",
              "    </tr>\n",
              "    <tr>\n",
              "      <th>18</th>\n",
              "      <td>2014-01-06</td>\n",
              "      <td>6500</td>\n",
              "      <td>15.15</td>\n",
              "      <td>24</td>\n",
              "      <td>6191.450195</td>\n",
              "      <td>-0.003172</td>\n",
              "      <td>0.133634</td>\n",
              "      <td>8.783</td>\n",
              "      <td>10.947895</td>\n",
              "    </tr>\n",
              "    <tr>\n",
              "      <th>19</th>\n",
              "      <td>2014-01-06</td>\n",
              "      <td>6600</td>\n",
              "      <td>6.85</td>\n",
              "      <td>24</td>\n",
              "      <td>6191.450195</td>\n",
              "      <td>-0.003172</td>\n",
              "      <td>0.133634</td>\n",
              "      <td>8.783</td>\n",
              "      <td>4.030608</td>\n",
              "    </tr>\n",
              "  </tbody>\n",
              "</table>\n",
              "</div>"
            ],
            "text/plain": [
              "          Date  Strike Price   Close  ...  volatility  Price     bs_call\n",
              "0   2013-12-31          6200  199.65  ...    0.135503  8.820  188.621115\n",
              "1   2013-12-31          6300  131.00  ...    0.135503  8.820  124.059028\n",
              "2   2013-12-31          6400   79.00  ...    0.135503  8.820   75.195204\n",
              "3   2013-12-31          6500   41.35  ...    0.135503  8.820   41.683668\n",
              "4   2013-12-31          6600   18.60  ...    0.135503  8.820   21.015752\n",
              "5   2014-01-02          6200  136.40  ...    0.141609  8.840  131.617183\n",
              "6   2014-01-02          6300   85.00  ...    0.141609  8.840   80.554650\n",
              "7   2014-01-02          6400   48.95  ...    0.141609  8.840   45.102228\n",
              "8   2014-01-02          6500   25.45  ...    0.141609  8.840   22.966379\n",
              "9   2014-01-02          6600   11.70  ...    0.141609  8.840   10.595069\n",
              "10  2014-01-03          6200  131.00  ...    0.133806  8.834  117.906975\n",
              "11  2014-01-03          6300   78.95  ...    0.133806  8.834   68.613241\n",
              "12  2014-01-03          6400   42.70  ...    0.133806  8.834   35.917817\n",
              "13  2014-01-03          6500   21.50  ...    0.133806  8.834   16.791428\n",
              "14  2014-01-03          6600   10.00  ...    0.133806  8.834    6.977949\n",
              "15  2014-01-06          6200  110.15  ...    0.133634  8.783   98.720635\n",
              "16  2014-01-06          6300   62.50  ...    0.133634  8.783   53.829897\n",
              "17  2014-01-06          6400   31.95  ...    0.133634  8.783   25.932227\n",
              "18  2014-01-06          6500   15.15  ...    0.133634  8.783   10.947895\n",
              "19  2014-01-06          6600    6.85  ...    0.133634  8.783    4.030608\n",
              "\n",
              "[20 rows x 9 columns]"
            ]
          },
          "metadata": {
            "tags": []
          },
          "execution_count": 15
        }
      ]
    },
    {
      "cell_type": "code",
      "metadata": {
        "colab": {
          "base_uri": "https://localhost:8080/"
        },
        "id": "kZImACiyYBZt",
        "outputId": "51627725-cfb2-488e-c67a-1ac683aaefad"
      },
      "source": [
        "call[call['Date']=='2014-1-']"
      ],
      "execution_count": null,
      "outputs": [
        {
          "output_type": "execute_result",
          "data": {
            "text/plain": [
              "(7006, 4)"
            ]
          },
          "metadata": {
            "tags": []
          },
          "execution_count": 13
        }
      ]
    },
    {
      "cell_type": "code",
      "metadata": {
        "colab": {
          "base_uri": "https://localhost:8080/",
          "height": 49
        },
        "id": "VOjpark8YUQ3",
        "outputId": "78281149-c1c6-4568-ad29-b98960714b39"
      },
      "source": [
        "call[call['Strike price']==7750]"
      ],
      "execution_count": null,
      "outputs": [
        {
          "output_type": "execute_result",
          "data": {
            "text/html": [
              "<div>\n",
              "<style scoped>\n",
              "    .dataframe tbody tr th:only-of-type {\n",
              "        vertical-align: middle;\n",
              "    }\n",
              "\n",
              "    .dataframe tbody tr th {\n",
              "        vertical-align: top;\n",
              "    }\n",
              "\n",
              "    .dataframe thead th {\n",
              "        text-align: right;\n",
              "    }\n",
              "</style>\n",
              "<table border=\"1\" class=\"dataframe\">\n",
              "  <thead>\n",
              "    <tr style=\"text-align: right;\">\n",
              "      <th></th>\n",
              "      <th>Date</th>\n",
              "      <th>Strike price</th>\n",
              "      <th>Close</th>\n",
              "      <th>Expiration</th>\n",
              "    </tr>\n",
              "  </thead>\n",
              "  <tbody>\n",
              "  </tbody>\n",
              "</table>\n",
              "</div>"
            ],
            "text/plain": [
              "Empty DataFrame\n",
              "Columns: [Date, Strike price, Close, Expiration]\n",
              "Index: []"
            ]
          },
          "metadata": {
            "tags": []
          },
          "execution_count": 16
        }
      ]
    },
    {
      "cell_type": "code",
      "metadata": {
        "id": "WbFs1YHKaFq7"
      },
      "source": [
        "final=spot[spot['Date']>'2013-12-02']"
      ],
      "execution_count": null,
      "outputs": []
    },
    {
      "cell_type": "code",
      "metadata": {
        "colab": {
          "base_uri": "https://localhost:8080/",
          "height": 419
        },
        "id": "MTFBpc4jelXn",
        "outputId": "ae06e49b-0bc1-4c51-95e5-c6d15e5ff137"
      },
      "source": [
        "final"
      ],
      "execution_count": null,
      "outputs": [
        {
          "output_type": "execute_result",
          "data": {
            "text/html": [
              "<div>\n",
              "<style scoped>\n",
              "    .dataframe tbody tr th:only-of-type {\n",
              "        vertical-align: middle;\n",
              "    }\n",
              "\n",
              "    .dataframe tbody tr th {\n",
              "        vertical-align: top;\n",
              "    }\n",
              "\n",
              "    .dataframe thead th {\n",
              "        text-align: right;\n",
              "    }\n",
              "</style>\n",
              "<table border=\"1\" class=\"dataframe\">\n",
              "  <thead>\n",
              "    <tr style=\"text-align: right;\">\n",
              "      <th></th>\n",
              "      <th>Date</th>\n",
              "      <th>return</th>\n",
              "    </tr>\n",
              "  </thead>\n",
              "  <tbody>\n",
              "    <tr>\n",
              "      <th>1</th>\n",
              "      <td>2013-12-03</td>\n",
              "      <td>-0.002573</td>\n",
              "    </tr>\n",
              "    <tr>\n",
              "      <th>2</th>\n",
              "      <td>2013-12-04</td>\n",
              "      <td>-0.006595</td>\n",
              "    </tr>\n",
              "    <tr>\n",
              "      <th>3</th>\n",
              "      <td>2013-12-05</td>\n",
              "      <td>0.013009</td>\n",
              "    </tr>\n",
              "    <tr>\n",
              "      <th>4</th>\n",
              "      <td>2013-12-06</td>\n",
              "      <td>0.003012</td>\n",
              "    </tr>\n",
              "    <tr>\n",
              "      <th>5</th>\n",
              "      <td>2013-12-09</td>\n",
              "      <td>0.016614</td>\n",
              "    </tr>\n",
              "    <tr>\n",
              "      <th>...</th>\n",
              "      <td>...</td>\n",
              "      <td>...</td>\n",
              "    </tr>\n",
              "    <tr>\n",
              "      <th>1741</th>\n",
              "      <td>2020-12-23</td>\n",
              "      <td>0.010010</td>\n",
              "    </tr>\n",
              "    <tr>\n",
              "      <th>1742</th>\n",
              "      <td>2020-12-24</td>\n",
              "      <td>0.010893</td>\n",
              "    </tr>\n",
              "    <tr>\n",
              "      <th>1743</th>\n",
              "      <td>2020-12-28</td>\n",
              "      <td>0.009015</td>\n",
              "    </tr>\n",
              "    <tr>\n",
              "      <th>1744</th>\n",
              "      <td>2020-12-29</td>\n",
              "      <td>0.004282</td>\n",
              "    </tr>\n",
              "    <tr>\n",
              "      <th>1745</th>\n",
              "      <td>2020-12-30</td>\n",
              "      <td>0.003542</td>\n",
              "    </tr>\n",
              "  </tbody>\n",
              "</table>\n",
              "<p>1745 rows × 2 columns</p>\n",
              "</div>"
            ],
            "text/plain": [
              "            Date    return\n",
              "1     2013-12-03 -0.002573\n",
              "2     2013-12-04 -0.006595\n",
              "3     2013-12-05  0.013009\n",
              "4     2013-12-06  0.003012\n",
              "5     2013-12-09  0.016614\n",
              "...          ...       ...\n",
              "1741  2020-12-23  0.010010\n",
              "1742  2020-12-24  0.010893\n",
              "1743  2020-12-28  0.009015\n",
              "1744  2020-12-29  0.004282\n",
              "1745  2020-12-30  0.003542\n",
              "\n",
              "[1745 rows x 2 columns]"
            ]
          },
          "metadata": {
            "tags": []
          },
          "execution_count": 38
        }
      ]
    },
    {
      "cell_type": "code",
      "metadata": {
        "colab": {
          "base_uri": "https://localhost:8080/"
        },
        "id": "r5W600oGhF43",
        "outputId": "3c65ba7c-af32-43d9-ac50-6b03816b3899"
      },
      "source": [
        "x1[0][0]"
      ],
      "execution_count": null,
      "outputs": [
        {
          "output_type": "execute_result",
          "data": {
            "text/plain": [
              "0.010218490561695557"
            ]
          },
          "metadata": {
            "tags": []
          },
          "execution_count": 20
        }
      ]
    },
    {
      "cell_type": "code",
      "metadata": {
        "colab": {
          "base_uri": "https://localhost:8080/"
        },
        "id": "sfgNDrOCh0q-",
        "outputId": "c85c9572-466c-4cf1-8d06-267949b1c365"
      },
      "source": [
        "for i in range(0,1745):\n",
        "  final.iloc[i,1]=x1[i][0]"
      ],
      "execution_count": null,
      "outputs": [
        {
          "output_type": "stream",
          "text": [
            "/usr/local/lib/python3.7/dist-packages/pandas/core/indexing.py:1763: SettingWithCopyWarning: \n",
            "A value is trying to be set on a copy of a slice from a DataFrame.\n",
            "Try using .loc[row_indexer,col_indexer] = value instead\n",
            "\n",
            "See the caveats in the documentation: https://pandas.pydata.org/pandas-docs/stable/user_guide/indexing.html#returning-a-view-versus-a-copy\n",
            "  isetter(loc, value)\n"
          ],
          "name": "stderr"
        }
      ]
    },
    {
      "cell_type": "code",
      "metadata": {
        "colab": {
          "base_uri": "https://localhost:8080/",
          "height": 204
        },
        "id": "nQQMwiwEjvbb",
        "outputId": "bd3ba6c3-ad79-4b68-954d-ae24b11c8922"
      },
      "source": [
        "final.head()"
      ],
      "execution_count": null,
      "outputs": [
        {
          "output_type": "execute_result",
          "data": {
            "text/html": [
              "<div>\n",
              "<style scoped>\n",
              "    .dataframe tbody tr th:only-of-type {\n",
              "        vertical-align: middle;\n",
              "    }\n",
              "\n",
              "    .dataframe tbody tr th {\n",
              "        vertical-align: top;\n",
              "    }\n",
              "\n",
              "    .dataframe thead th {\n",
              "        text-align: right;\n",
              "    }\n",
              "</style>\n",
              "<table border=\"1\" class=\"dataframe\">\n",
              "  <thead>\n",
              "    <tr style=\"text-align: right;\">\n",
              "      <th></th>\n",
              "      <th>Date</th>\n",
              "      <th>return</th>\n",
              "    </tr>\n",
              "  </thead>\n",
              "  <tbody>\n",
              "    <tr>\n",
              "      <th>1</th>\n",
              "      <td>2013-12-03</td>\n",
              "      <td>0.010115</td>\n",
              "    </tr>\n",
              "    <tr>\n",
              "      <th>2</th>\n",
              "      <td>2013-12-04</td>\n",
              "      <td>0.010063</td>\n",
              "    </tr>\n",
              "    <tr>\n",
              "      <th>3</th>\n",
              "      <td>2013-12-05</td>\n",
              "      <td>0.010105</td>\n",
              "    </tr>\n",
              "    <tr>\n",
              "      <th>4</th>\n",
              "      <td>2013-12-06</td>\n",
              "      <td>0.010100</td>\n",
              "    </tr>\n",
              "    <tr>\n",
              "      <th>5</th>\n",
              "      <td>2013-12-09</td>\n",
              "      <td>0.010117</td>\n",
              "    </tr>\n",
              "  </tbody>\n",
              "</table>\n",
              "</div>"
            ],
            "text/plain": [
              "         Date    return\n",
              "1  2013-12-03  0.010115\n",
              "2  2013-12-04  0.010063\n",
              "3  2013-12-05  0.010105\n",
              "4  2013-12-06  0.010100\n",
              "5  2013-12-09  0.010117"
            ]
          },
          "metadata": {
            "tags": []
          },
          "execution_count": 40
        }
      ]
    },
    {
      "cell_type": "code",
      "metadata": {
        "colab": {
          "base_uri": "https://localhost:8080/"
        },
        "id": "9kbCbozAk1ZZ",
        "outputId": "fd88ec8e-a910-4919-fd77-7fa29e5e687c"
      },
      "source": [
        "final['Garch_Volatility']=final['return']\n",
        "del final['return']"
      ],
      "execution_count": null,
      "outputs": [
        {
          "output_type": "stream",
          "text": [
            "/usr/local/lib/python3.7/dist-packages/ipykernel_launcher.py:1: SettingWithCopyWarning: \n",
            "A value is trying to be set on a copy of a slice from a DataFrame.\n",
            "Try using .loc[row_indexer,col_indexer] = value instead\n",
            "\n",
            "See the caveats in the documentation: https://pandas.pydata.org/pandas-docs/stable/user_guide/indexing.html#returning-a-view-versus-a-copy\n",
            "  \"\"\"Entry point for launching an IPython kernel.\n"
          ],
          "name": "stderr"
        }
      ]
    },
    {
      "cell_type": "code",
      "metadata": {
        "id": "Mht0NsANlb3F"
      },
      "source": [
        "result = pd.merge(call, final, \n",
        "                   on='Date', \n",
        "                   how='inner')"
      ],
      "execution_count": null,
      "outputs": []
    },
    {
      "cell_type": "code",
      "metadata": {
        "colab": {
          "base_uri": "https://localhost:8080/",
          "height": 979
        },
        "id": "bCRJ3eIOmS54",
        "outputId": "29e41dc0-4e0d-49d2-bda7-a9f3bfb4ff64"
      },
      "source": [
        "result.head(30)"
      ],
      "execution_count": null,
      "outputs": [
        {
          "output_type": "execute_result",
          "data": {
            "text/html": [
              "<div>\n",
              "<style scoped>\n",
              "    .dataframe tbody tr th:only-of-type {\n",
              "        vertical-align: middle;\n",
              "    }\n",
              "\n",
              "    .dataframe tbody tr th {\n",
              "        vertical-align: top;\n",
              "    }\n",
              "\n",
              "    .dataframe thead th {\n",
              "        text-align: right;\n",
              "    }\n",
              "</style>\n",
              "<table border=\"1\" class=\"dataframe\">\n",
              "  <thead>\n",
              "    <tr style=\"text-align: right;\">\n",
              "      <th></th>\n",
              "      <th>Date</th>\n",
              "      <th>Strike Price</th>\n",
              "      <th>Close</th>\n",
              "      <th>Expiration</th>\n",
              "      <th>Adj Close</th>\n",
              "      <th>return</th>\n",
              "      <th>volatility</th>\n",
              "      <th>Price</th>\n",
              "      <th>bs_call</th>\n",
              "      <th>Garch_Volatility</th>\n",
              "    </tr>\n",
              "  </thead>\n",
              "  <tbody>\n",
              "    <tr>\n",
              "      <th>0</th>\n",
              "      <td>2013-12-31</td>\n",
              "      <td>6200</td>\n",
              "      <td>199.65</td>\n",
              "      <td>30</td>\n",
              "      <td>6304.000000</td>\n",
              "      <td>0.002051</td>\n",
              "      <td>0.135503</td>\n",
              "      <td>8.820</td>\n",
              "      <td>188.621115</td>\n",
              "      <td>0.010172</td>\n",
              "    </tr>\n",
              "    <tr>\n",
              "      <th>1</th>\n",
              "      <td>2013-12-31</td>\n",
              "      <td>6300</td>\n",
              "      <td>131.00</td>\n",
              "      <td>30</td>\n",
              "      <td>6304.000000</td>\n",
              "      <td>0.002051</td>\n",
              "      <td>0.135503</td>\n",
              "      <td>8.820</td>\n",
              "      <td>124.059028</td>\n",
              "      <td>0.010172</td>\n",
              "    </tr>\n",
              "    <tr>\n",
              "      <th>2</th>\n",
              "      <td>2013-12-31</td>\n",
              "      <td>6400</td>\n",
              "      <td>79.00</td>\n",
              "      <td>30</td>\n",
              "      <td>6304.000000</td>\n",
              "      <td>0.002051</td>\n",
              "      <td>0.135503</td>\n",
              "      <td>8.820</td>\n",
              "      <td>75.195204</td>\n",
              "      <td>0.010172</td>\n",
              "    </tr>\n",
              "    <tr>\n",
              "      <th>3</th>\n",
              "      <td>2013-12-31</td>\n",
              "      <td>6500</td>\n",
              "      <td>41.35</td>\n",
              "      <td>30</td>\n",
              "      <td>6304.000000</td>\n",
              "      <td>0.002051</td>\n",
              "      <td>0.135503</td>\n",
              "      <td>8.820</td>\n",
              "      <td>41.683668</td>\n",
              "      <td>0.010172</td>\n",
              "    </tr>\n",
              "    <tr>\n",
              "      <th>4</th>\n",
              "      <td>2013-12-31</td>\n",
              "      <td>6600</td>\n",
              "      <td>18.60</td>\n",
              "      <td>30</td>\n",
              "      <td>6304.000000</td>\n",
              "      <td>0.002051</td>\n",
              "      <td>0.135503</td>\n",
              "      <td>8.820</td>\n",
              "      <td>21.015752</td>\n",
              "      <td>0.010172</td>\n",
              "    </tr>\n",
              "    <tr>\n",
              "      <th>5</th>\n",
              "      <td>2014-01-02</td>\n",
              "      <td>6200</td>\n",
              "      <td>136.40</td>\n",
              "      <td>28</td>\n",
              "      <td>6221.149902</td>\n",
              "      <td>-0.013142</td>\n",
              "      <td>0.141609</td>\n",
              "      <td>8.840</td>\n",
              "      <td>131.617183</td>\n",
              "      <td>0.010172</td>\n",
              "    </tr>\n",
              "    <tr>\n",
              "      <th>6</th>\n",
              "      <td>2014-01-02</td>\n",
              "      <td>6300</td>\n",
              "      <td>85.00</td>\n",
              "      <td>28</td>\n",
              "      <td>6221.149902</td>\n",
              "      <td>-0.013142</td>\n",
              "      <td>0.141609</td>\n",
              "      <td>8.840</td>\n",
              "      <td>80.554650</td>\n",
              "      <td>0.010172</td>\n",
              "    </tr>\n",
              "    <tr>\n",
              "      <th>7</th>\n",
              "      <td>2014-01-02</td>\n",
              "      <td>6400</td>\n",
              "      <td>48.95</td>\n",
              "      <td>28</td>\n",
              "      <td>6221.149902</td>\n",
              "      <td>-0.013142</td>\n",
              "      <td>0.141609</td>\n",
              "      <td>8.840</td>\n",
              "      <td>45.102228</td>\n",
              "      <td>0.010172</td>\n",
              "    </tr>\n",
              "    <tr>\n",
              "      <th>8</th>\n",
              "      <td>2014-01-02</td>\n",
              "      <td>6500</td>\n",
              "      <td>25.45</td>\n",
              "      <td>28</td>\n",
              "      <td>6221.149902</td>\n",
              "      <td>-0.013142</td>\n",
              "      <td>0.141609</td>\n",
              "      <td>8.840</td>\n",
              "      <td>22.966379</td>\n",
              "      <td>0.010172</td>\n",
              "    </tr>\n",
              "    <tr>\n",
              "      <th>9</th>\n",
              "      <td>2014-01-02</td>\n",
              "      <td>6600</td>\n",
              "      <td>11.70</td>\n",
              "      <td>28</td>\n",
              "      <td>6221.149902</td>\n",
              "      <td>-0.013142</td>\n",
              "      <td>0.141609</td>\n",
              "      <td>8.840</td>\n",
              "      <td>10.595069</td>\n",
              "      <td>0.010172</td>\n",
              "    </tr>\n",
              "    <tr>\n",
              "      <th>10</th>\n",
              "      <td>2014-01-03</td>\n",
              "      <td>6200</td>\n",
              "      <td>131.00</td>\n",
              "      <td>27</td>\n",
              "      <td>6211.149902</td>\n",
              "      <td>-0.001607</td>\n",
              "      <td>0.133806</td>\n",
              "      <td>8.834</td>\n",
              "      <td>117.906975</td>\n",
              "      <td>0.010172</td>\n",
              "    </tr>\n",
              "    <tr>\n",
              "      <th>11</th>\n",
              "      <td>2014-01-03</td>\n",
              "      <td>6300</td>\n",
              "      <td>78.95</td>\n",
              "      <td>27</td>\n",
              "      <td>6211.149902</td>\n",
              "      <td>-0.001607</td>\n",
              "      <td>0.133806</td>\n",
              "      <td>8.834</td>\n",
              "      <td>68.613241</td>\n",
              "      <td>0.010172</td>\n",
              "    </tr>\n",
              "    <tr>\n",
              "      <th>12</th>\n",
              "      <td>2014-01-03</td>\n",
              "      <td>6400</td>\n",
              "      <td>42.70</td>\n",
              "      <td>27</td>\n",
              "      <td>6211.149902</td>\n",
              "      <td>-0.001607</td>\n",
              "      <td>0.133806</td>\n",
              "      <td>8.834</td>\n",
              "      <td>35.917817</td>\n",
              "      <td>0.010172</td>\n",
              "    </tr>\n",
              "    <tr>\n",
              "      <th>13</th>\n",
              "      <td>2014-01-03</td>\n",
              "      <td>6500</td>\n",
              "      <td>21.50</td>\n",
              "      <td>27</td>\n",
              "      <td>6211.149902</td>\n",
              "      <td>-0.001607</td>\n",
              "      <td>0.133806</td>\n",
              "      <td>8.834</td>\n",
              "      <td>16.791428</td>\n",
              "      <td>0.010172</td>\n",
              "    </tr>\n",
              "    <tr>\n",
              "      <th>14</th>\n",
              "      <td>2014-01-03</td>\n",
              "      <td>6600</td>\n",
              "      <td>10.00</td>\n",
              "      <td>27</td>\n",
              "      <td>6211.149902</td>\n",
              "      <td>-0.001607</td>\n",
              "      <td>0.133806</td>\n",
              "      <td>8.834</td>\n",
              "      <td>6.977949</td>\n",
              "      <td>0.010172</td>\n",
              "    </tr>\n",
              "    <tr>\n",
              "      <th>15</th>\n",
              "      <td>2014-01-06</td>\n",
              "      <td>6200</td>\n",
              "      <td>110.15</td>\n",
              "      <td>24</td>\n",
              "      <td>6191.450195</td>\n",
              "      <td>-0.003172</td>\n",
              "      <td>0.133634</td>\n",
              "      <td>8.783</td>\n",
              "      <td>98.720635</td>\n",
              "      <td>0.010171</td>\n",
              "    </tr>\n",
              "    <tr>\n",
              "      <th>16</th>\n",
              "      <td>2014-01-06</td>\n",
              "      <td>6300</td>\n",
              "      <td>62.50</td>\n",
              "      <td>24</td>\n",
              "      <td>6191.450195</td>\n",
              "      <td>-0.003172</td>\n",
              "      <td>0.133634</td>\n",
              "      <td>8.783</td>\n",
              "      <td>53.829897</td>\n",
              "      <td>0.010171</td>\n",
              "    </tr>\n",
              "    <tr>\n",
              "      <th>17</th>\n",
              "      <td>2014-01-06</td>\n",
              "      <td>6400</td>\n",
              "      <td>31.95</td>\n",
              "      <td>24</td>\n",
              "      <td>6191.450195</td>\n",
              "      <td>-0.003172</td>\n",
              "      <td>0.133634</td>\n",
              "      <td>8.783</td>\n",
              "      <td>25.932227</td>\n",
              "      <td>0.010171</td>\n",
              "    </tr>\n",
              "    <tr>\n",
              "      <th>18</th>\n",
              "      <td>2014-01-06</td>\n",
              "      <td>6500</td>\n",
              "      <td>15.15</td>\n",
              "      <td>24</td>\n",
              "      <td>6191.450195</td>\n",
              "      <td>-0.003172</td>\n",
              "      <td>0.133634</td>\n",
              "      <td>8.783</td>\n",
              "      <td>10.947895</td>\n",
              "      <td>0.010171</td>\n",
              "    </tr>\n",
              "    <tr>\n",
              "      <th>19</th>\n",
              "      <td>2014-01-06</td>\n",
              "      <td>6600</td>\n",
              "      <td>6.85</td>\n",
              "      <td>24</td>\n",
              "      <td>6191.450195</td>\n",
              "      <td>-0.003172</td>\n",
              "      <td>0.133634</td>\n",
              "      <td>8.783</td>\n",
              "      <td>4.030608</td>\n",
              "      <td>0.010171</td>\n",
              "    </tr>\n",
              "    <tr>\n",
              "      <th>20</th>\n",
              "      <td>2014-01-07</td>\n",
              "      <td>6200</td>\n",
              "      <td>91.00</td>\n",
              "      <td>23</td>\n",
              "      <td>6162.250000</td>\n",
              "      <td>-0.004716</td>\n",
              "      <td>0.117892</td>\n",
              "      <td>8.789</td>\n",
              "      <td>71.030508</td>\n",
              "      <td>0.010171</td>\n",
              "    </tr>\n",
              "    <tr>\n",
              "      <th>21</th>\n",
              "      <td>2014-01-07</td>\n",
              "      <td>6300</td>\n",
              "      <td>48.15</td>\n",
              "      <td>23</td>\n",
              "      <td>6162.250000</td>\n",
              "      <td>-0.004716</td>\n",
              "      <td>0.117892</td>\n",
              "      <td>8.789</td>\n",
              "      <td>33.086060</td>\n",
              "      <td>0.010171</td>\n",
              "    </tr>\n",
              "    <tr>\n",
              "      <th>22</th>\n",
              "      <td>2014-01-07</td>\n",
              "      <td>6400</td>\n",
              "      <td>22.65</td>\n",
              "      <td>23</td>\n",
              "      <td>6162.250000</td>\n",
              "      <td>-0.004716</td>\n",
              "      <td>0.117892</td>\n",
              "      <td>8.789</td>\n",
              "      <td>12.917963</td>\n",
              "      <td>0.010171</td>\n",
              "    </tr>\n",
              "    <tr>\n",
              "      <th>23</th>\n",
              "      <td>2014-01-07</td>\n",
              "      <td>6500</td>\n",
              "      <td>10.00</td>\n",
              "      <td>23</td>\n",
              "      <td>6162.250000</td>\n",
              "      <td>-0.004716</td>\n",
              "      <td>0.117892</td>\n",
              "      <td>8.789</td>\n",
              "      <td>4.180138</td>\n",
              "      <td>0.010171</td>\n",
              "    </tr>\n",
              "    <tr>\n",
              "      <th>24</th>\n",
              "      <td>2014-01-07</td>\n",
              "      <td>6600</td>\n",
              "      <td>4.30</td>\n",
              "      <td>23</td>\n",
              "      <td>6162.250000</td>\n",
              "      <td>-0.004716</td>\n",
              "      <td>0.117892</td>\n",
              "      <td>8.789</td>\n",
              "      <td>1.114323</td>\n",
              "      <td>0.010171</td>\n",
              "    </tr>\n",
              "    <tr>\n",
              "      <th>25</th>\n",
              "      <td>2014-01-08</td>\n",
              "      <td>6200</td>\n",
              "      <td>89.55</td>\n",
              "      <td>22</td>\n",
              "      <td>6174.600098</td>\n",
              "      <td>0.002004</td>\n",
              "      <td>0.117871</td>\n",
              "      <td>8.801</td>\n",
              "      <td>75.000711</td>\n",
              "      <td>0.010171</td>\n",
              "    </tr>\n",
              "    <tr>\n",
              "      <th>26</th>\n",
              "      <td>2014-01-08</td>\n",
              "      <td>6300</td>\n",
              "      <td>47.05</td>\n",
              "      <td>22</td>\n",
              "      <td>6174.600098</td>\n",
              "      <td>0.002004</td>\n",
              "      <td>0.117871</td>\n",
              "      <td>8.801</td>\n",
              "      <td>34.970726</td>\n",
              "      <td>0.010171</td>\n",
              "    </tr>\n",
              "    <tr>\n",
              "      <th>27</th>\n",
              "      <td>2014-01-08</td>\n",
              "      <td>6400</td>\n",
              "      <td>21.75</td>\n",
              "      <td>22</td>\n",
              "      <td>6174.600098</td>\n",
              "      <td>0.002004</td>\n",
              "      <td>0.117871</td>\n",
              "      <td>8.801</td>\n",
              "      <td>13.579438</td>\n",
              "      <td>0.010171</td>\n",
              "    </tr>\n",
              "    <tr>\n",
              "      <th>28</th>\n",
              "      <td>2014-01-08</td>\n",
              "      <td>6500</td>\n",
              "      <td>8.90</td>\n",
              "      <td>22</td>\n",
              "      <td>6174.600098</td>\n",
              "      <td>0.002004</td>\n",
              "      <td>0.117871</td>\n",
              "      <td>8.801</td>\n",
              "      <td>4.335825</td>\n",
              "      <td>0.010171</td>\n",
              "    </tr>\n",
              "    <tr>\n",
              "      <th>29</th>\n",
              "      <td>2014-01-08</td>\n",
              "      <td>6600</td>\n",
              "      <td>3.70</td>\n",
              "      <td>22</td>\n",
              "      <td>6174.600098</td>\n",
              "      <td>0.002004</td>\n",
              "      <td>0.117871</td>\n",
              "      <td>8.801</td>\n",
              "      <td>1.130471</td>\n",
              "      <td>0.010171</td>\n",
              "    </tr>\n",
              "  </tbody>\n",
              "</table>\n",
              "</div>"
            ],
            "text/plain": [
              "          Date  Strike Price   Close  ...  Price     bs_call  Garch_Volatility\n",
              "0   2013-12-31          6200  199.65  ...  8.820  188.621115          0.010172\n",
              "1   2013-12-31          6300  131.00  ...  8.820  124.059028          0.010172\n",
              "2   2013-12-31          6400   79.00  ...  8.820   75.195204          0.010172\n",
              "3   2013-12-31          6500   41.35  ...  8.820   41.683668          0.010172\n",
              "4   2013-12-31          6600   18.60  ...  8.820   21.015752          0.010172\n",
              "5   2014-01-02          6200  136.40  ...  8.840  131.617183          0.010172\n",
              "6   2014-01-02          6300   85.00  ...  8.840   80.554650          0.010172\n",
              "7   2014-01-02          6400   48.95  ...  8.840   45.102228          0.010172\n",
              "8   2014-01-02          6500   25.45  ...  8.840   22.966379          0.010172\n",
              "9   2014-01-02          6600   11.70  ...  8.840   10.595069          0.010172\n",
              "10  2014-01-03          6200  131.00  ...  8.834  117.906975          0.010172\n",
              "11  2014-01-03          6300   78.95  ...  8.834   68.613241          0.010172\n",
              "12  2014-01-03          6400   42.70  ...  8.834   35.917817          0.010172\n",
              "13  2014-01-03          6500   21.50  ...  8.834   16.791428          0.010172\n",
              "14  2014-01-03          6600   10.00  ...  8.834    6.977949          0.010172\n",
              "15  2014-01-06          6200  110.15  ...  8.783   98.720635          0.010171\n",
              "16  2014-01-06          6300   62.50  ...  8.783   53.829897          0.010171\n",
              "17  2014-01-06          6400   31.95  ...  8.783   25.932227          0.010171\n",
              "18  2014-01-06          6500   15.15  ...  8.783   10.947895          0.010171\n",
              "19  2014-01-06          6600    6.85  ...  8.783    4.030608          0.010171\n",
              "20  2014-01-07          6200   91.00  ...  8.789   71.030508          0.010171\n",
              "21  2014-01-07          6300   48.15  ...  8.789   33.086060          0.010171\n",
              "22  2014-01-07          6400   22.65  ...  8.789   12.917963          0.010171\n",
              "23  2014-01-07          6500   10.00  ...  8.789    4.180138          0.010171\n",
              "24  2014-01-07          6600    4.30  ...  8.789    1.114323          0.010171\n",
              "25  2014-01-08          6200   89.55  ...  8.801   75.000711          0.010171\n",
              "26  2014-01-08          6300   47.05  ...  8.801   34.970726          0.010171\n",
              "27  2014-01-08          6400   21.75  ...  8.801   13.579438          0.010171\n",
              "28  2014-01-08          6500    8.90  ...  8.801    4.335825          0.010171\n",
              "29  2014-01-08          6600    3.70  ...  8.801    1.130471          0.010171\n",
              "\n",
              "[30 rows x 10 columns]"
            ]
          },
          "metadata": {
            "tags": []
          },
          "execution_count": 25
        }
      ]
    },
    {
      "cell_type": "code",
      "metadata": {
        "colab": {
          "base_uri": "https://localhost:8080/",
          "height": 204
        },
        "id": "l6Mh5HxpmUe7",
        "outputId": "878415db-e7c3-4976-919a-c9872c09afe8"
      },
      "source": [
        "final.head()"
      ],
      "execution_count": null,
      "outputs": [
        {
          "output_type": "execute_result",
          "data": {
            "text/html": [
              "<div>\n",
              "<style scoped>\n",
              "    .dataframe tbody tr th:only-of-type {\n",
              "        vertical-align: middle;\n",
              "    }\n",
              "\n",
              "    .dataframe tbody tr th {\n",
              "        vertical-align: top;\n",
              "    }\n",
              "\n",
              "    .dataframe thead th {\n",
              "        text-align: right;\n",
              "    }\n",
              "</style>\n",
              "<table border=\"1\" class=\"dataframe\">\n",
              "  <thead>\n",
              "    <tr style=\"text-align: right;\">\n",
              "      <th></th>\n",
              "      <th>Date</th>\n",
              "      <th>Garch_Volatility</th>\n",
              "    </tr>\n",
              "  </thead>\n",
              "  <tbody>\n",
              "    <tr>\n",
              "      <th>40</th>\n",
              "      <td>2014-01-28</td>\n",
              "      <td>0.132432</td>\n",
              "    </tr>\n",
              "    <tr>\n",
              "      <th>41</th>\n",
              "      <td>2014-01-29</td>\n",
              "      <td>0.131952</td>\n",
              "    </tr>\n",
              "    <tr>\n",
              "      <th>42</th>\n",
              "      <td>2014-01-30</td>\n",
              "      <td>0.131423</td>\n",
              "    </tr>\n",
              "    <tr>\n",
              "      <th>43</th>\n",
              "      <td>2014-01-31</td>\n",
              "      <td>0.127339</td>\n",
              "    </tr>\n",
              "    <tr>\n",
              "      <th>44</th>\n",
              "      <td>2014-02-03</td>\n",
              "      <td>0.127654</td>\n",
              "    </tr>\n",
              "  </tbody>\n",
              "</table>\n",
              "</div>"
            ],
            "text/plain": [
              "          Date  Garch_Volatility\n",
              "40  2014-01-28          0.132432\n",
              "41  2014-01-29          0.131952\n",
              "42  2014-01-30          0.131423\n",
              "43  2014-01-31          0.127339\n",
              "44  2014-02-03          0.127654"
            ]
          },
          "metadata": {
            "tags": []
          },
          "execution_count": 72
        }
      ]
    },
    {
      "cell_type": "code",
      "metadata": {
        "id": "6oNhzI_lmoiJ"
      },
      "source": [
        "result.to_csv('garch_call_today.csv')"
      ],
      "execution_count": null,
      "outputs": []
    },
    {
      "cell_type": "code",
      "metadata": {
        "id": "MxV4FLW4nsiw"
      },
      "source": [
        "import os\n",
        "os.chdir('/content/')"
      ],
      "execution_count": null,
      "outputs": []
    },
    {
      "cell_type": "code",
      "metadata": {
        "id": "yx-SRj8vnw8h"
      },
      "source": [
        ""
      ],
      "execution_count": null,
      "outputs": []
    }
  ]
}