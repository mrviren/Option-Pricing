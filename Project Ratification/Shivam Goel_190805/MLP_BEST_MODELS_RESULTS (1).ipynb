{
  "nbformat": 4,
  "nbformat_minor": 0,
  "metadata": {
    "colab": {
      "name": "MLP_BEST_MODELS_RESULTS.ipynb",
      "provenance": [],
      "collapsed_sections": []
    },
    "kernelspec": {
      "name": "python3",
      "display_name": "Python 3"
    },
    "language_info": {
      "name": "python"
    },
    "accelerator": "GPU"
  },
  "cells": [
    {
      "cell_type": "code",
      "metadata": {
        "colab": {
          "base_uri": "https://localhost:8080/"
        },
        "id": "fTQvTIq4aYAw",
        "outputId": "cdeb9bb4-f2e1-4521-9dff-dd36e9e819b6"
      },
      "source": [
        "from google.colab import drive\n",
        "drive.mount('/content/drive')"
      ],
      "execution_count": null,
      "outputs": [
        {
          "output_type": "stream",
          "text": [
            "Drive already mounted at /content/drive; to attempt to forcibly remount, call drive.mount(\"/content/drive\", force_remount=True).\n"
          ],
          "name": "stdout"
        }
      ]
    },
    {
      "cell_type": "code",
      "metadata": {
        "id": "RycSP0ylafzY"
      },
      "source": [
        "import pandas as pd\n",
        "import numpy as np\n",
        "import matplotlib.pyplot as plt\n",
        "from tensorflow import keras\n",
        "from keras.models import Sequential\n",
        "from keras.layers import Dense, Activation, LeakyReLU\n",
        "from keras import backend\n",
        "from keras.callbacks import TensorBoard\n",
        "from keras.optimizers import Adam\n",
        "import pandas as pd\n",
        "import numpy as np\n",
        "from sklearn.model_selection import train_test_split\n",
        "from sklearn.linear_model import LinearRegression\n",
        "from sklearn.metrics import mean_squared_error, mean_absolute_error,explained_variance_score\n",
        "import seaborn as sns"
      ],
      "execution_count": null,
      "outputs": []
    },
    {
      "cell_type": "code",
      "metadata": {
        "id": "asm3rL4fanG-"
      },
      "source": [
        "call_df=pd.read_csv('/content/drive/MyDrive/black_scholes_option_pricing/complete_data/Call_with_svol_vix.csv')\n",
        "put_df=pd.read_csv('/content/drive/MyDrive/black_scholes_option_pricing/complete_data/Put_with_svol_vix.csv')\n",
        "call_df=call_df.set_index(['Date'])\n",
        "put_df=put_df.set_index(['Date'])"
      ],
      "execution_count": null,
      "outputs": []
    },
    {
      "cell_type": "code",
      "metadata": {
        "colab": {
          "base_uri": "https://localhost:8080/",
          "height": 234
        },
        "id": "NkvPVtV7avUa",
        "outputId": "81813813-aba5-4855-f0a6-442a4bcef2bb"
      },
      "source": [
        "call_df.head()"
      ],
      "execution_count": null,
      "outputs": [
        {
          "output_type": "execute_result",
          "data": {
            "text/html": [
              "<div>\n",
              "<style scoped>\n",
              "    .dataframe tbody tr th:only-of-type {\n",
              "        vertical-align: middle;\n",
              "    }\n",
              "\n",
              "    .dataframe tbody tr th {\n",
              "        vertical-align: top;\n",
              "    }\n",
              "\n",
              "    .dataframe thead th {\n",
              "        text-align: right;\n",
              "    }\n",
              "</style>\n",
              "<table border=\"1\" class=\"dataframe\">\n",
              "  <thead>\n",
              "    <tr style=\"text-align: right;\">\n",
              "      <th></th>\n",
              "      <th>Strike Price</th>\n",
              "      <th>Close</th>\n",
              "      <th>Expiration</th>\n",
              "      <th>Adj Close</th>\n",
              "      <th>Price</th>\n",
              "      <th>bs_call</th>\n",
              "      <th>svol</th>\n",
              "      <th>Vix</th>\n",
              "    </tr>\n",
              "    <tr>\n",
              "      <th>Date</th>\n",
              "      <th></th>\n",
              "      <th></th>\n",
              "      <th></th>\n",
              "      <th></th>\n",
              "      <th></th>\n",
              "      <th></th>\n",
              "      <th></th>\n",
              "      <th></th>\n",
              "    </tr>\n",
              "  </thead>\n",
              "  <tbody>\n",
              "    <tr>\n",
              "      <th>2013-12-31</th>\n",
              "      <td>6200</td>\n",
              "      <td>199.65</td>\n",
              "      <td>30</td>\n",
              "      <td>6304.0</td>\n",
              "      <td>8.82</td>\n",
              "      <td>188.621115</td>\n",
              "      <td>0.10855</td>\n",
              "      <td>15.08</td>\n",
              "    </tr>\n",
              "    <tr>\n",
              "      <th>2013-12-31</th>\n",
              "      <td>6300</td>\n",
              "      <td>131.00</td>\n",
              "      <td>30</td>\n",
              "      <td>6304.0</td>\n",
              "      <td>8.82</td>\n",
              "      <td>124.059028</td>\n",
              "      <td>0.10855</td>\n",
              "      <td>15.08</td>\n",
              "    </tr>\n",
              "    <tr>\n",
              "      <th>2013-12-31</th>\n",
              "      <td>6400</td>\n",
              "      <td>79.00</td>\n",
              "      <td>30</td>\n",
              "      <td>6304.0</td>\n",
              "      <td>8.82</td>\n",
              "      <td>75.195204</td>\n",
              "      <td>0.10855</td>\n",
              "      <td>15.08</td>\n",
              "    </tr>\n",
              "    <tr>\n",
              "      <th>2013-12-31</th>\n",
              "      <td>6500</td>\n",
              "      <td>41.35</td>\n",
              "      <td>30</td>\n",
              "      <td>6304.0</td>\n",
              "      <td>8.82</td>\n",
              "      <td>41.683668</td>\n",
              "      <td>0.10855</td>\n",
              "      <td>15.08</td>\n",
              "    </tr>\n",
              "    <tr>\n",
              "      <th>2013-12-31</th>\n",
              "      <td>6600</td>\n",
              "      <td>18.60</td>\n",
              "      <td>30</td>\n",
              "      <td>6304.0</td>\n",
              "      <td>8.82</td>\n",
              "      <td>21.015752</td>\n",
              "      <td>0.10855</td>\n",
              "      <td>15.08</td>\n",
              "    </tr>\n",
              "  </tbody>\n",
              "</table>\n",
              "</div>"
            ],
            "text/plain": [
              "            Strike Price   Close  Expiration  ...     bs_call     svol    Vix\n",
              "Date                                          ...                            \n",
              "2013-12-31          6200  199.65          30  ...  188.621115  0.10855  15.08\n",
              "2013-12-31          6300  131.00          30  ...  124.059028  0.10855  15.08\n",
              "2013-12-31          6400   79.00          30  ...   75.195204  0.10855  15.08\n",
              "2013-12-31          6500   41.35          30  ...   41.683668  0.10855  15.08\n",
              "2013-12-31          6600   18.60          30  ...   21.015752  0.10855  15.08\n",
              "\n",
              "[5 rows x 8 columns]"
            ]
          },
          "metadata": {
            "tags": []
          },
          "execution_count": 4
        }
      ]
    },
    {
      "cell_type": "code",
      "metadata": {
        "colab": {
          "base_uri": "https://localhost:8080/",
          "height": 234
        },
        "id": "YDlt1IZoaxn4",
        "outputId": "69638f73-1e02-4e48-f73f-c80ca729fb67"
      },
      "source": [
        "put_df.head()"
      ],
      "execution_count": null,
      "outputs": [
        {
          "output_type": "execute_result",
          "data": {
            "text/html": [
              "<div>\n",
              "<style scoped>\n",
              "    .dataframe tbody tr th:only-of-type {\n",
              "        vertical-align: middle;\n",
              "    }\n",
              "\n",
              "    .dataframe tbody tr th {\n",
              "        vertical-align: top;\n",
              "    }\n",
              "\n",
              "    .dataframe thead th {\n",
              "        text-align: right;\n",
              "    }\n",
              "</style>\n",
              "<table border=\"1\" class=\"dataframe\">\n",
              "  <thead>\n",
              "    <tr style=\"text-align: right;\">\n",
              "      <th></th>\n",
              "      <th>Strike Price</th>\n",
              "      <th>Close</th>\n",
              "      <th>Expiration</th>\n",
              "      <th>Adj Close</th>\n",
              "      <th>Price</th>\n",
              "      <th>bs_call</th>\n",
              "      <th>svol</th>\n",
              "      <th>Vix</th>\n",
              "    </tr>\n",
              "    <tr>\n",
              "      <th>Date</th>\n",
              "      <th></th>\n",
              "      <th></th>\n",
              "      <th></th>\n",
              "      <th></th>\n",
              "      <th></th>\n",
              "      <th></th>\n",
              "      <th></th>\n",
              "      <th></th>\n",
              "    </tr>\n",
              "  </thead>\n",
              "  <tbody>\n",
              "    <tr>\n",
              "      <th>2013-12-31</th>\n",
              "      <td>5800</td>\n",
              "      <td>6.30</td>\n",
              "      <td>30</td>\n",
              "      <td>6304.0</td>\n",
              "      <td>8.82</td>\n",
              "      <td>0.780877</td>\n",
              "      <td>0.10855</td>\n",
              "      <td>15.08</td>\n",
              "    </tr>\n",
              "    <tr>\n",
              "      <th>2013-12-31</th>\n",
              "      <td>5900</td>\n",
              "      <td>10.30</td>\n",
              "      <td>30</td>\n",
              "      <td>6304.0</td>\n",
              "      <td>8.82</td>\n",
              "      <td>2.667110</td>\n",
              "      <td>0.10855</td>\n",
              "      <td>15.08</td>\n",
              "    </tr>\n",
              "    <tr>\n",
              "      <th>2013-12-31</th>\n",
              "      <td>6000</td>\n",
              "      <td>17.15</td>\n",
              "      <td>30</td>\n",
              "      <td>6304.0</td>\n",
              "      <td>8.82</td>\n",
              "      <td>7.656025</td>\n",
              "      <td>0.10855</td>\n",
              "      <td>15.08</td>\n",
              "    </tr>\n",
              "    <tr>\n",
              "      <th>2013-12-31</th>\n",
              "      <td>6100</td>\n",
              "      <td>28.80</td>\n",
              "      <td>30</td>\n",
              "      <td>6304.0</td>\n",
              "      <td>8.82</td>\n",
              "      <td>18.756159</td>\n",
              "      <td>0.10855</td>\n",
              "      <td>15.08</td>\n",
              "    </tr>\n",
              "    <tr>\n",
              "      <th>2013-12-31</th>\n",
              "      <td>6200</td>\n",
              "      <td>49.10</td>\n",
              "      <td>30</td>\n",
              "      <td>6304.0</td>\n",
              "      <td>8.82</td>\n",
              "      <td>39.837882</td>\n",
              "      <td>0.10855</td>\n",
              "      <td>15.08</td>\n",
              "    </tr>\n",
              "  </tbody>\n",
              "</table>\n",
              "</div>"
            ],
            "text/plain": [
              "            Strike Price  Close  Expiration  ...    bs_call     svol    Vix\n",
              "Date                                         ...                           \n",
              "2013-12-31          5800   6.30          30  ...   0.780877  0.10855  15.08\n",
              "2013-12-31          5900  10.30          30  ...   2.667110  0.10855  15.08\n",
              "2013-12-31          6000  17.15          30  ...   7.656025  0.10855  15.08\n",
              "2013-12-31          6100  28.80          30  ...  18.756159  0.10855  15.08\n",
              "2013-12-31          6200  49.10          30  ...  39.837882  0.10855  15.08\n",
              "\n",
              "[5 rows x 8 columns]"
            ]
          },
          "metadata": {
            "tags": []
          },
          "execution_count": 5
        }
      ]
    },
    {
      "cell_type": "code",
      "metadata": {
        "id": "9X-rXAUyVukz"
      },
      "source": [
        "def regression(df):\n",
        "  sns.scatterplot(x=df['Close'],y=df['bs_call'],hue=df['Expiration'])"
      ],
      "execution_count": null,
      "outputs": []
    },
    {
      "cell_type": "code",
      "metadata": {
        "id": "7ersRLb7WF0o"
      },
      "source": [
        "def split_data(df):\n",
        "  call_X_train, call_X_test, call_y_train, call_y_test = train_test_split(df[['Strike Price','Adj Close','Expiration','Price','svol','Vix']],df['Close'],test_size=0.2,random_state=42)\n",
        "  return call_X_train, call_X_test, call_y_train, call_y_test"
      ],
      "execution_count": null,
      "outputs": []
    },
    {
      "cell_type": "code",
      "metadata": {
        "id": "onw_FlgXWGRd"
      },
      "source": [
        "def split_data_bs(df):\n",
        "  call_X_train, call_X_test, call_y_train, call_y_test = train_test_split(df[['Strike Price','Adj Close','Expiration','Price','svol','Vix']],df['bs_call'],test_size=0.2,random_state=42)\n",
        "  return call_X_train, call_X_test, call_y_train, call_y_test"
      ],
      "execution_count": null,
      "outputs": []
    },
    {
      "cell_type": "code",
      "metadata": {
        "id": "0_P21gYybmtN"
      },
      "source": [
        "model_call=keras.models.load_model('/content/drive/MyDrive/black_scholes_option_pricing/MLP_CALL_MODEL.h5')\n",
        "model_put=keras.models.load_model('/content/drive/MyDrive/black_scholes_option_pricing/MLP_PUT_MODEL.h5')\n"
      ],
      "execution_count": 28,
      "outputs": []
    },
    {
      "cell_type": "code",
      "metadata": {
        "id": "oR11ltvjf57V"
      },
      "source": [
        "def metrics(y_test,y_pred):\n",
        "  x=np.array(y_test).reshape(-1,1)\n",
        "  y=np.array(y_pred).reshape(-1,1)\n",
        "  reg=LinearRegression().fit(x,y)\n",
        "  mae= mean_absolute_error(x,y)\n",
        "  mse=mean_squared_error(x,y)\n",
        "  print(\"REG_SCORE - \",reg.score(x,y))\n",
        "  print(\"Mean Absolute Error -\",mae)\n",
        "  print(\"Mean Squared Error -\",mse)\n",
        "  print(\"Explained_Variance_Score - \",explained_variance_score(x,y))\n",
        "  "
      ],
      "execution_count": null,
      "outputs": []
    },
    {
      "cell_type": "code",
      "metadata": {
        "id": "z2onSXHgduND"
      },
      "source": [
        "def prediction(df,call):\n",
        "  X_train, X_test, y_train, y_test=split_data(df)\n",
        "  X_train_bs, X_test_bs, y_train_bs, y_test_bs=split_data_bs(df)\n",
        "  if (call):\n",
        "    y_pred = model_call.predict(X_test)\n",
        "  else:\n",
        "    y_pred = model_put.predict(X_test)\n",
        "  print(\"********Metrics of MLP MODEL********\")\n",
        "  metrics(y_test,y_pred)\n",
        "  print(\"\")\n",
        "  print(\"********Metrics of Black Scholes Model********\")\n",
        "  metrics(y_test,y_test_bs)\n",
        "  print(\"\")"
      ],
      "execution_count": null,
      "outputs": []
    },
    {
      "cell_type": "code",
      "metadata": {
        "colab": {
          "base_uri": "https://localhost:8080/"
        },
        "id": "awrkFQrjep3e",
        "outputId": "19d0d66a-8e42-4612-aa34-ebfc323f70f9"
      },
      "source": [
        "prediction(call_df,True)"
      ],
      "execution_count": null,
      "outputs": [
        {
          "output_type": "stream",
          "text": [
            "********Metrics of MLP MODEL********\n",
            "REG_SCORE -  0.9606508007614629\n",
            "Mean Absolute Error - 28.96619784497376\n",
            "Mean Squared Error - 6496.118640920582\n",
            "Explained_Variance_Score -  0.9602905881630084\n",
            "\n",
            "********Metrics of Black Scholes Model********\n",
            "REG_SCORE -  0.9494898762123269\n",
            "Mean Absolute Error - 38.45105511123691\n",
            "Mean Squared Error - 8722.47606557437\n",
            "Explained_Variance_Score -  0.9468373613438806\n",
            "\n"
          ],
          "name": "stdout"
        }
      ]
    },
    {
      "cell_type": "code",
      "metadata": {
        "colab": {
          "base_uri": "https://localhost:8080/"
        },
        "id": "ndWJsvzA3Tcw",
        "outputId": "040eba98-01ae-4adf-e052-20419ef3ab07"
      },
      "source": [
        "prediction(put_df,False)"
      ],
      "execution_count": null,
      "outputs": [
        {
          "output_type": "stream",
          "text": [
            "********Metrics of MLP MODEL********\n",
            "REG_SCORE -  0.9717387079575286\n",
            "Mean Absolute Error - 27.060572766788162\n",
            "Mean Squared Error - 6305.561960564497\n",
            "Explained_Variance_Score -  0.9714242019205003\n",
            "\n",
            "********Metrics of Black Scholes Model********\n",
            "REG_SCORE -  0.9590950800387738\n",
            "Mean Absolute Error - 46.866418666752175\n",
            "Mean Squared Error - 9421.919792591612\n",
            "Explained_Variance_Score -  0.9579455057191564\n",
            "\n"
          ],
          "name": "stdout"
        }
      ]
    }
  ]
}