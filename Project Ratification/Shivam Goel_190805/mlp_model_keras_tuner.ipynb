{
  "nbformat": 4,
  "nbformat_minor": 0,
  "metadata": {
    "kernelspec": {
      "language": "python",
      "display_name": "Python 3",
      "name": "python3"
    },
    "language_info": {
      "pygments_lexer": "ipython3",
      "nbconvert_exporter": "python",
      "version": "3.6.4",
      "file_extension": ".py",
      "codemirror_mode": {
        "name": "ipython",
        "version": 3
      },
      "name": "python",
      "mimetype": "text/x-python"
    },
    "colab": {
      "name": "mlp-model-keras-tuner.ipynb",
      "provenance": []
    },
    "accelerator": "GPU"
  },
  "cells": [
    {
      "cell_type": "code",
      "metadata": {
        "id": "fTQvTIq4aYAw",
        "colab": {
          "base_uri": "https://localhost:8080/"
        },
        "outputId": "2a87cd22-bcf0-42a0-bad5-4c32f69efe93"
      },
      "source": [
        "from google.colab import drive\n",
        "drive.mount('/content/drive')"
      ],
      "execution_count": 1,
      "outputs": [
        {
          "output_type": "stream",
          "text": [
            "Mounted at /content/drive\n"
          ],
          "name": "stdout"
        }
      ]
    },
    {
      "cell_type": "code",
      "metadata": {
        "colab": {
          "base_uri": "https://localhost:8080/"
        },
        "id": "76f4L4AUCJ-b",
        "outputId": "8b73f075-9751-4f57-8f06-d676c6a06754"
      },
      "source": [
        "pip install -q -U keras-tuner"
      ],
      "execution_count": 4,
      "outputs": [
        {
          "output_type": "stream",
          "text": [
            "\u001b[?25l\r\u001b[K     |█████▏                          | 10kB 24.1MB/s eta 0:00:01\r\u001b[K     |██████████▍                     | 20kB 31.5MB/s eta 0:00:01\r\u001b[K     |███████████████▋                | 30kB 33.4MB/s eta 0:00:01\r\u001b[K     |████████████████████▉           | 40kB 31.5MB/s eta 0:00:01\r\u001b[K     |██████████████████████████      | 51kB 33.9MB/s eta 0:00:01\r\u001b[K     |███████████████████████████████▎| 61kB 34.9MB/s eta 0:00:01\r\u001b[K     |████████████████████████████████| 71kB 10.5MB/s \n",
            "\u001b[?25h  Building wheel for keras-tuner (setup.py) ... \u001b[?25l\u001b[?25hdone\n",
            "  Building wheel for terminaltables (setup.py) ... \u001b[?25l\u001b[?25hdone\n"
          ],
          "name": "stdout"
        }
      ]
    },
    {
      "cell_type": "code",
      "metadata": {
        "id": "RycSP0ylafzY",
        "execution": {
          "iopub.status.busy": "2021-06-13T15:35:33.368081Z",
          "iopub.execute_input": "2021-06-13T15:35:33.368398Z",
          "iopub.status.idle": "2021-06-13T15:35:39.168629Z",
          "shell.execute_reply.started": "2021-06-13T15:35:33.368369Z",
          "shell.execute_reply": "2021-06-13T15:35:39.167679Z"
        },
        "trusted": true
      },
      "source": [
        "import pandas as pd\n",
        "import numpy as np\n",
        "import matplotlib.pyplot as plt\n",
        "from tensorflow.keras.models import Sequential\n",
        "from tensorflow.keras.layers import Dense, Activation, LeakyReLU\n",
        "from tensorflow.keras import backend\n",
        "from tensorflow.keras.callbacks import TensorBoard\n",
        "from tensorflow.keras.optimizers import Adam\n",
        "import pandas as pd\n",
        "import numpy as np\n",
        "from sklearn.model_selection import train_test_split\n",
        "from sklearn.linear_model import LinearRegression\n",
        "from sklearn.metrics import mean_squared_error, mean_absolute_error,explained_variance_score\n",
        "import seaborn as sns\n",
        "import kerastuner as kt"
      ],
      "execution_count": 18,
      "outputs": []
    },
    {
      "cell_type": "code",
      "metadata": {
        "id": "asm3rL4fanG-",
        "execution": {
          "iopub.status.busy": "2021-06-13T15:36:48.294732Z",
          "iopub.execute_input": "2021-06-13T15:36:48.295017Z",
          "iopub.status.idle": "2021-06-13T15:36:48.433563Z",
          "shell.execute_reply.started": "2021-06-13T15:36:48.294986Z",
          "shell.execute_reply": "2021-06-13T15:36:48.432691Z"
        },
        "trusted": true
      },
      "source": [
        "call_df=pd.read_csv('/content/drive/MyDrive/black_scholes_option_pricing/complete_data/Call_with_svol_vix.csv')\n",
        "put_df=pd.read_csv('/content/drive/MyDrive/black_scholes_option_pricing/complete_data/Put_with_svol_vix.csv')\n",
        "call_df=call_df.set_index(['Date'])\n",
        "put_df=put_df.set_index(['Date'])"
      ],
      "execution_count": 6,
      "outputs": []
    },
    {
      "cell_type": "code",
      "metadata": {
        "id": "NkvPVtV7avUa",
        "execution": {
          "iopub.status.busy": "2021-06-13T15:36:48.435148Z",
          "iopub.execute_input": "2021-06-13T15:36:48.435507Z",
          "iopub.status.idle": "2021-06-13T15:36:48.643164Z",
          "shell.execute_reply.started": "2021-06-13T15:36:48.435469Z",
          "shell.execute_reply": "2021-06-13T15:36:48.642351Z"
        },
        "trusted": true,
        "colab": {
          "base_uri": "https://localhost:8080/",
          "height": 234
        },
        "outputId": "a33127d4-4a26-43cc-a1f4-4ca030800020"
      },
      "source": [
        "call_df.head()"
      ],
      "execution_count": 7,
      "outputs": [
        {
          "output_type": "execute_result",
          "data": {
            "text/html": [
              "<div>\n",
              "<style scoped>\n",
              "    .dataframe tbody tr th:only-of-type {\n",
              "        vertical-align: middle;\n",
              "    }\n",
              "\n",
              "    .dataframe tbody tr th {\n",
              "        vertical-align: top;\n",
              "    }\n",
              "\n",
              "    .dataframe thead th {\n",
              "        text-align: right;\n",
              "    }\n",
              "</style>\n",
              "<table border=\"1\" class=\"dataframe\">\n",
              "  <thead>\n",
              "    <tr style=\"text-align: right;\">\n",
              "      <th></th>\n",
              "      <th>Strike Price</th>\n",
              "      <th>Close</th>\n",
              "      <th>Expiration</th>\n",
              "      <th>Adj Close</th>\n",
              "      <th>Price</th>\n",
              "      <th>bs_call</th>\n",
              "      <th>svol</th>\n",
              "      <th>Vix</th>\n",
              "    </tr>\n",
              "    <tr>\n",
              "      <th>Date</th>\n",
              "      <th></th>\n",
              "      <th></th>\n",
              "      <th></th>\n",
              "      <th></th>\n",
              "      <th></th>\n",
              "      <th></th>\n",
              "      <th></th>\n",
              "      <th></th>\n",
              "    </tr>\n",
              "  </thead>\n",
              "  <tbody>\n",
              "    <tr>\n",
              "      <th>2013-12-31</th>\n",
              "      <td>6200</td>\n",
              "      <td>199.65</td>\n",
              "      <td>30</td>\n",
              "      <td>6304.0</td>\n",
              "      <td>8.82</td>\n",
              "      <td>188.621115</td>\n",
              "      <td>0.10855</td>\n",
              "      <td>15.08</td>\n",
              "    </tr>\n",
              "    <tr>\n",
              "      <th>2013-12-31</th>\n",
              "      <td>6300</td>\n",
              "      <td>131.00</td>\n",
              "      <td>30</td>\n",
              "      <td>6304.0</td>\n",
              "      <td>8.82</td>\n",
              "      <td>124.059028</td>\n",
              "      <td>0.10855</td>\n",
              "      <td>15.08</td>\n",
              "    </tr>\n",
              "    <tr>\n",
              "      <th>2013-12-31</th>\n",
              "      <td>6400</td>\n",
              "      <td>79.00</td>\n",
              "      <td>30</td>\n",
              "      <td>6304.0</td>\n",
              "      <td>8.82</td>\n",
              "      <td>75.195204</td>\n",
              "      <td>0.10855</td>\n",
              "      <td>15.08</td>\n",
              "    </tr>\n",
              "    <tr>\n",
              "      <th>2013-12-31</th>\n",
              "      <td>6500</td>\n",
              "      <td>41.35</td>\n",
              "      <td>30</td>\n",
              "      <td>6304.0</td>\n",
              "      <td>8.82</td>\n",
              "      <td>41.683668</td>\n",
              "      <td>0.10855</td>\n",
              "      <td>15.08</td>\n",
              "    </tr>\n",
              "    <tr>\n",
              "      <th>2013-12-31</th>\n",
              "      <td>6600</td>\n",
              "      <td>18.60</td>\n",
              "      <td>30</td>\n",
              "      <td>6304.0</td>\n",
              "      <td>8.82</td>\n",
              "      <td>21.015752</td>\n",
              "      <td>0.10855</td>\n",
              "      <td>15.08</td>\n",
              "    </tr>\n",
              "  </tbody>\n",
              "</table>\n",
              "</div>"
            ],
            "text/plain": [
              "            Strike Price   Close  Expiration  ...     bs_call     svol    Vix\n",
              "Date                                          ...                            \n",
              "2013-12-31          6200  199.65          30  ...  188.621115  0.10855  15.08\n",
              "2013-12-31          6300  131.00          30  ...  124.059028  0.10855  15.08\n",
              "2013-12-31          6400   79.00          30  ...   75.195204  0.10855  15.08\n",
              "2013-12-31          6500   41.35          30  ...   41.683668  0.10855  15.08\n",
              "2013-12-31          6600   18.60          30  ...   21.015752  0.10855  15.08\n",
              "\n",
              "[5 rows x 8 columns]"
            ]
          },
          "metadata": {
            "tags": []
          },
          "execution_count": 7
        }
      ]
    },
    {
      "cell_type": "code",
      "metadata": {
        "id": "YDlt1IZoaxn4",
        "execution": {
          "iopub.status.busy": "2021-06-13T15:36:48.64444Z",
          "iopub.execute_input": "2021-06-13T15:36:48.644968Z",
          "iopub.status.idle": "2021-06-13T15:36:48.65844Z",
          "shell.execute_reply.started": "2021-06-13T15:36:48.644915Z",
          "shell.execute_reply": "2021-06-13T15:36:48.657396Z"
        },
        "trusted": true,
        "colab": {
          "base_uri": "https://localhost:8080/",
          "height": 234
        },
        "outputId": "f012f89c-66df-4f15-953d-1be69189f639"
      },
      "source": [
        "put_df.head()"
      ],
      "execution_count": 8,
      "outputs": [
        {
          "output_type": "execute_result",
          "data": {
            "text/html": [
              "<div>\n",
              "<style scoped>\n",
              "    .dataframe tbody tr th:only-of-type {\n",
              "        vertical-align: middle;\n",
              "    }\n",
              "\n",
              "    .dataframe tbody tr th {\n",
              "        vertical-align: top;\n",
              "    }\n",
              "\n",
              "    .dataframe thead th {\n",
              "        text-align: right;\n",
              "    }\n",
              "</style>\n",
              "<table border=\"1\" class=\"dataframe\">\n",
              "  <thead>\n",
              "    <tr style=\"text-align: right;\">\n",
              "      <th></th>\n",
              "      <th>Strike Price</th>\n",
              "      <th>Close</th>\n",
              "      <th>Expiration</th>\n",
              "      <th>Adj Close</th>\n",
              "      <th>Price</th>\n",
              "      <th>bs_call</th>\n",
              "      <th>svol</th>\n",
              "      <th>Vix</th>\n",
              "    </tr>\n",
              "    <tr>\n",
              "      <th>Date</th>\n",
              "      <th></th>\n",
              "      <th></th>\n",
              "      <th></th>\n",
              "      <th></th>\n",
              "      <th></th>\n",
              "      <th></th>\n",
              "      <th></th>\n",
              "      <th></th>\n",
              "    </tr>\n",
              "  </thead>\n",
              "  <tbody>\n",
              "    <tr>\n",
              "      <th>2013-12-31</th>\n",
              "      <td>5800</td>\n",
              "      <td>6.30</td>\n",
              "      <td>30</td>\n",
              "      <td>6304.0</td>\n",
              "      <td>8.82</td>\n",
              "      <td>0.780877</td>\n",
              "      <td>0.10855</td>\n",
              "      <td>15.08</td>\n",
              "    </tr>\n",
              "    <tr>\n",
              "      <th>2013-12-31</th>\n",
              "      <td>5900</td>\n",
              "      <td>10.30</td>\n",
              "      <td>30</td>\n",
              "      <td>6304.0</td>\n",
              "      <td>8.82</td>\n",
              "      <td>2.667110</td>\n",
              "      <td>0.10855</td>\n",
              "      <td>15.08</td>\n",
              "    </tr>\n",
              "    <tr>\n",
              "      <th>2013-12-31</th>\n",
              "      <td>6000</td>\n",
              "      <td>17.15</td>\n",
              "      <td>30</td>\n",
              "      <td>6304.0</td>\n",
              "      <td>8.82</td>\n",
              "      <td>7.656025</td>\n",
              "      <td>0.10855</td>\n",
              "      <td>15.08</td>\n",
              "    </tr>\n",
              "    <tr>\n",
              "      <th>2013-12-31</th>\n",
              "      <td>6100</td>\n",
              "      <td>28.80</td>\n",
              "      <td>30</td>\n",
              "      <td>6304.0</td>\n",
              "      <td>8.82</td>\n",
              "      <td>18.756159</td>\n",
              "      <td>0.10855</td>\n",
              "      <td>15.08</td>\n",
              "    </tr>\n",
              "    <tr>\n",
              "      <th>2013-12-31</th>\n",
              "      <td>6200</td>\n",
              "      <td>49.10</td>\n",
              "      <td>30</td>\n",
              "      <td>6304.0</td>\n",
              "      <td>8.82</td>\n",
              "      <td>39.837882</td>\n",
              "      <td>0.10855</td>\n",
              "      <td>15.08</td>\n",
              "    </tr>\n",
              "  </tbody>\n",
              "</table>\n",
              "</div>"
            ],
            "text/plain": [
              "            Strike Price  Close  Expiration  ...    bs_call     svol    Vix\n",
              "Date                                         ...                           \n",
              "2013-12-31          5800   6.30          30  ...   0.780877  0.10855  15.08\n",
              "2013-12-31          5900  10.30          30  ...   2.667110  0.10855  15.08\n",
              "2013-12-31          6000  17.15          30  ...   7.656025  0.10855  15.08\n",
              "2013-12-31          6100  28.80          30  ...  18.756159  0.10855  15.08\n",
              "2013-12-31          6200  49.10          30  ...  39.837882  0.10855  15.08\n",
              "\n",
              "[5 rows x 8 columns]"
            ]
          },
          "metadata": {
            "tags": []
          },
          "execution_count": 8
        }
      ]
    },
    {
      "cell_type": "code",
      "metadata": {
        "id": "9X-rXAUyVukz",
        "execution": {
          "iopub.status.busy": "2021-06-13T15:36:48.668502Z",
          "iopub.execute_input": "2021-06-13T15:36:48.669145Z",
          "iopub.status.idle": "2021-06-13T15:36:48.675024Z",
          "shell.execute_reply.started": "2021-06-13T15:36:48.669107Z",
          "shell.execute_reply": "2021-06-13T15:36:48.673983Z"
        },
        "trusted": true
      },
      "source": [
        "def regression(df):\n",
        "  sns.scatterplot(x=df['Close'],y=df['bs_call'],hue=df['Expiration'])"
      ],
      "execution_count": 9,
      "outputs": []
    },
    {
      "cell_type": "code",
      "metadata": {
        "id": "7ersRLb7WF0o",
        "execution": {
          "iopub.status.busy": "2021-06-13T15:36:48.677619Z",
          "iopub.execute_input": "2021-06-13T15:36:48.67811Z",
          "iopub.status.idle": "2021-06-13T15:36:48.683054Z",
          "shell.execute_reply.started": "2021-06-13T15:36:48.678073Z",
          "shell.execute_reply": "2021-06-13T15:36:48.682134Z"
        },
        "trusted": true
      },
      "source": [
        "def split_data(df):\n",
        "  call_X_train, call_X_test, call_y_train, call_y_test = train_test_split(df[['Strike Price','Adj Close','Expiration','Price','svol','Vix']],df['Close'],test_size=0.2,random_state=42)\n",
        "  return call_X_train, call_X_test, call_y_train, call_y_test"
      ],
      "execution_count": 10,
      "outputs": []
    },
    {
      "cell_type": "code",
      "metadata": {
        "id": "onw_FlgXWGRd",
        "execution": {
          "iopub.status.busy": "2021-06-13T15:36:48.684862Z",
          "iopub.execute_input": "2021-06-13T15:36:48.685498Z",
          "iopub.status.idle": "2021-06-13T15:36:48.691385Z",
          "shell.execute_reply.started": "2021-06-13T15:36:48.685443Z",
          "shell.execute_reply": "2021-06-13T15:36:48.690189Z"
        },
        "trusted": true
      },
      "source": [
        "def split_data_bs(df):\n",
        "  call_X_train, call_X_test, call_y_train, call_y_test = train_test_split(df[['Strike Price','Adj Close','Expiration','Price','svol','Vix']],df['bs_call'],test_size=0.2,random_state=42)\n",
        "  return call_X_train, call_X_test, call_y_train, call_y_test"
      ],
      "execution_count": 11,
      "outputs": []
    },
    {
      "cell_type": "code",
      "metadata": {
        "id": "_qucyMOwbaUn",
        "execution": {
          "iopub.status.busy": "2021-06-13T15:36:48.692786Z",
          "iopub.execute_input": "2021-06-13T15:36:48.693201Z",
          "iopub.status.idle": "2021-06-13T15:36:48.699763Z",
          "shell.execute_reply.started": "2021-06-13T15:36:48.693148Z",
          "shell.execute_reply": "2021-06-13T15:36:48.698834Z"
        },
        "trusted": true
      },
      "source": [
        "n_units = 400\n",
        "layers = 5\n",
        "n_batch = 50\n",
        "n_epochs = 20"
      ],
      "execution_count": 12,
      "outputs": []
    },
    {
      "cell_type": "code",
      "metadata": {
        "id": "aMnoAWJ-WNwD",
        "execution": {
          "iopub.status.busy": "2021-06-13T16:24:52.421489Z",
          "iopub.execute_input": "2021-06-13T16:24:52.421823Z",
          "iopub.status.idle": "2021-06-13T16:24:52.428556Z",
          "shell.execute_reply.started": "2021-06-13T16:24:52.421794Z",
          "shell.execute_reply": "2021-06-13T16:24:52.427456Z"
        },
        "trusted": true
      },
      "source": [
        "def make_model(hp):\n",
        "    model = Sequential()\n",
        "    model.add(Dense(n_units, input_dim=call_df.shape[1]-2))\n",
        "    model.add(LeakyReLU())\n",
        "    for i in range(hp.Int('num_layers',4,20)):\n",
        "        model.add(Dense(hp.Int('units_'+str(i),min_value=200,max_value=800,step=50)))\n",
        "        model.add(LeakyReLU())\n",
        "        \n",
        "    model.add(Dense(1, activation='relu'))\n",
        "    opt = keras.optimizers.Adam(hp.Choice('learning_rate', [1e-6, 1e-4,1e-5]))\n",
        "    model.compile(loss='mae', optimizer=opt,metrics=['mse'])\n",
        "    return model"
      ],
      "execution_count": 19,
      "outputs": []
    },
    {
      "cell_type": "code",
      "metadata": {
        "execution": {
          "iopub.status.busy": "2021-06-13T16:24:54.21256Z",
          "iopub.execute_input": "2021-06-13T16:24:54.212885Z",
          "iopub.status.idle": "2021-06-13T16:24:54.508723Z",
          "shell.execute_reply.started": "2021-06-13T16:24:54.212845Z",
          "shell.execute_reply": "2021-06-13T16:24:54.507897Z"
        },
        "trusted": true,
        "id": "fXcRd8VFACuV"
      },
      "source": [
        "tuner = kt.Hyperband(\n",
        "    make_model,\n",
        "    objective='mse',\n",
        "    #directory='/content/drive/MyDrive/black_scholes_option_pricing',\n",
        "    project_name='HyperParameters',\n",
        "    max_epochs=20,seed=42,\n",
        "    factor=3)"
      ],
      "execution_count": 20,
      "outputs": []
    },
    {
      "cell_type": "code",
      "metadata": {
        "execution": {
          "iopub.status.busy": "2021-06-13T16:24:56.572547Z",
          "iopub.execute_input": "2021-06-13T16:24:56.57299Z",
          "iopub.status.idle": "2021-06-13T16:24:56.590898Z",
          "shell.execute_reply.started": "2021-06-13T16:24:56.572948Z",
          "shell.execute_reply": "2021-06-13T16:24:56.589875Z"
        },
        "trusted": true,
        "colab": {
          "base_uri": "https://localhost:8080/"
        },
        "id": "OSi9SPN4ACuV",
        "outputId": "aebef016-2390-4592-c86a-9040041baed0"
      },
      "source": [
        "tuner.search_space_summary()\n"
      ],
      "execution_count": 21,
      "outputs": [
        {
          "output_type": "stream",
          "text": [
            "Search space summary\n",
            "Default search space size: 6\n",
            "num_layers (Int)\n",
            "{'default': None, 'conditions': [], 'min_value': 4, 'max_value': 20, 'step': 1, 'sampling': None}\n",
            "units_0 (Int)\n",
            "{'default': None, 'conditions': [], 'min_value': 200, 'max_value': 800, 'step': 50, 'sampling': None}\n",
            "units_1 (Int)\n",
            "{'default': None, 'conditions': [], 'min_value': 200, 'max_value': 800, 'step': 50, 'sampling': None}\n",
            "units_2 (Int)\n",
            "{'default': None, 'conditions': [], 'min_value': 200, 'max_value': 800, 'step': 50, 'sampling': None}\n",
            "units_3 (Int)\n",
            "{'default': None, 'conditions': [], 'min_value': 200, 'max_value': 800, 'step': 50, 'sampling': None}\n",
            "learning_rate (Choice)\n",
            "{'default': 1e-06, 'conditions': [], 'values': [1e-06, 0.0001, 1e-05], 'ordered': True}\n"
          ],
          "name": "stdout"
        }
      ]
    },
    {
      "cell_type": "code",
      "metadata": {
        "execution": {
          "iopub.status.busy": "2021-06-13T16:25:09.219064Z",
          "iopub.execute_input": "2021-06-13T16:25:09.219392Z",
          "iopub.status.idle": "2021-06-13T16:34:27.051325Z",
          "shell.execute_reply.started": "2021-06-13T16:25:09.219359Z",
          "shell.execute_reply": "2021-06-13T16:34:27.050325Z"
        },
        "trusted": true,
        "colab": {
          "base_uri": "https://localhost:8080/"
        },
        "id": "DPj57YTBACuW",
        "outputId": "05547e27-1677-4c35-a777-6315e1c808c9"
      },
      "source": [
        "X_train, X_test, y_train, y_test=split_data(call_df)\n",
        "tuner.search(X_train, y_train,epochs=20,validation_split=0.2)"
      ],
      "execution_count": 22,
      "outputs": [
        {
          "output_type": "stream",
          "text": [
            "Trial 30 Complete [00h 01m 19s]\n",
            "mse: 10913.7744140625\n",
            "\n",
            "Best mse So Far: 7625.1689453125\n",
            "Total elapsed time: 00h 18m 39s\n",
            "INFO:tensorflow:Oracle triggered exit\n"
          ],
          "name": "stdout"
        }
      ]
    },
    {
      "cell_type": "code",
      "metadata": {
        "id": "pDpgujxiACuW"
      },
      "source": [
        "best_hps=tuner.get_best_hyperparameters(num_trials=1)[0]\n",
        "best_model=tuner.hypermodel.build(best_hps)"
      ],
      "execution_count": 28,
      "outputs": []
    },
    {
      "cell_type": "code",
      "metadata": {
        "id": "q1sMTDlOy1DH",
        "execution": {
          "iopub.status.busy": "2021-06-13T16:36:22.213372Z",
          "iopub.execute_input": "2021-06-13T16:36:22.213725Z",
          "iopub.status.idle": "2021-06-13T16:36:22.224461Z",
          "shell.execute_reply.started": "2021-06-13T16:36:22.213693Z",
          "shell.execute_reply": "2021-06-13T16:36:22.223526Z"
        },
        "trusted": true,
        "colab": {
          "base_uri": "https://localhost:8080/"
        },
        "outputId": "232ae8b2-a869-4b70-d839-3f51aa906b21"
      },
      "source": [
        "best_model.summary()"
      ],
      "execution_count": 29,
      "outputs": [
        {
          "output_type": "stream",
          "text": [
            "Model: \"sequential\"\n",
            "_________________________________________________________________\n",
            "Layer (type)                 Output Shape              Param #   \n",
            "=================================================================\n",
            "dense (Dense)                (None, 400)               2800      \n",
            "_________________________________________________________________\n",
            "leaky_re_lu (LeakyReLU)      (None, 400)               0         \n",
            "_________________________________________________________________\n",
            "dense_1 (Dense)              (None, 450)               180450    \n",
            "_________________________________________________________________\n",
            "leaky_re_lu_1 (LeakyReLU)    (None, 450)               0         \n",
            "_________________________________________________________________\n",
            "dense_2 (Dense)              (None, 450)               202950    \n",
            "_________________________________________________________________\n",
            "leaky_re_lu_2 (LeakyReLU)    (None, 450)               0         \n",
            "_________________________________________________________________\n",
            "dense_3 (Dense)              (None, 650)               293150    \n",
            "_________________________________________________________________\n",
            "leaky_re_lu_3 (LeakyReLU)    (None, 650)               0         \n",
            "_________________________________________________________________\n",
            "dense_4 (Dense)              (None, 500)               325500    \n",
            "_________________________________________________________________\n",
            "leaky_re_lu_4 (LeakyReLU)    (None, 500)               0         \n",
            "_________________________________________________________________\n",
            "dense_5 (Dense)              (None, 250)               125250    \n",
            "_________________________________________________________________\n",
            "leaky_re_lu_5 (LeakyReLU)    (None, 250)               0         \n",
            "_________________________________________________________________\n",
            "dense_6 (Dense)              (None, 500)               125500    \n",
            "_________________________________________________________________\n",
            "leaky_re_lu_6 (LeakyReLU)    (None, 500)               0         \n",
            "_________________________________________________________________\n",
            "dense_7 (Dense)              (None, 400)               200400    \n",
            "_________________________________________________________________\n",
            "leaky_re_lu_7 (LeakyReLU)    (None, 400)               0         \n",
            "_________________________________________________________________\n",
            "dense_8 (Dense)              (None, 600)               240600    \n",
            "_________________________________________________________________\n",
            "leaky_re_lu_8 (LeakyReLU)    (None, 600)               0         \n",
            "_________________________________________________________________\n",
            "dense_9 (Dense)              (None, 1)                 601       \n",
            "=================================================================\n",
            "Total params: 1,697,201\n",
            "Trainable params: 1,697,201\n",
            "Non-trainable params: 0\n",
            "_________________________________________________________________\n"
          ],
          "name": "stdout"
        }
      ]
    },
    {
      "cell_type": "code",
      "metadata": {
        "id": "oR11ltvjf57V",
        "execution": {
          "iopub.status.busy": "2021-06-13T16:36:27.156291Z",
          "iopub.execute_input": "2021-06-13T16:36:27.156672Z",
          "iopub.status.idle": "2021-06-13T16:36:27.163776Z",
          "shell.execute_reply.started": "2021-06-13T16:36:27.156637Z",
          "shell.execute_reply": "2021-06-13T16:36:27.162635Z"
        },
        "trusted": true
      },
      "source": [
        "def metrics(y_test,y_pred):\n",
        "  x=np.array(y_test).reshape(-1,1)\n",
        "  y=np.array(y_pred).reshape(-1,1)\n",
        "  reg=LinearRegression().fit(x,y)\n",
        "  mae= mean_absolute_error(x,y)\n",
        "  mse=mean_squared_error(x,y)\n",
        "  print(\"REG_SCORE - \",reg.score(x,y))\n",
        "  print(\"Mean Absolute Error -\",mae)\n",
        "  print(\"Mean Squared Error -\",mse)\n",
        "  print(\"Explained_Variance_Score - \",explained_variance_score(x,y))\n",
        "  print(\"\")\n",
        "  plt.scatter(x,y)\n",
        "  print(\"\")"
      ],
      "execution_count": 35,
      "outputs": []
    },
    {
      "cell_type": "code",
      "metadata": {
        "id": "z2onSXHgduND",
        "execution": {
          "iopub.status.busy": "2021-06-13T16:36:29.286073Z",
          "iopub.execute_input": "2021-06-13T16:36:29.286401Z",
          "iopub.status.idle": "2021-06-13T16:36:29.29329Z",
          "shell.execute_reply.started": "2021-06-13T16:36:29.286363Z",
          "shell.execute_reply": "2021-06-13T16:36:29.29148Z"
        },
        "trusted": true
      },
      "source": [
        "def prediction(df):\n",
        "  X_train, X_test, y_train, y_test=split_data(df)\n",
        "  X_train_bs, X_test_bs, y_train_bs, y_test_bs=split_data_bs(df)\n",
        "  best_model.fit(X_train,y_train, epochs=20, validation_split=0.2)\n",
        "  y_pred = best_model.predict(X_test)\n",
        "  print(\"********Metrics of MLP MODEL********\")\n",
        "  metrics(y_test,y_pred)\n",
        "  print(\"********Metrics of BlackScholes Model********\")\n",
        "  metrics(y_test,y_test_bs)"
      ],
      "execution_count": 32,
      "outputs": []
    },
    {
      "cell_type": "code",
      "metadata": {
        "id": "awrkFQrjep3e",
        "execution": {
          "iopub.status.busy": "2021-06-13T16:36:36.113559Z",
          "iopub.execute_input": "2021-06-13T16:36:36.113885Z",
          "iopub.status.idle": "2021-06-13T16:36:39.756343Z",
          "shell.execute_reply.started": "2021-06-13T16:36:36.113858Z",
          "shell.execute_reply": "2021-06-13T16:36:39.755575Z"
        },
        "trusted": true,
        "colab": {
          "base_uri": "https://localhost:8080/",
          "height": 1000
        },
        "outputId": "10d9aac9-1cb5-4751-cdbb-0c631444bb77"
      },
      "source": [
        "prediction(call_df)"
      ],
      "execution_count": 34,
      "outputs": [
        {
          "output_type": "stream",
          "text": [
            "Epoch 1/20\n",
            "1087/1087 [==============================] - 4s 4ms/step - loss: 34.8907 - mse: 6750.8643 - val_loss: 40.5742 - val_mse: 7877.7261\n",
            "Epoch 2/20\n",
            "1087/1087 [==============================] - 4s 4ms/step - loss: 34.4454 - mse: 6723.3062 - val_loss: 41.4917 - val_mse: 7629.5303\n",
            "Epoch 3/20\n",
            "1087/1087 [==============================] - 4s 3ms/step - loss: 34.4940 - mse: 6724.6343 - val_loss: 38.5212 - val_mse: 7013.6250\n",
            "Epoch 4/20\n",
            "1087/1087 [==============================] - 4s 4ms/step - loss: 34.2263 - mse: 6671.1201 - val_loss: 34.1012 - val_mse: 7096.0938\n",
            "Epoch 5/20\n",
            "1087/1087 [==============================] - 4s 4ms/step - loss: 33.7064 - mse: 6693.0625 - val_loss: 33.5686 - val_mse: 6819.8384\n",
            "Epoch 6/20\n",
            "1087/1087 [==============================] - 4s 3ms/step - loss: 33.4184 - mse: 6656.6631 - val_loss: 44.6237 - val_mse: 7543.5537\n",
            "Epoch 7/20\n",
            "1087/1087 [==============================] - 4s 3ms/step - loss: 33.2773 - mse: 6621.0986 - val_loss: 31.3243 - val_mse: 6784.3999\n",
            "Epoch 8/20\n",
            "1087/1087 [==============================] - 4s 4ms/step - loss: 33.0847 - mse: 6535.4131 - val_loss: 34.8977 - val_mse: 6982.5068\n",
            "Epoch 9/20\n",
            "1087/1087 [==============================] - 4s 3ms/step - loss: 32.4129 - mse: 6551.3525 - val_loss: 38.8801 - val_mse: 7498.4014\n",
            "Epoch 10/20\n",
            "1087/1087 [==============================] - 4s 3ms/step - loss: 32.4434 - mse: 6527.7812 - val_loss: 33.2195 - val_mse: 7150.5684\n",
            "Epoch 11/20\n",
            "1087/1087 [==============================] - 4s 3ms/step - loss: 32.2861 - mse: 6529.2036 - val_loss: 30.6431 - val_mse: 6704.9556\n",
            "Epoch 12/20\n",
            "1087/1087 [==============================] - 4s 4ms/step - loss: 31.8616 - mse: 6511.8633 - val_loss: 29.7009 - val_mse: 6779.5674\n",
            "Epoch 13/20\n",
            "1087/1087 [==============================] - 4s 3ms/step - loss: 31.8146 - mse: 6514.1592 - val_loss: 37.2519 - val_mse: 7464.0815\n",
            "Epoch 14/20\n",
            "1087/1087 [==============================] - 4s 3ms/step - loss: 32.4362 - mse: 6575.9663 - val_loss: 32.3481 - val_mse: 6729.0557\n",
            "Epoch 15/20\n",
            "1087/1087 [==============================] - 4s 4ms/step - loss: 31.7748 - mse: 6484.5435 - val_loss: 33.8615 - val_mse: 7361.0439\n",
            "Epoch 16/20\n",
            "1087/1087 [==============================] - 4s 4ms/step - loss: 31.8086 - mse: 6527.8740 - val_loss: 38.6460 - val_mse: 7328.8179\n",
            "Epoch 17/20\n",
            "1087/1087 [==============================] - 4s 3ms/step - loss: 31.7174 - mse: 6493.9478 - val_loss: 30.7438 - val_mse: 6734.1084\n",
            "Epoch 18/20\n",
            "1087/1087 [==============================] - 4s 4ms/step - loss: 31.2697 - mse: 6450.3120 - val_loss: 41.0362 - val_mse: 7907.7710\n",
            "Epoch 19/20\n",
            "1087/1087 [==============================] - 4s 3ms/step - loss: 31.0738 - mse: 6409.1792 - val_loss: 29.2683 - val_mse: 6835.2842\n",
            "Epoch 20/20\n",
            "1087/1087 [==============================] - 4s 4ms/step - loss: 30.6997 - mse: 6403.8706 - val_loss: 36.1679 - val_mse: 6977.1357\n",
            "********Metrics of MLP MODEL********\n",
            "REG_SCORE -  0.9603914344807186\n",
            "Mean Absolute Error - 36.66607447604935\n",
            "Mean Squared Error - 6948.160621705191\n",
            "Explained_Variance_Score -  0.9601888897774931\n",
            "\n",
            "\n",
            "********Metrics of BlackScholes Model********\n",
            "REG_SCORE -  0.9494898762123269\n",
            "Mean Absolute Error - 38.45105511123691\n",
            "Mean Squared Error - 8722.47606557437\n",
            "Explained_Variance_Score -  0.9468373613438806\n",
            "\n",
            "\n"
          ],
          "name": "stdout"
        },
        {
          "output_type": "display_data",
          "data": {
            "image/png": "[encoded data removed]",
            "text/plain": [
              "<Figure size 432x288 with 1 Axes>"
            ]
          },
          "metadata": {
            "tags": [],
            "needs_background": "light"
          }
        }
      ]
    },
    {
      "cell_type": "code",
      "metadata": {
        "colab": {
          "base_uri": "https://localhost:8080/"
        },
        "id": "79a8TfbgACuX",
        "outputId": "9ae2a32c-ba37-49af-c286-450f0af0a013"
      },
      "source": [
        "prediction(put_df)"
      ],
      "execution_count": 36,
      "outputs": [
        {
          "output_type": "stream",
          "text": [
            "Epoch 1/20\n",
            "1064/1064 [==============================] - 4s 3ms/step - loss: 46.5493 - mse: 13988.4365 - val_loss: 33.4480 - val_mse: 6525.1909\n",
            "Epoch 2/20\n",
            "1064/1064 [==============================] - 4s 4ms/step - loss: 34.1871 - mse: 5767.5063 - val_loss: 30.7590 - val_mse: 6377.6069\n",
            "Epoch 3/20\n",
            "1064/1064 [==============================] - 4s 3ms/step - loss: 34.2080 - mse: 5670.4702 - val_loss: 33.7244 - val_mse: 6255.8345\n",
            "Epoch 4/20\n",
            "1064/1064 [==============================] - 4s 3ms/step - loss: 32.5301 - mse: 5537.7603 - val_loss: 33.2240 - val_mse: 6016.0947\n",
            "Epoch 5/20\n",
            "1064/1064 [==============================] - 4s 3ms/step - loss: 31.9259 - mse: 5445.2236 - val_loss: 32.1951 - val_mse: 6746.2764\n",
            "Epoch 6/20\n",
            "1064/1064 [==============================] - 4s 3ms/step - loss: 30.4619 - mse: 5310.6714 - val_loss: 26.7731 - val_mse: 5980.8213\n",
            "Epoch 7/20\n",
            "1064/1064 [==============================] - 4s 3ms/step - loss: 30.8329 - mse: 5334.0996 - val_loss: 31.1132 - val_mse: 6370.6465\n",
            "Epoch 8/20\n",
            "1064/1064 [==============================] - 4s 4ms/step - loss: 30.3671 - mse: 5307.4678 - val_loss: 37.8646 - val_mse: 6543.8506\n",
            "Epoch 9/20\n",
            "1064/1064 [==============================] - 4s 3ms/step - loss: 29.6808 - mse: 5222.8604 - val_loss: 38.3837 - val_mse: 7699.0391\n",
            "Epoch 10/20\n",
            "1064/1064 [==============================] - 4s 3ms/step - loss: 29.4329 - mse: 5185.3574 - val_loss: 29.9523 - val_mse: 5857.8745\n",
            "Epoch 11/20\n",
            "1064/1064 [==============================] - 4s 4ms/step - loss: 29.1076 - mse: 5155.5967 - val_loss: 29.1844 - val_mse: 5602.1367\n",
            "Epoch 12/20\n",
            "1064/1064 [==============================] - 4s 3ms/step - loss: 28.9649 - mse: 5146.7007 - val_loss: 27.9409 - val_mse: 6109.7261\n",
            "Epoch 13/20\n",
            "1064/1064 [==============================] - 4s 3ms/step - loss: 29.3822 - mse: 5189.7207 - val_loss: 31.0012 - val_mse: 6437.0088\n",
            "Epoch 14/20\n",
            "1064/1064 [==============================] - 4s 4ms/step - loss: 27.9891 - mse: 5009.8013 - val_loss: 28.3631 - val_mse: 5824.1719\n",
            "Epoch 15/20\n",
            "1064/1064 [==============================] - 4s 4ms/step - loss: 28.2686 - mse: 5046.3496 - val_loss: 30.3242 - val_mse: 6089.9736\n",
            "Epoch 16/20\n",
            "1064/1064 [==============================] - 4s 3ms/step - loss: 28.5599 - mse: 5088.6270 - val_loss: 30.7735 - val_mse: 5779.2378\n",
            "Epoch 17/20\n",
            "1064/1064 [==============================] - 4s 4ms/step - loss: 28.6474 - mse: 5053.6436 - val_loss: 29.5812 - val_mse: 5733.1025\n",
            "Epoch 18/20\n",
            "1064/1064 [==============================] - 4s 4ms/step - loss: 28.2042 - mse: 5051.0596 - val_loss: 29.2120 - val_mse: 5858.4185\n",
            "Epoch 19/20\n",
            "1064/1064 [==============================] - 4s 3ms/step - loss: 28.4839 - mse: 5061.5503 - val_loss: 27.9578 - val_mse: 6040.0967\n",
            "Epoch 20/20\n",
            "1064/1064 [==============================] - 4s 3ms/step - loss: 28.2377 - mse: 5031.9512 - val_loss: 25.9463 - val_mse: 5885.0503\n",
            "********Metrics of MLP MODEL********\n",
            "REG_SCORE -  0.9717387093090842\n",
            "Mean Absolute Error - 27.060571685984723\n",
            "Mean Squared Error - 6305.561581508716\n",
            "Explained_Variance_Score -  0.9714242035943906\n",
            "\n",
            "********Metrics of BlackScholes Model********\n",
            "REG_SCORE -  0.9590950800387738\n",
            "Mean Absolute Error - 46.866418666752175\n",
            "Mean Squared Error - 9421.919792591612\n",
            "Explained_Variance_Score -  0.9579455057191564\n",
            "\n"
          ],
          "name": "stdout"
        }
      ]
    }
  ]
}