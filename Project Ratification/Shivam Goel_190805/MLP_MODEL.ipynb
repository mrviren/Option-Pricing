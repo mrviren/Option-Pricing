{
  "nbformat": 4,
  "nbformat_minor": 0,
  "metadata": {
    "colab": {
      "name": "MLP_MODEL.ipynb",
      "provenance": []
    },
    "kernelspec": {
      "name": "python3",
      "display_name": "Python 3"
    },
    "language_info": {
      "name": "python"
    },
    "accelerator": "GPU"
  },
  "cells": [
    {
      "cell_type": "code",
      "metadata": {
        "colab": {
          "base_uri": "https://localhost:8080/"
        },
        "id": "fTQvTIq4aYAw",
        "outputId": "81a5f5b9-91f9-4cf0-a0ad-84a6291e914f"
      },
      "source": [
        "from google.colab import drive\n",
        "drive.mount('/content/drive')"
      ],
      "execution_count": 1,
      "outputs": [
        {
          "output_type": "stream",
          "text": [
            "Drive already mounted at /content/drive; to attempt to forcibly remount, call drive.mount(\"/content/drive\", force_remount=True).\n"
          ],
          "name": "stdout"
        }
      ]
    },
    {
      "cell_type": "code",
      "metadata": {
        "id": "RycSP0ylafzY"
      },
      "source": [
        "import pandas as pd\n",
        "import numpy as np\n",
        "import matplotlib.pyplot as plt\n",
        "from tensorflow import keras\n",
        "from keras.models import Sequential\n",
        "from keras.layers import Dense, Activation, LeakyReLU\n",
        "from keras import backend\n",
        "from keras.callbacks import TensorBoard\n",
        "from keras.optimizers import Adam\n",
        "import pandas as pd\n",
        "import numpy as np\n",
        "from sklearn.model_selection import train_test_split\n",
        "from sklearn.linear_model import LinearRegression\n",
        "from sklearn.metrics import mean_squared_error, mean_absolute_error,explained_variance_score\n",
        "import seaborn as sns"
      ],
      "execution_count": 2,
      "outputs": []
    },
    {
      "cell_type": "code",
      "metadata": {
        "id": "asm3rL4fanG-"
      },
      "source": [
        "call_df=pd.read_csv('/content/drive/MyDrive/black_scholes_option_pricing/complete_data/Call_with_svol_vix.csv')\n",
        "put_df=pd.read_csv('/content/drive/MyDrive/black_scholes_option_pricing/complete_data/Put_with_svol_vix.csv')\n",
        "call_df=call_df.set_index(['Date'])\n",
        "put_df=put_df.set_index(['Date'])"
      ],
      "execution_count": 3,
      "outputs": []
    },
    {
      "cell_type": "code",
      "metadata": {
        "colab": {
          "base_uri": "https://localhost:8080/",
          "height": 234
        },
        "id": "NkvPVtV7avUa",
        "outputId": "591406cf-b70f-4610-e03e-c5729ccf5a5a"
      },
      "source": [
        "call_df.head()"
      ],
      "execution_count": 4,
      "outputs": [
        {
          "output_type": "execute_result",
          "data": {
            "text/html": [
              "<div>\n",
              "<style scoped>\n",
              "    .dataframe tbody tr th:only-of-type {\n",
              "        vertical-align: middle;\n",
              "    }\n",
              "\n",
              "    .dataframe tbody tr th {\n",
              "        vertical-align: top;\n",
              "    }\n",
              "\n",
              "    .dataframe thead th {\n",
              "        text-align: right;\n",
              "    }\n",
              "</style>\n",
              "<table border=\"1\" class=\"dataframe\">\n",
              "  <thead>\n",
              "    <tr style=\"text-align: right;\">\n",
              "      <th></th>\n",
              "      <th>Strike Price</th>\n",
              "      <th>Close</th>\n",
              "      <th>Expiration</th>\n",
              "      <th>Adj Close</th>\n",
              "      <th>Price</th>\n",
              "      <th>bs_call</th>\n",
              "      <th>svol</th>\n",
              "      <th>Vix</th>\n",
              "    </tr>\n",
              "    <tr>\n",
              "      <th>Date</th>\n",
              "      <th></th>\n",
              "      <th></th>\n",
              "      <th></th>\n",
              "      <th></th>\n",
              "      <th></th>\n",
              "      <th></th>\n",
              "      <th></th>\n",
              "      <th></th>\n",
              "    </tr>\n",
              "  </thead>\n",
              "  <tbody>\n",
              "    <tr>\n",
              "      <th>2013-12-31</th>\n",
              "      <td>6200</td>\n",
              "      <td>199.65</td>\n",
              "      <td>30</td>\n",
              "      <td>6304.0</td>\n",
              "      <td>8.82</td>\n",
              "      <td>188.621115</td>\n",
              "      <td>0.10855</td>\n",
              "      <td>15.08</td>\n",
              "    </tr>\n",
              "    <tr>\n",
              "      <th>2013-12-31</th>\n",
              "      <td>6300</td>\n",
              "      <td>131.00</td>\n",
              "      <td>30</td>\n",
              "      <td>6304.0</td>\n",
              "      <td>8.82</td>\n",
              "      <td>124.059028</td>\n",
              "      <td>0.10855</td>\n",
              "      <td>15.08</td>\n",
              "    </tr>\n",
              "    <tr>\n",
              "      <th>2013-12-31</th>\n",
              "      <td>6400</td>\n",
              "      <td>79.00</td>\n",
              "      <td>30</td>\n",
              "      <td>6304.0</td>\n",
              "      <td>8.82</td>\n",
              "      <td>75.195204</td>\n",
              "      <td>0.10855</td>\n",
              "      <td>15.08</td>\n",
              "    </tr>\n",
              "    <tr>\n",
              "      <th>2013-12-31</th>\n",
              "      <td>6500</td>\n",
              "      <td>41.35</td>\n",
              "      <td>30</td>\n",
              "      <td>6304.0</td>\n",
              "      <td>8.82</td>\n",
              "      <td>41.683668</td>\n",
              "      <td>0.10855</td>\n",
              "      <td>15.08</td>\n",
              "    </tr>\n",
              "    <tr>\n",
              "      <th>2013-12-31</th>\n",
              "      <td>6600</td>\n",
              "      <td>18.60</td>\n",
              "      <td>30</td>\n",
              "      <td>6304.0</td>\n",
              "      <td>8.82</td>\n",
              "      <td>21.015752</td>\n",
              "      <td>0.10855</td>\n",
              "      <td>15.08</td>\n",
              "    </tr>\n",
              "  </tbody>\n",
              "</table>\n",
              "</div>"
            ],
            "text/plain": [
              "            Strike Price   Close  Expiration  ...     bs_call     svol    Vix\n",
              "Date                                          ...                            \n",
              "2013-12-31          6200  199.65          30  ...  188.621115  0.10855  15.08\n",
              "2013-12-31          6300  131.00          30  ...  124.059028  0.10855  15.08\n",
              "2013-12-31          6400   79.00          30  ...   75.195204  0.10855  15.08\n",
              "2013-12-31          6500   41.35          30  ...   41.683668  0.10855  15.08\n",
              "2013-12-31          6600   18.60          30  ...   21.015752  0.10855  15.08\n",
              "\n",
              "[5 rows x 8 columns]"
            ]
          },
          "metadata": {
            "tags": []
          },
          "execution_count": 4
        }
      ]
    },
    {
      "cell_type": "code",
      "metadata": {
        "colab": {
          "base_uri": "https://localhost:8080/",
          "height": 234
        },
        "id": "YDlt1IZoaxn4",
        "outputId": "e604d92d-9615-4a1c-eb6b-632c2c64e1fc"
      },
      "source": [
        "put_df.head()"
      ],
      "execution_count": 5,
      "outputs": [
        {
          "output_type": "execute_result",
          "data": {
            "text/html": [
              "<div>\n",
              "<style scoped>\n",
              "    .dataframe tbody tr th:only-of-type {\n",
              "        vertical-align: middle;\n",
              "    }\n",
              "\n",
              "    .dataframe tbody tr th {\n",
              "        vertical-align: top;\n",
              "    }\n",
              "\n",
              "    .dataframe thead th {\n",
              "        text-align: right;\n",
              "    }\n",
              "</style>\n",
              "<table border=\"1\" class=\"dataframe\">\n",
              "  <thead>\n",
              "    <tr style=\"text-align: right;\">\n",
              "      <th></th>\n",
              "      <th>Strike Price</th>\n",
              "      <th>Close</th>\n",
              "      <th>Expiration</th>\n",
              "      <th>Adj Close</th>\n",
              "      <th>Price</th>\n",
              "      <th>bs_call</th>\n",
              "      <th>svol</th>\n",
              "      <th>Vix</th>\n",
              "    </tr>\n",
              "    <tr>\n",
              "      <th>Date</th>\n",
              "      <th></th>\n",
              "      <th></th>\n",
              "      <th></th>\n",
              "      <th></th>\n",
              "      <th></th>\n",
              "      <th></th>\n",
              "      <th></th>\n",
              "      <th></th>\n",
              "    </tr>\n",
              "  </thead>\n",
              "  <tbody>\n",
              "    <tr>\n",
              "      <th>2013-12-31</th>\n",
              "      <td>5800</td>\n",
              "      <td>6.30</td>\n",
              "      <td>30</td>\n",
              "      <td>6304.0</td>\n",
              "      <td>8.82</td>\n",
              "      <td>0.780877</td>\n",
              "      <td>0.10855</td>\n",
              "      <td>15.08</td>\n",
              "    </tr>\n",
              "    <tr>\n",
              "      <th>2013-12-31</th>\n",
              "      <td>5900</td>\n",
              "      <td>10.30</td>\n",
              "      <td>30</td>\n",
              "      <td>6304.0</td>\n",
              "      <td>8.82</td>\n",
              "      <td>2.667110</td>\n",
              "      <td>0.10855</td>\n",
              "      <td>15.08</td>\n",
              "    </tr>\n",
              "    <tr>\n",
              "      <th>2013-12-31</th>\n",
              "      <td>6000</td>\n",
              "      <td>17.15</td>\n",
              "      <td>30</td>\n",
              "      <td>6304.0</td>\n",
              "      <td>8.82</td>\n",
              "      <td>7.656025</td>\n",
              "      <td>0.10855</td>\n",
              "      <td>15.08</td>\n",
              "    </tr>\n",
              "    <tr>\n",
              "      <th>2013-12-31</th>\n",
              "      <td>6100</td>\n",
              "      <td>28.80</td>\n",
              "      <td>30</td>\n",
              "      <td>6304.0</td>\n",
              "      <td>8.82</td>\n",
              "      <td>18.756159</td>\n",
              "      <td>0.10855</td>\n",
              "      <td>15.08</td>\n",
              "    </tr>\n",
              "    <tr>\n",
              "      <th>2013-12-31</th>\n",
              "      <td>6200</td>\n",
              "      <td>49.10</td>\n",
              "      <td>30</td>\n",
              "      <td>6304.0</td>\n",
              "      <td>8.82</td>\n",
              "      <td>39.837882</td>\n",
              "      <td>0.10855</td>\n",
              "      <td>15.08</td>\n",
              "    </tr>\n",
              "  </tbody>\n",
              "</table>\n",
              "</div>"
            ],
            "text/plain": [
              "            Strike Price  Close  Expiration  ...    bs_call     svol    Vix\n",
              "Date                                         ...                           \n",
              "2013-12-31          5800   6.30          30  ...   0.780877  0.10855  15.08\n",
              "2013-12-31          5900  10.30          30  ...   2.667110  0.10855  15.08\n",
              "2013-12-31          6000  17.15          30  ...   7.656025  0.10855  15.08\n",
              "2013-12-31          6100  28.80          30  ...  18.756159  0.10855  15.08\n",
              "2013-12-31          6200  49.10          30  ...  39.837882  0.10855  15.08\n",
              "\n",
              "[5 rows x 8 columns]"
            ]
          },
          "metadata": {
            "tags": []
          },
          "execution_count": 5
        }
      ]
    },
    {
      "cell_type": "code",
      "metadata": {
        "id": "9X-rXAUyVukz"
      },
      "source": [
        "def regression(df):\n",
        "  sns.scatterplot(x=df['Close'],y=df['bs_call'],hue=df['Expiration'])"
      ],
      "execution_count": 6,
      "outputs": []
    },
    {
      "cell_type": "code",
      "metadata": {
        "id": "7ersRLb7WF0o"
      },
      "source": [
        "def split_data(df):\n",
        "  call_X_train, call_X_test, call_y_train, call_y_test = train_test_split(df[['Strike Price','Adj Close','Expiration','Price','svol','Vix']],df['Close'],test_size=0.2,random_state=42)\n",
        "  return call_X_train, call_X_test, call_y_train, call_y_test"
      ],
      "execution_count": 7,
      "outputs": []
    },
    {
      "cell_type": "code",
      "metadata": {
        "id": "onw_FlgXWGRd"
      },
      "source": [
        "def split_data_bs(df):\n",
        "  call_X_train, call_X_test, call_y_train, call_y_test = train_test_split(df[['Strike Price','Adj Close','Expiration','Price','svol','Vix']],df['bs_call'],test_size=0.2,random_state=42)\n",
        "  return call_X_train, call_X_test, call_y_train, call_y_test"
      ],
      "execution_count": 8,
      "outputs": []
    },
    {
      "cell_type": "code",
      "metadata": {
        "id": "_qucyMOwbaUn"
      },
      "source": [
        "n_units = 400\n",
        "layers = 5\n",
        "n_batch = 50\n",
        "n_epochs = 20"
      ],
      "execution_count": 9,
      "outputs": []
    },
    {
      "cell_type": "code",
      "metadata": {
        "id": "aMnoAWJ-WNwD"
      },
      "source": [
        "model = Sequential()\n",
        "model.add(Dense(n_units, input_dim=call_df.shape[1]-2))\n",
        "model.add(LeakyReLU())\n",
        "\n",
        "for _ in range(layers - 1):\n",
        "    model.add(Dense(n_units))\n",
        "    model.add(LeakyReLU())\n",
        "\n",
        "model.add(Dense(1, activation='relu'))\n",
        "opt = keras.optimizers.Adam(learning_rate=1e-4)\n",
        "model.compile(loss='mse', optimizer=opt)"
      ],
      "execution_count": 10,
      "outputs": []
    },
    {
      "cell_type": "code",
      "metadata": {
        "id": "q1sMTDlOy1DH",
        "colab": {
          "base_uri": "https://localhost:8080/"
        },
        "outputId": "2c0f057d-3aa3-412d-93e7-484fb0065110"
      },
      "source": [
        "model.summary()"
      ],
      "execution_count": 11,
      "outputs": [
        {
          "output_type": "stream",
          "text": [
            "Model: \"sequential\"\n",
            "_________________________________________________________________\n",
            "Layer (type)                 Output Shape              Param #   \n",
            "=================================================================\n",
            "dense (Dense)                (None, 400)               2800      \n",
            "_________________________________________________________________\n",
            "leaky_re_lu (LeakyReLU)      (None, 400)               0         \n",
            "_________________________________________________________________\n",
            "dense_1 (Dense)              (None, 400)               160400    \n",
            "_________________________________________________________________\n",
            "leaky_re_lu_1 (LeakyReLU)    (None, 400)               0         \n",
            "_________________________________________________________________\n",
            "dense_2 (Dense)              (None, 400)               160400    \n",
            "_________________________________________________________________\n",
            "leaky_re_lu_2 (LeakyReLU)    (None, 400)               0         \n",
            "_________________________________________________________________\n",
            "dense_3 (Dense)              (None, 400)               160400    \n",
            "_________________________________________________________________\n",
            "leaky_re_lu_3 (LeakyReLU)    (None, 400)               0         \n",
            "_________________________________________________________________\n",
            "dense_4 (Dense)              (None, 400)               160400    \n",
            "_________________________________________________________________\n",
            "leaky_re_lu_4 (LeakyReLU)    (None, 400)               0         \n",
            "_________________________________________________________________\n",
            "dense_5 (Dense)              (None, 1)                 401       \n",
            "=================================================================\n",
            "Total params: 644,801\n",
            "Trainable params: 644,801\n",
            "Non-trainable params: 0\n",
            "_________________________________________________________________\n"
          ],
          "name": "stdout"
        }
      ]
    },
    {
      "cell_type": "code",
      "metadata": {
        "id": "0_P21gYybmtN"
      },
      "source": [
        "def fit(X_train,y_train):\n",
        "  history = model.fit(X_train, y_train, \n",
        "                    batch_size=n_batch, epochs=n_epochs, \n",
        "                    validation_split = 0.2,\n",
        "                    callbacks=[TensorBoard()],\n",
        "                    verbose=1)"
      ],
      "execution_count": 12,
      "outputs": []
    },
    {
      "cell_type": "code",
      "metadata": {
        "id": "oR11ltvjf57V"
      },
      "source": [
        "def metrics(y_test,y_pred):\n",
        "  x=np.array(y_test).reshape(-1,1)\n",
        "  y=np.array(y_pred).reshape(-1,1)\n",
        "  reg=LinearRegression().fit(x,y)\n",
        "  mae= mean_absolute_error(x,y)\n",
        "  mse=mean_squared_error(x,y)\n",
        "  print(\"REG_SCORE - \",reg.score(x,y))\n",
        "  print(\"Mean Absolute Error -\",mae)\n",
        "  print(\"Mean Squared Error -\",mse)\n",
        "  print(\"Explained_Variance_Score - \",explained_variance_score(x,y))\n",
        "  "
      ],
      "execution_count": 13,
      "outputs": []
    },
    {
      "cell_type": "code",
      "metadata": {
        "id": "z2onSXHgduND"
      },
      "source": [
        "def prediction(df):\n",
        "  X_train, X_test, y_train, y_test=split_data(df)\n",
        "  X_train_bs, X_test_bs, y_train_bs, y_test_bs=split_data_bs(df)\n",
        "  fit(X_train,y_train)\n",
        "  y_pred = model.predict(X_test)\n",
        "  print(\"********Metrics of MLP MODEL********\")\n",
        "  metrics(y_test,y_pred)\n",
        "  print(\"\")\n",
        "  print(\"********Metrics of BlackScholes Model********\")\n",
        "  metrics(y_test,y_test_bs.values)\n",
        "  print(\"\")"
      ],
      "execution_count": 14,
      "outputs": []
    },
    {
      "cell_type": "code",
      "metadata": {
        "colab": {
          "base_uri": "https://localhost:8080/"
        },
        "id": "awrkFQrjep3e",
        "outputId": "b953b9f8-43b6-423a-a92a-8785159e3953"
      },
      "source": [
        "prediction(call_df)"
      ],
      "execution_count": 15,
      "outputs": [
        {
          "output_type": "stream",
          "text": [
            "Epoch 1/20\n",
            "696/696 [==============================] - 14s 4ms/step - loss: 37972.0203 - val_loss: 12419.2578\n",
            "Epoch 2/20\n",
            "696/696 [==============================] - 2s 3ms/step - loss: 11595.2779 - val_loss: 10988.1553\n",
            "Epoch 3/20\n",
            "696/696 [==============================] - 2s 3ms/step - loss: 11226.4987 - val_loss: 11387.9355\n",
            "Epoch 4/20\n",
            "696/696 [==============================] - 2s 3ms/step - loss: 10228.6379 - val_loss: 9556.7598\n",
            "Epoch 5/20\n",
            "696/696 [==============================] - 2s 3ms/step - loss: 9537.1475 - val_loss: 9068.9658\n",
            "Epoch 6/20\n",
            "696/696 [==============================] - 2s 3ms/step - loss: 9073.3114 - val_loss: 9674.9443\n",
            "Epoch 7/20\n",
            "696/696 [==============================] - 2s 3ms/step - loss: 8989.1956 - val_loss: 8210.2373\n",
            "Epoch 8/20\n",
            "696/696 [==============================] - 2s 3ms/step - loss: 7700.9757 - val_loss: 7757.6992\n",
            "Epoch 9/20\n",
            "696/696 [==============================] - 2s 3ms/step - loss: 8098.5914 - val_loss: 9170.0762\n",
            "Epoch 10/20\n",
            "696/696 [==============================] - 2s 3ms/step - loss: 7844.0859 - val_loss: 8262.9453\n",
            "Epoch 11/20\n",
            "696/696 [==============================] - 2s 3ms/step - loss: 7537.5589 - val_loss: 7770.5659\n",
            "Epoch 12/20\n",
            "696/696 [==============================] - 2s 3ms/step - loss: 7847.0571 - val_loss: 8769.5293\n",
            "Epoch 13/20\n",
            "696/696 [==============================] - 2s 3ms/step - loss: 7440.4832 - val_loss: 7977.7725\n",
            "Epoch 14/20\n",
            "696/696 [==============================] - 2s 3ms/step - loss: 7398.8919 - val_loss: 7448.5913\n",
            "Epoch 15/20\n",
            "696/696 [==============================] - 2s 3ms/step - loss: 6981.0072 - val_loss: 8322.8643\n",
            "Epoch 16/20\n",
            "696/696 [==============================] - 2s 3ms/step - loss: 7573.3474 - val_loss: 7987.0117\n",
            "Epoch 17/20\n",
            "696/696 [==============================] - 2s 3ms/step - loss: 7385.6026 - val_loss: 7403.9443\n",
            "Epoch 18/20\n",
            "696/696 [==============================] - 2s 3ms/step - loss: 7641.9492 - val_loss: 7315.1577\n",
            "Epoch 19/20\n",
            "696/696 [==============================] - 2s 3ms/step - loss: 6171.0861 - val_loss: 9003.9824\n",
            "Epoch 20/20\n",
            "696/696 [==============================] - 2s 3ms/step - loss: 7145.3448 - val_loss: 6815.9512\n",
            "********Metrics of MLP MODEL********\n",
            "REG_SCORE -  0.9588686414122681\n",
            "Mean Absolute Error - 40.52649939517206\n",
            "Mean Squared Error - 6781.183271634043\n",
            "Explained_Variance_Score -  0.9585964432898219\n",
            "\n",
            "********Metrics of BlackScholes Model********\n",
            "REG_SCORE -  0.9494898762123269\n",
            "Mean Absolute Error - 38.45105511123691\n",
            "Mean Squared Error - 8722.47606557437\n",
            "Explained_Variance_Score -  0.9468373613438806\n",
            "\n"
          ],
          "name": "stdout"
        }
      ]
    },
    {
      "cell_type": "code",
      "metadata": {
        "colab": {
          "base_uri": "https://localhost:8080/"
        },
        "id": "ndWJsvzA3Tcw",
        "outputId": "c8ac38a8-e91b-47f8-a6f2-afda82250fcb"
      },
      "source": [
        "prediction(put_df)"
      ],
      "execution_count": 16,
      "outputs": [
        {
          "output_type": "stream",
          "text": [
            "Epoch 1/20\n",
            "681/681 [==============================] - 2s 3ms/step - loss: 12923.3613 - val_loss: 7372.2090\n",
            "Epoch 2/20\n",
            "681/681 [==============================] - 2s 3ms/step - loss: 7234.6895 - val_loss: 6948.2427\n",
            "Epoch 3/20\n",
            "681/681 [==============================] - 2s 3ms/step - loss: 6621.0249 - val_loss: 6855.0449\n",
            "Epoch 4/20\n",
            "681/681 [==============================] - 2s 3ms/step - loss: 6822.6982 - val_loss: 7041.6030\n",
            "Epoch 5/20\n",
            "681/681 [==============================] - 2s 3ms/step - loss: 6378.1743 - val_loss: 8840.8926\n",
            "Epoch 6/20\n",
            "681/681 [==============================] - 2s 3ms/step - loss: 6259.6128 - val_loss: 8835.6094\n",
            "Epoch 7/20\n",
            "681/681 [==============================] - 2s 3ms/step - loss: 6323.4966 - val_loss: 6641.2920\n",
            "Epoch 8/20\n",
            "681/681 [==============================] - 2s 3ms/step - loss: 6255.6367 - val_loss: 7835.9287\n",
            "Epoch 9/20\n",
            "681/681 [==============================] - 2s 3ms/step - loss: 6356.3960 - val_loss: 6638.0830\n",
            "Epoch 10/20\n",
            "681/681 [==============================] - 2s 3ms/step - loss: 6357.9321 - val_loss: 8636.3281\n",
            "Epoch 11/20\n",
            "681/681 [==============================] - 2s 3ms/step - loss: 6135.7139 - val_loss: 6958.2295\n",
            "Epoch 12/20\n",
            "681/681 [==============================] - 2s 3ms/step - loss: 6111.5737 - val_loss: 6321.5874\n",
            "Epoch 13/20\n",
            "681/681 [==============================] - 2s 3ms/step - loss: 6284.2158 - val_loss: 6358.5767\n",
            "Epoch 14/20\n",
            "681/681 [==============================] - 2s 3ms/step - loss: 5820.6289 - val_loss: 6213.2871\n",
            "Epoch 15/20\n",
            "681/681 [==============================] - 2s 3ms/step - loss: 6135.9492 - val_loss: 6331.1265\n",
            "Epoch 16/20\n",
            "681/681 [==============================] - 2s 3ms/step - loss: 5928.5693 - val_loss: 6503.7388\n",
            "Epoch 17/20\n",
            "681/681 [==============================] - 2s 3ms/step - loss: 5886.7441 - val_loss: 6566.3105\n",
            "Epoch 18/20\n",
            "681/681 [==============================] - 2s 3ms/step - loss: 5894.8008 - val_loss: 6527.8364\n",
            "Epoch 19/20\n",
            "681/681 [==============================] - 2s 3ms/step - loss: 5918.7437 - val_loss: 6834.3271\n",
            "Epoch 20/20\n",
            "681/681 [==============================] - 2s 3ms/step - loss: 5909.8018 - val_loss: 7357.6626\n",
            "********Metrics of MLP MODEL********\n",
            "REG_SCORE -  0.9693293017680571\n",
            "Mean Absolute Error - 43.22536545370918\n",
            "Mean Squared Error - 7735.864625149863\n",
            "Explained_Variance_Score -  0.9677225840505221\n",
            "\n",
            "********Metrics of BlackScholes Model********\n",
            "REG_SCORE -  0.9590950800387738\n",
            "Mean Absolute Error - 46.866418666752175\n",
            "Mean Squared Error - 9421.919792591612\n",
            "Explained_Variance_Score -  0.9579455057191564\n",
            "\n"
          ],
          "name": "stdout"
        }
      ]
    }
  ]
}