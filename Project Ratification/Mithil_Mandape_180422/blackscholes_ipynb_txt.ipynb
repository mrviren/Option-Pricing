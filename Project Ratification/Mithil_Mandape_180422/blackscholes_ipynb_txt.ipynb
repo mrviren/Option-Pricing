{
  "nbformat": 4,
  "nbformat_minor": 0,
  "metadata": {
    "colab": {
      "name": "blackscholes.ipynb.txt",
      "provenance": [],
      "collapsed_sections": []
    },
    "kernelspec": {
      "display_name": "Python 3",
      "name": "python3"
    },
    "language_info": {
      "name": "python"
    }
  },
  "cells": [
    {
      "cell_type": "code",
      "metadata": {
        "id": "3wPg-xYFXgIP"
      },
      "source": [
        "import pandas as pd\n",
        "import numpy as np\n",
        "import os\n",
        "\n",
        "from sklearn.model_selection import train_test_split\n",
        "from scipy.stats import norm\n",
        "from keras.models import Sequential\n",
        "from keras.layers import Dense, Activation, LeakyReLU\n",
        "from keras import backend\n",
        "from keras.callbacks import TensorBoard\n",
        "from keras.optimizers import Adam"
      ],
      "execution_count": null,
      "outputs": []
    },
    {
      "cell_type": "code",
      "metadata": {
        "id": "dBMIbfFkAIa1",
        "colab": {
          "base_uri": "https://localhost:8080/"
        },
        "outputId": "7ebdbf31-83ab-4608-962a-cea921cefeb7"
      },
      "source": [
        "from google.colab import drive\n",
        "drive.mount('/content/drive')"
      ],
      "execution_count": null,
      "outputs": [
        {
          "output_type": "stream",
          "text": [
            "Mounted at /content/drive\n"
          ],
          "name": "stdout"
        }
      ]
    },
    {
      "cell_type": "code",
      "metadata": {
        "id": "kGEmmdXSYRHU"
      },
      "source": [
        "rf=pd.read_csv('/content/drive/MyDrive/black_scholes_option_pricing/risk_free_rate/India 10-Year Bond Yield Historical Data.csv')\n",
        "rf.drop(['Open','High','Low' ,'Change %'],axis=1,inplace=True)\n",
        "rf['Date']=pd.to_datetime(rf['Date'])\n",
        "rf=rf.set_index(['Date'])"
      ],
      "execution_count": null,
      "outputs": []
    },
    {
      "cell_type": "code",
      "metadata": {
        "id": "Wj8CNcNq1lpS"
      },
      "source": [
        "spot=pd.read_csv('/content/garch_vix.csv')\n",
        "#spot['return']=spot['Adj Close'].pct_change(1)\n",
        "#spot['volatility']=spot['return'].rolling(20).std()\n",
        "spot['Garch_Volatility']=spot['Garch_Volatility']*np.sqrt(252)\n",
        "#spot.drop(['Open','High','Low' ,'Close','Volume'],axis=1,inplace=True)\n",
        "spot=spot.set_index(['Date'])"
      ],
      "execution_count": null,
      "outputs": []
    },
    {
      "cell_type": "code",
      "metadata": {
        "id": "-7N8uwI51nRg",
        "colab": {
          "base_uri": "https://localhost:8080/",
          "height": 637
        },
        "outputId": "c7d1615e-d37d-4008-d203-7c47292d75fe"
      },
      "source": [
        "spotdf=spot.join(rf,how='inner')\n",
        "spotdf"
      ],
      "execution_count": null,
      "outputs": [
        {
          "output_type": "execute_result",
          "data": {
            "text/html": [
              "<div>\n",
              "<style scoped>\n",
              "    .dataframe tbody tr th:only-of-type {\n",
              "        vertical-align: middle;\n",
              "    }\n",
              "\n",
              "    .dataframe tbody tr th {\n",
              "        vertical-align: top;\n",
              "    }\n",
              "\n",
              "    .dataframe thead th {\n",
              "        text-align: right;\n",
              "    }\n",
              "</style>\n",
              "<table border=\"1\" class=\"dataframe\">\n",
              "  <thead>\n",
              "    <tr style=\"text-align: right;\">\n",
              "      <th></th>\n",
              "      <th>Strike Price</th>\n",
              "      <th>Close</th>\n",
              "      <th>Expiration</th>\n",
              "      <th>Adj Close</th>\n",
              "      <th>return</th>\n",
              "      <th>volatility</th>\n",
              "      <th>Price_x</th>\n",
              "      <th>bs_call</th>\n",
              "      <th>Garch_Volatility</th>\n",
              "      <th>Price_y</th>\n",
              "      <th>Price</th>\n",
              "    </tr>\n",
              "    <tr>\n",
              "      <th>Date</th>\n",
              "      <th></th>\n",
              "      <th></th>\n",
              "      <th></th>\n",
              "      <th></th>\n",
              "      <th></th>\n",
              "      <th></th>\n",
              "      <th></th>\n",
              "      <th></th>\n",
              "      <th></th>\n",
              "      <th></th>\n",
              "      <th></th>\n",
              "    </tr>\n",
              "  </thead>\n",
              "  <tbody>\n",
              "    <tr>\n",
              "      <th>2013-12-31</th>\n",
              "      <td>6200</td>\n",
              "      <td>199.65</td>\n",
              "      <td>30</td>\n",
              "      <td>6304.000000</td>\n",
              "      <td>0.002051</td>\n",
              "      <td>0.135503</td>\n",
              "      <td>8.820</td>\n",
              "      <td>188.621115</td>\n",
              "      <td>0.161481</td>\n",
              "      <td>15.08</td>\n",
              "      <td>8.820</td>\n",
              "    </tr>\n",
              "    <tr>\n",
              "      <th>2013-12-31</th>\n",
              "      <td>6300</td>\n",
              "      <td>131.00</td>\n",
              "      <td>30</td>\n",
              "      <td>6304.000000</td>\n",
              "      <td>0.002051</td>\n",
              "      <td>0.135503</td>\n",
              "      <td>8.820</td>\n",
              "      <td>124.059028</td>\n",
              "      <td>0.161481</td>\n",
              "      <td>15.08</td>\n",
              "      <td>8.820</td>\n",
              "    </tr>\n",
              "    <tr>\n",
              "      <th>2013-12-31</th>\n",
              "      <td>6400</td>\n",
              "      <td>79.00</td>\n",
              "      <td>30</td>\n",
              "      <td>6304.000000</td>\n",
              "      <td>0.002051</td>\n",
              "      <td>0.135503</td>\n",
              "      <td>8.820</td>\n",
              "      <td>75.195204</td>\n",
              "      <td>0.161481</td>\n",
              "      <td>15.08</td>\n",
              "      <td>8.820</td>\n",
              "    </tr>\n",
              "    <tr>\n",
              "      <th>2013-12-31</th>\n",
              "      <td>6500</td>\n",
              "      <td>41.35</td>\n",
              "      <td>30</td>\n",
              "      <td>6304.000000</td>\n",
              "      <td>0.002051</td>\n",
              "      <td>0.135503</td>\n",
              "      <td>8.820</td>\n",
              "      <td>41.683668</td>\n",
              "      <td>0.161481</td>\n",
              "      <td>15.08</td>\n",
              "      <td>8.820</td>\n",
              "    </tr>\n",
              "    <tr>\n",
              "      <th>2013-12-31</th>\n",
              "      <td>6600</td>\n",
              "      <td>18.60</td>\n",
              "      <td>30</td>\n",
              "      <td>6304.000000</td>\n",
              "      <td>0.002051</td>\n",
              "      <td>0.135503</td>\n",
              "      <td>8.820</td>\n",
              "      <td>21.015752</td>\n",
              "      <td>0.161481</td>\n",
              "      <td>15.08</td>\n",
              "      <td>8.820</td>\n",
              "    </tr>\n",
              "    <tr>\n",
              "      <th>...</th>\n",
              "      <td>...</td>\n",
              "      <td>...</td>\n",
              "      <td>...</td>\n",
              "      <td>...</td>\n",
              "      <td>...</td>\n",
              "      <td>...</td>\n",
              "      <td>...</td>\n",
              "      <td>...</td>\n",
              "      <td>...</td>\n",
              "      <td>...</td>\n",
              "      <td>...</td>\n",
              "    </tr>\n",
              "    <tr>\n",
              "      <th>2020-12-30</th>\n",
              "      <td>14050</td>\n",
              "      <td>18.40</td>\n",
              "      <td>1</td>\n",
              "      <td>13981.950195</td>\n",
              "      <td>0.003542</td>\n",
              "      <td>0.145312</td>\n",
              "      <td>5.899</td>\n",
              "      <td>17.485487</td>\n",
              "      <td>0.161295</td>\n",
              "      <td>20.79</td>\n",
              "      <td>5.899</td>\n",
              "    </tr>\n",
              "    <tr>\n",
              "      <th>2020-12-30</th>\n",
              "      <td>14100</td>\n",
              "      <td>8.15</td>\n",
              "      <td>1</td>\n",
              "      <td>13981.950195</td>\n",
              "      <td>0.003542</td>\n",
              "      <td>0.145312</td>\n",
              "      <td>5.899</td>\n",
              "      <td>7.560272</td>\n",
              "      <td>0.161295</td>\n",
              "      <td>20.79</td>\n",
              "      <td>5.899</td>\n",
              "    </tr>\n",
              "    <tr>\n",
              "      <th>2020-12-30</th>\n",
              "      <td>14150</td>\n",
              "      <td>3.30</td>\n",
              "      <td>1</td>\n",
              "      <td>13981.950195</td>\n",
              "      <td>0.003542</td>\n",
              "      <td>0.145312</td>\n",
              "      <td>5.899</td>\n",
              "      <td>2.797619</td>\n",
              "      <td>0.161295</td>\n",
              "      <td>20.79</td>\n",
              "      <td>5.899</td>\n",
              "    </tr>\n",
              "    <tr>\n",
              "      <th>2020-12-30</th>\n",
              "      <td>14200</td>\n",
              "      <td>1.90</td>\n",
              "      <td>1</td>\n",
              "      <td>13981.950195</td>\n",
              "      <td>0.003542</td>\n",
              "      <td>0.145312</td>\n",
              "      <td>5.899</td>\n",
              "      <td>0.877978</td>\n",
              "      <td>0.161295</td>\n",
              "      <td>20.79</td>\n",
              "      <td>5.899</td>\n",
              "    </tr>\n",
              "    <tr>\n",
              "      <th>2020-12-30</th>\n",
              "      <td>14250</td>\n",
              "      <td>1.15</td>\n",
              "      <td>1</td>\n",
              "      <td>13981.950195</td>\n",
              "      <td>0.003542</td>\n",
              "      <td>0.145312</td>\n",
              "      <td>5.899</td>\n",
              "      <td>0.232109</td>\n",
              "      <td>0.161295</td>\n",
              "      <td>20.79</td>\n",
              "      <td>5.899</td>\n",
              "    </tr>\n",
              "  </tbody>\n",
              "</table>\n",
              "<p>54470 rows × 11 columns</p>\n",
              "</div>"
            ],
            "text/plain": [
              "            Strike Price   Close  Expiration  ...  Garch_Volatility  Price_y  Price\n",
              "Date                                          ...                                  \n",
              "2013-12-31          6200  199.65          30  ...          0.161481    15.08  8.820\n",
              "2013-12-31          6300  131.00          30  ...          0.161481    15.08  8.820\n",
              "2013-12-31          6400   79.00          30  ...          0.161481    15.08  8.820\n",
              "2013-12-31          6500   41.35          30  ...          0.161481    15.08  8.820\n",
              "2013-12-31          6600   18.60          30  ...          0.161481    15.08  8.820\n",
              "...                  ...     ...         ...  ...               ...      ...    ...\n",
              "2020-12-30         14050   18.40           1  ...          0.161295    20.79  5.899\n",
              "2020-12-30         14100    8.15           1  ...          0.161295    20.79  5.899\n",
              "2020-12-30         14150    3.30           1  ...          0.161295    20.79  5.899\n",
              "2020-12-30         14200    1.90           1  ...          0.161295    20.79  5.899\n",
              "2020-12-30         14250    1.15           1  ...          0.161295    20.79  5.899\n",
              "\n",
              "[54470 rows x 11 columns]"
            ]
          },
          "metadata": {
            "tags": []
          },
          "execution_count": 26
        }
      ]
    },
    {
      "cell_type": "code",
      "metadata": {
        "id": "iGhaDt4a2doH"
      },
      "source": [
        "path='/content/drive/MyDrive/black_scholes_option_pricing/call_csv/'\n",
        "z=os.listdir(path)\n",
        "ce=[]\n",
        "for i in z:\n",
        "    call=pd.read_csv(path+i)\n",
        "    ce.append(call)"
      ],
      "execution_count": null,
      "outputs": []
    },
    {
      "cell_type": "code",
      "metadata": {
        "id": "s_PltyjpS1sk"
      },
      "source": [
        "for i in ce:\n",
        "  i.columns=['Date','Strike Price','Close','Expiration'] "
      ],
      "execution_count": null,
      "outputs": []
    },
    {
      "cell_type": "code",
      "metadata": {
        "id": "oFtaeDypcyPg"
      },
      "source": [
        "ce[5].columns=['Strike Price','Date','Close','Expiration'] "
      ],
      "execution_count": null,
      "outputs": []
    },
    {
      "cell_type": "code",
      "metadata": {
        "id": "wQPW2x5gTG2b"
      },
      "source": [
        "call=pd.concat(ce)"
      ],
      "execution_count": null,
      "outputs": []
    },
    {
      "cell_type": "code",
      "metadata": {
        "id": "XGOM9RObXEdu"
      },
      "source": [
        "call=call.set_index(['Date'])"
      ],
      "execution_count": null,
      "outputs": []
    },
    {
      "cell_type": "code",
      "metadata": {
        "id": "HqYNy3pLghfA"
      },
      "source": [
        "final_call=call.join(spotdf,how='inner')"
      ],
      "execution_count": null,
      "outputs": []
    },
    {
      "cell_type": "code",
      "metadata": {
        "colab": {
          "base_uri": "https://localhost:8080/",
          "height": 238
        },
        "id": "D_QRjVjbgx6M",
        "outputId": "c216afd1-7abd-45e0-cf12-b3b20e673fe5"
      },
      "source": [
        "final_call.tail()"
      ],
      "execution_count": null,
      "outputs": [
        {
          "output_type": "execute_result",
          "data": {
            "text/html": [
              "<div>\n",
              "<style scoped>\n",
              "    .dataframe tbody tr th:only-of-type {\n",
              "        vertical-align: middle;\n",
              "    }\n",
              "\n",
              "    .dataframe tbody tr th {\n",
              "        vertical-align: top;\n",
              "    }\n",
              "\n",
              "    .dataframe thead th {\n",
              "        text-align: right;\n",
              "    }\n",
              "</style>\n",
              "<table border=\"1\" class=\"dataframe\">\n",
              "  <thead>\n",
              "    <tr style=\"text-align: right;\">\n",
              "      <th></th>\n",
              "      <th>Strike Price</th>\n",
              "      <th>Close</th>\n",
              "      <th>Expiration</th>\n",
              "      <th>Adj Close</th>\n",
              "      <th>return</th>\n",
              "      <th>volatility</th>\n",
              "      <th>Price</th>\n",
              "    </tr>\n",
              "    <tr>\n",
              "      <th>Date</th>\n",
              "      <th></th>\n",
              "      <th></th>\n",
              "      <th></th>\n",
              "      <th></th>\n",
              "      <th></th>\n",
              "      <th></th>\n",
              "      <th></th>\n",
              "    </tr>\n",
              "  </thead>\n",
              "  <tbody>\n",
              "    <tr>\n",
              "      <th>2020-12-30</th>\n",
              "      <td>14800</td>\n",
              "      <td>0.60</td>\n",
              "      <td>1</td>\n",
              "      <td>13981.950195</td>\n",
              "      <td>0.003542</td>\n",
              "      <td>0.145312</td>\n",
              "      <td>5.899</td>\n",
              "    </tr>\n",
              "    <tr>\n",
              "      <th>2020-12-30</th>\n",
              "      <td>14850</td>\n",
              "      <td>0.35</td>\n",
              "      <td>1</td>\n",
              "      <td>13981.950195</td>\n",
              "      <td>0.003542</td>\n",
              "      <td>0.145312</td>\n",
              "      <td>5.899</td>\n",
              "    </tr>\n",
              "    <tr>\n",
              "      <th>2020-12-30</th>\n",
              "      <td>14900</td>\n",
              "      <td>0.55</td>\n",
              "      <td>1</td>\n",
              "      <td>13981.950195</td>\n",
              "      <td>0.003542</td>\n",
              "      <td>0.145312</td>\n",
              "      <td>5.899</td>\n",
              "    </tr>\n",
              "    <tr>\n",
              "      <th>2020-12-30</th>\n",
              "      <td>14950</td>\n",
              "      <td>0.70</td>\n",
              "      <td>1</td>\n",
              "      <td>13981.950195</td>\n",
              "      <td>0.003542</td>\n",
              "      <td>0.145312</td>\n",
              "      <td>5.899</td>\n",
              "    </tr>\n",
              "    <tr>\n",
              "      <th>2020-12-30</th>\n",
              "      <td>15000</td>\n",
              "      <td>0.55</td>\n",
              "      <td>1</td>\n",
              "      <td>13981.950195</td>\n",
              "      <td>0.003542</td>\n",
              "      <td>0.145312</td>\n",
              "      <td>5.899</td>\n",
              "    </tr>\n",
              "  </tbody>\n",
              "</table>\n",
              "</div>"
            ],
            "text/plain": [
              "           Strike Price  Close  Expiration  ...    return  volatility  Price\n",
              "Date                                        ...                             \n",
              "2020-12-30        14800   0.60           1  ...  0.003542    0.145312  5.899\n",
              "2020-12-30        14850   0.35           1  ...  0.003542    0.145312  5.899\n",
              "2020-12-30        14900   0.55           1  ...  0.003542    0.145312  5.899\n",
              "2020-12-30        14950   0.70           1  ...  0.003542    0.145312  5.899\n",
              "2020-12-30        15000   0.55           1  ...  0.003542    0.145312  5.899\n",
              "\n",
              "[5 rows x 7 columns]"
            ]
          },
          "metadata": {
            "tags": []
          },
          "execution_count": 179
        }
      ]
    },
    {
      "cell_type": "code",
      "metadata": {
        "id": "j0bFHG2jV-yX"
      },
      "source": [
        "path='/content/drive/MyDrive/black_scholes_option_pricing/put_csv/'\n",
        "z=os.listdir(path)\n",
        "pe=[]\n",
        "for i in z:\n",
        "    put=pd.read_csv(path+i)\n",
        "    pe.append(put)"
      ],
      "execution_count": null,
      "outputs": []
    },
    {
      "cell_type": "code",
      "metadata": {
        "id": "QwWyKCIFWP8A"
      },
      "source": [
        "for i in pe:\n",
        "  i.columns=['Date','Strike Price','Close','Expiration'] "
      ],
      "execution_count": null,
      "outputs": []
    },
    {
      "cell_type": "code",
      "metadata": {
        "id": "lGZCi8bRkAPz"
      },
      "source": [
        "pe[5].columns=['Strike Price','Date','Close','Expiration'] "
      ],
      "execution_count": null,
      "outputs": []
    },
    {
      "cell_type": "code",
      "metadata": {
        "id": "qgcGI7FPkHPX"
      },
      "source": [
        "put=pd.concat(pe)"
      ],
      "execution_count": null,
      "outputs": []
    },
    {
      "cell_type": "code",
      "metadata": {
        "id": "dWQ7diOYkLwl"
      },
      "source": [
        "put=put.set_index(['Date'])\n",
        "final_put=put.join(spotdf,how='inner')"
      ],
      "execution_count": null,
      "outputs": []
    },
    {
      "cell_type": "code",
      "metadata": {
        "id": "3U_gCvA5x09F"
      },
      "source": [
        "final_put.dropna(inplace=True)"
      ],
      "execution_count": null,
      "outputs": []
    },
    {
      "cell_type": "code",
      "metadata": {
        "id": "0xOyvWGskigi"
      },
      "source": [
        "final_call.dropna(inplace=True)"
      ],
      "execution_count": null,
      "outputs": []
    },
    {
      "cell_type": "code",
      "metadata": {
        "id": "T_x40l71Q0Jb"
      },
      "source": [
        "final_call=spot"
      ],
      "execution_count": null,
      "outputs": []
    },
    {
      "cell_type": "code",
      "metadata": {
        "id": "953efrUjomJF"
      },
      "source": [
        "final_call= final_call[final_call[\"Strike Price\"].str.startswith('25JUN',na=False)== False]\n",
        "final_call= final_call[final_call[\"Strike Price\"].str.startswith('25Jun',na=False)== False]\n",
        "final_put= final_put[final_put[\"Strike Price\"].str.startswith('25JUN',na=False)== False]\n",
        "final_put= final_put[final_put[\"Strike Price\"].str.startswith('25Jun',na=False)== False]\n",
        "final_put= final_put[final_put[\"Strike Price\"].str.startswith('TY',na=False)== False]"
      ],
      "execution_count": null,
      "outputs": []
    },
    {
      "cell_type": "code",
      "metadata": {
        "id": "es7nbqujossp"
      },
      "source": [
        "final_call['Strike Price']=final_call['Strike Price'].astype(int)\n",
        "final_put['Strike Price']=final_put['Strike Price'].astype(int)"
      ],
      "execution_count": null,
      "outputs": []
    },
    {
      "cell_type": "code",
      "metadata": {
        "id": "AVs-BOv_SRY_"
      },
      "source": [
        "def call_pricing(df):\n",
        "  S=df['Adj Close']\n",
        "  K= df[\"Strike Price\"]\n",
        "  t=df.Expiration/365\n",
        "  r=df[\"Price_x\"]/100\n",
        "  sigma=df[\"Garch_Volatility\"]\n",
        "  d1=(np.log(S/K)+(r+(sigma**2)/2)*t)/(sigma*(t**0.5))\n",
        "  d2=d1-sigma*(t**0.5)\n",
        "  Blackscholes_pred=  S*norm.cdf(d1)-K*np.exp(-r * t)*norm.cdf(d2)\n",
        "  return Blackscholes_pred"
      ],
      "execution_count": null,
      "outputs": []
    },
    {
      "cell_type": "code",
      "metadata": {
        "colab": {
          "base_uri": "https://localhost:8080/"
        },
        "id": "78xADRcm0FU-",
        "outputId": "0f961b22-5ab0-4172-ba19-db386bb35d5e"
      },
      "source": [
        "final_call.columns"
      ],
      "execution_count": null,
      "outputs": [
        {
          "output_type": "execute_result",
          "data": {
            "text/plain": [
              "Index(['Strike Price', 'Close', 'Expiration', 'Adj Close', 'return',\n",
              "       'volatility', 'Price_x', 'bs_call', 'Garch_Volatility', 'Price_y'],\n",
              "      dtype='object')"
            ]
          },
          "metadata": {
            "tags": []
          },
          "execution_count": 19
        }
      ]
    },
    {
      "cell_type": "code",
      "metadata": {
        "id": "ijb2BOJJqYqX"
      },
      "source": [
        "x=call_pricing(final_call)"
      ],
      "execution_count": null,
      "outputs": []
    },
    {
      "cell_type": "code",
      "metadata": {
        "id": "Mgtog9jrwDyP"
      },
      "source": [
        "final_call['bs_call']=x"
      ],
      "execution_count": null,
      "outputs": []
    },
    {
      "cell_type": "code",
      "metadata": {
        "id": "cLxowLbbV-pp"
      },
      "source": [
        "def put_pricing(df):\n",
        "  S=df['adj_close']\n",
        "  K= df[\"Strike Price\"]\n",
        "  t=df.Expiration/365\n",
        "  r=df[\"Price\"]/100\n",
        "  sigma=df[\"volatility\"]\n",
        "  d1=(np.log(S/K)+(r+(sigma**2)/2)*t)/(sigma*(t**0.5))\n",
        "  d2=d1-sigma*(t**0.5)\n",
        "  Blackscholes_pred= K*np.exp(-r * t)*norm.cdf(-d2) - S*norm.cdf(-d1)\n",
        "  return Blackscholes_pred"
      ],
      "execution_count": null,
      "outputs": []
    },
    {
      "cell_type": "code",
      "metadata": {
        "colab": {
          "base_uri": "https://localhost:8080/"
        },
        "id": "Gqegw-6x171R",
        "outputId": "f9ef5d80-e6ed-4808-f8cc-0d476418680b"
      },
      "source": [
        "final_put.columns"
      ],
      "execution_count": null,
      "outputs": [
        {
          "output_type": "execute_result",
          "data": {
            "text/plain": [
              "Index(['Strike Price', 'close', 'Expiration', 'adj_close', 'return',\n",
              "       'volatility', 'Price'],\n",
              "      dtype='object')"
            ]
          },
          "metadata": {
            "tags": []
          },
          "execution_count": 205
        }
      ]
    },
    {
      "cell_type": "code",
      "metadata": {
        "id": "e-Sa9ObRwPRJ"
      },
      "source": [
        "y=put_pricing(final_put)"
      ],
      "execution_count": null,
      "outputs": []
    },
    {
      "cell_type": "code",
      "metadata": {
        "id": "XACiC9A9t0g4"
      },
      "source": [
        "final_put['bs_put']=y"
      ],
      "execution_count": null,
      "outputs": []
    },
    {
      "cell_type": "code",
      "metadata": {
        "id": "7UQDz-koxPUL"
      },
      "source": [
        "final_call.to_csv('call_black_scholes.csv')\n",
        "#final_put.to_csv('put_black_scholes.csv')"
      ],
      "execution_count": null,
      "outputs": []
    },
    {
      "cell_type": "code",
      "metadata": {
        "id": "8-g7m2Mal0Ee"
      },
      "source": [
        "callx_train,cally_train,callx_test,cally_test=train_test_split(final_call.drop['close'],final_call[''])"
      ],
      "execution_count": null,
      "outputs": []
    },
    {
      "cell_type": "code",
      "metadata": {
        "id": "WSa-vABQlCxZ",
        "colab": {
          "base_uri": "https://localhost:8080/",
          "height": 637
        },
        "outputId": "946c240c-8b86-42cf-dea2-89ff41eaf738"
      },
      "source": [
        "final_call\n"
      ],
      "execution_count": null,
      "outputs": [
        {
          "output_type": "execute_result",
          "data": {
            "text/html": [
              "<div>\n",
              "<style scoped>\n",
              "    .dataframe tbody tr th:only-of-type {\n",
              "        vertical-align: middle;\n",
              "    }\n",
              "\n",
              "    .dataframe tbody tr th {\n",
              "        vertical-align: top;\n",
              "    }\n",
              "\n",
              "    .dataframe thead th {\n",
              "        text-align: right;\n",
              "    }\n",
              "</style>\n",
              "<table border=\"1\" class=\"dataframe\">\n",
              "  <thead>\n",
              "    <tr style=\"text-align: right;\">\n",
              "      <th></th>\n",
              "      <th>Strike Price</th>\n",
              "      <th>Close</th>\n",
              "      <th>Expiration</th>\n",
              "      <th>Adj Close</th>\n",
              "      <th>return</th>\n",
              "      <th>volatility</th>\n",
              "      <th>Price_x</th>\n",
              "      <th>bs_call</th>\n",
              "      <th>Garch_Volatility</th>\n",
              "      <th>Price_y</th>\n",
              "    </tr>\n",
              "    <tr>\n",
              "      <th>Date</th>\n",
              "      <th></th>\n",
              "      <th></th>\n",
              "      <th></th>\n",
              "      <th></th>\n",
              "      <th></th>\n",
              "      <th></th>\n",
              "      <th></th>\n",
              "      <th></th>\n",
              "      <th></th>\n",
              "      <th></th>\n",
              "    </tr>\n",
              "  </thead>\n",
              "  <tbody>\n",
              "    <tr>\n",
              "      <th>2013-12-31</th>\n",
              "      <td>6200</td>\n",
              "      <td>199.65</td>\n",
              "      <td>30</td>\n",
              "      <td>6304.000000</td>\n",
              "      <td>0.002051</td>\n",
              "      <td>0.135503</td>\n",
              "      <td>8.820</td>\n",
              "      <td>204.412637</td>\n",
              "      <td>0.161481</td>\n",
              "      <td>15.08</td>\n",
              "    </tr>\n",
              "    <tr>\n",
              "      <th>2013-12-31</th>\n",
              "      <td>6300</td>\n",
              "      <td>131.00</td>\n",
              "      <td>30</td>\n",
              "      <td>6304.000000</td>\n",
              "      <td>0.002051</td>\n",
              "      <td>0.135503</td>\n",
              "      <td>8.820</td>\n",
              "      <td>142.391311</td>\n",
              "      <td>0.161481</td>\n",
              "      <td>15.08</td>\n",
              "    </tr>\n",
              "    <tr>\n",
              "      <th>2013-12-31</th>\n",
              "      <td>6400</td>\n",
              "      <td>79.00</td>\n",
              "      <td>30</td>\n",
              "      <td>6304.000000</td>\n",
              "      <td>0.002051</td>\n",
              "      <td>0.135503</td>\n",
              "      <td>8.820</td>\n",
              "      <td>93.674003</td>\n",
              "      <td>0.161481</td>\n",
              "      <td>15.08</td>\n",
              "    </tr>\n",
              "    <tr>\n",
              "      <th>2013-12-31</th>\n",
              "      <td>6500</td>\n",
              "      <td>41.35</td>\n",
              "      <td>30</td>\n",
              "      <td>6304.000000</td>\n",
              "      <td>0.002051</td>\n",
              "      <td>0.135503</td>\n",
              "      <td>8.820</td>\n",
              "      <td>57.962504</td>\n",
              "      <td>0.161481</td>\n",
              "      <td>15.08</td>\n",
              "    </tr>\n",
              "    <tr>\n",
              "      <th>2013-12-31</th>\n",
              "      <td>6600</td>\n",
              "      <td>18.60</td>\n",
              "      <td>30</td>\n",
              "      <td>6304.000000</td>\n",
              "      <td>0.002051</td>\n",
              "      <td>0.135503</td>\n",
              "      <td>8.820</td>\n",
              "      <td>33.633170</td>\n",
              "      <td>0.161481</td>\n",
              "      <td>15.08</td>\n",
              "    </tr>\n",
              "    <tr>\n",
              "      <th>...</th>\n",
              "      <td>...</td>\n",
              "      <td>...</td>\n",
              "      <td>...</td>\n",
              "      <td>...</td>\n",
              "      <td>...</td>\n",
              "      <td>...</td>\n",
              "      <td>...</td>\n",
              "      <td>...</td>\n",
              "      <td>...</td>\n",
              "      <td>...</td>\n",
              "    </tr>\n",
              "    <tr>\n",
              "      <th>2020-12-30</th>\n",
              "      <td>14050</td>\n",
              "      <td>18.40</td>\n",
              "      <td>1</td>\n",
              "      <td>13981.950195</td>\n",
              "      <td>0.003542</td>\n",
              "      <td>0.145312</td>\n",
              "      <td>5.899</td>\n",
              "      <td>21.425664</td>\n",
              "      <td>0.161295</td>\n",
              "      <td>20.79</td>\n",
              "    </tr>\n",
              "    <tr>\n",
              "      <th>2020-12-30</th>\n",
              "      <td>14100</td>\n",
              "      <td>8.15</td>\n",
              "      <td>1</td>\n",
              "      <td>13981.950195</td>\n",
              "      <td>0.003542</td>\n",
              "      <td>0.145312</td>\n",
              "      <td>5.899</td>\n",
              "      <td>10.321128</td>\n",
              "      <td>0.161295</td>\n",
              "      <td>20.79</td>\n",
              "    </tr>\n",
              "    <tr>\n",
              "      <th>2020-12-30</th>\n",
              "      <td>14150</td>\n",
              "      <td>3.30</td>\n",
              "      <td>1</td>\n",
              "      <td>13981.950195</td>\n",
              "      <td>0.003542</td>\n",
              "      <td>0.145312</td>\n",
              "      <td>5.899</td>\n",
              "      <td>4.392487</td>\n",
              "      <td>0.161295</td>\n",
              "      <td>20.79</td>\n",
              "    </tr>\n",
              "    <tr>\n",
              "      <th>2020-12-30</th>\n",
              "      <td>14200</td>\n",
              "      <td>1.90</td>\n",
              "      <td>1</td>\n",
              "      <td>13981.950195</td>\n",
              "      <td>0.003542</td>\n",
              "      <td>0.145312</td>\n",
              "      <td>5.899</td>\n",
              "      <td>1.639964</td>\n",
              "      <td>0.161295</td>\n",
              "      <td>20.79</td>\n",
              "    </tr>\n",
              "    <tr>\n",
              "      <th>2020-12-30</th>\n",
              "      <td>14250</td>\n",
              "      <td>1.15</td>\n",
              "      <td>1</td>\n",
              "      <td>13981.950195</td>\n",
              "      <td>0.003542</td>\n",
              "      <td>0.145312</td>\n",
              "      <td>5.899</td>\n",
              "      <td>0.534272</td>\n",
              "      <td>0.161295</td>\n",
              "      <td>20.79</td>\n",
              "    </tr>\n",
              "  </tbody>\n",
              "</table>\n",
              "<p>54470 rows × 10 columns</p>\n",
              "</div>"
            ],
            "text/plain": [
              "            Strike Price   Close  ...  Garch_Volatility  Price_y\n",
              "Date                              ...                           \n",
              "2013-12-31          6200  199.65  ...          0.161481    15.08\n",
              "2013-12-31          6300  131.00  ...          0.161481    15.08\n",
              "2013-12-31          6400   79.00  ...          0.161481    15.08\n",
              "2013-12-31          6500   41.35  ...          0.161481    15.08\n",
              "2013-12-31          6600   18.60  ...          0.161481    15.08\n",
              "...                  ...     ...  ...               ...      ...\n",
              "2020-12-30         14050   18.40  ...          0.161295    20.79\n",
              "2020-12-30         14100    8.15  ...          0.161295    20.79\n",
              "2020-12-30         14150    3.30  ...          0.161295    20.79\n",
              "2020-12-30         14200    1.90  ...          0.161295    20.79\n",
              "2020-12-30         14250    1.15  ...          0.161295    20.79\n",
              "\n",
              "[54470 rows x 10 columns]"
            ]
          },
          "metadata": {
            "tags": []
          },
          "execution_count": 31
        }
      ]
    },
    {
      "cell_type": "code",
      "metadata": {
        "id": "iAX54kID5R33"
      },
      "source": [
        "from sklearn.linear_model import LinearRegression\n",
        "from sklearn.metrics import mean_squared_error, mean_absolute_error\n",
        "import seaborn as sns\n",
        "x=np.array(final_call['bs_call']).reshape(-1,1)\n",
        "y=np.array(final_call['Close']).reshape(-1,1)\n",
        "reg=LinearRegression().fit(x,y)\n",
        "mae= mean_absolute_error(x,y)"
      ],
      "execution_count": null,
      "outputs": []
    },
    {
      "cell_type": "code",
      "metadata": {
        "colab": {
          "base_uri": "https://localhost:8080/"
        },
        "id": "XW917SLm7Xwe",
        "outputId": "099f2654-6d02-414f-8b6d-57f101508a57"
      },
      "source": [
        "print(reg.score(x,y),mae)"
      ],
      "execution_count": null,
      "outputs": [
        {
          "output_type": "stream",
          "text": [
            "0.9454474281762437 43.1815003745753\n"
          ],
          "name": "stdout"
        }
      ]
    },
    {
      "cell_type": "code",
      "metadata": {
        "colab": {
          "base_uri": "https://localhost:8080/"
        },
        "id": "aWJd5A4_7d6f",
        "outputId": "5418d618-5688-4508-c2ae-d3f9af5228f8"
      },
      "source": [
        "from sklearn.metrics import r2_score\n",
        "r2_score(final_call['Close'],final_call['bs_call'])"
      ],
      "execution_count": null,
      "outputs": [
        {
          "output_type": "execute_result",
          "data": {
            "text/plain": [
              "0.943948611341103"
            ]
          },
          "metadata": {
            "tags": []
          },
          "execution_count": 37
        }
      ]
    },
    {
      "cell_type": "code",
      "metadata": {
        "colab": {
          "base_uri": "https://localhost:8080/",
          "height": 282
        },
        "id": "HAD71hxE78rA",
        "outputId": "96e26583-3723-433a-8f46-6d2040f134c7"
      },
      "source": [
        "import matplotlib.pyplot as plt\n",
        "%matplotlib inline\n",
        "plt.scatter(x,y)"
      ],
      "execution_count": null,
      "outputs": [
        {
          "output_type": "execute_result",
          "data": {
            "text/plain": [
              "<matplotlib.collections.PathCollection at 0x7f0b1c336310>"
            ]
          },
          "metadata": {
            "tags": []
          },
          "execution_count": 38
        },
        {
          "output_type": "display_data",
          "data": {
            "image/png": "[encoded data removed]",
            "text/plain": [
              "<Figure size 432x288 with 1 Axes>"
            ]
          },
          "metadata": {
            "tags": [],
            "needs_background": "light"
          }
        }
      ]
    },
    {
      "cell_type": "code",
      "metadata": {
        "id": "DGrazi0V8KWy"
      },
      "source": [
        ""
      ],
      "execution_count": null,
      "outputs": []
    }
  ]
}